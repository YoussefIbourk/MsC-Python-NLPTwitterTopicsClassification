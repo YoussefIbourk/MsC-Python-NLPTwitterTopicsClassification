{
 "cells": [
  {
   "attachments": {},
   "cell_type": "markdown",
   "id": "dd634518",
   "metadata": {},
   "source": [
    "# Data Understanding\n",
    "\n",
    "### Collect initial data: Acquire the necessary data and load it into analysis tool."
   ]
  },
  {
   "cell_type": "code",
   "execution_count": 1,
   "id": "13c62370",
   "metadata": {},
   "outputs": [],
   "source": [
    "import numpy as np\n",
    "import pandas as pd\n",
    "import matplotlib.pyplot as plt\n",
    "import seaborn as sns"
   ]
  },
  {
   "cell_type": "code",
   "execution_count": 2,
   "id": "789f2507",
   "metadata": {},
   "outputs": [],
   "source": [
    "# Load JSON data into a DataFrame\n",
    "df = pd.read_json('D:/modules/Msc_Data_Science/CETM47/exam/CETM47-22_23-AS2-Data.json')"
   ]
  },
  {
   "cell_type": "code",
   "execution_count": 3,
   "id": "2eb0c1b9",
   "metadata": {},
   "outputs": [
    {
     "data": {
      "text/html": [
       "<div>\n",
       "<style scoped>\n",
       "    .dataframe tbody tr th:only-of-type {\n",
       "        vertical-align: middle;\n",
       "    }\n",
       "\n",
       "    .dataframe tbody tr th {\n",
       "        vertical-align: top;\n",
       "    }\n",
       "\n",
       "    .dataframe thead th {\n",
       "        text-align: right;\n",
       "    }\n",
       "</style>\n",
       "<table border=\"1\" class=\"dataframe\">\n",
       "  <thead>\n",
       "    <tr style=\"text-align: right;\">\n",
       "      <th></th>\n",
       "      <th>text</th>\n",
       "      <th>date</th>\n",
       "      <th>label</th>\n",
       "      <th>id</th>\n",
       "      <th>label_name</th>\n",
       "    </tr>\n",
       "  </thead>\n",
       "  <tbody>\n",
       "    <tr>\n",
       "      <th>0</th>\n",
       "      <td>The {@Clinton LumberKings@} beat the {@Cedar R...</td>\n",
       "      <td>2019-09-08</td>\n",
       "      <td>4</td>\n",
       "      <td>1170516324419866624</td>\n",
       "      <td>sports_&amp;_gaming</td>\n",
       "    </tr>\n",
       "    <tr>\n",
       "      <th>1</th>\n",
       "      <td>I would rather hear Eli Gold announce this Aub...</td>\n",
       "      <td>2019-09-08</td>\n",
       "      <td>4</td>\n",
       "      <td>1170516440690176006</td>\n",
       "      <td>sports_&amp;_gaming</td>\n",
       "    </tr>\n",
       "    <tr>\n",
       "      <th>2</th>\n",
       "      <td>Someone take my phone away, I’m trying to not ...</td>\n",
       "      <td>2019-09-08</td>\n",
       "      <td>4</td>\n",
       "      <td>1170516543387709440</td>\n",
       "      <td>sports_&amp;_gaming</td>\n",
       "    </tr>\n",
       "    <tr>\n",
       "      <th>3</th>\n",
       "      <td>A year ago, Louisville struggled to beat an FC...</td>\n",
       "      <td>2019-09-08</td>\n",
       "      <td>4</td>\n",
       "      <td>1170516620466429953</td>\n",
       "      <td>sports_&amp;_gaming</td>\n",
       "    </tr>\n",
       "    <tr>\n",
       "      <th>4</th>\n",
       "      <td>Anyone know why the #Dodgers #Orioles game nex...</td>\n",
       "      <td>2019-09-08</td>\n",
       "      <td>4</td>\n",
       "      <td>1170516711411310592</td>\n",
       "      <td>sports_&amp;_gaming</td>\n",
       "    </tr>\n",
       "    <tr>\n",
       "      <th>...</th>\n",
       "      <td>...</td>\n",
       "      <td>...</td>\n",
       "      <td>...</td>\n",
       "      <td>...</td>\n",
       "      <td>...</td>\n",
       "    </tr>\n",
       "    <tr>\n",
       "      <th>6438</th>\n",
       "      <td>Praying for {{USERNAME}} family friends riding...</td>\n",
       "      <td>2021-08-29</td>\n",
       "      <td>3</td>\n",
       "      <td>1431979856120762370</td>\n",
       "      <td>daily_life</td>\n",
       "    </tr>\n",
       "    <tr>\n",
       "      <th>6439</th>\n",
       "      <td>Etsy: {{USERNAME}} Hi there, I m sorry to hear...</td>\n",
       "      <td>2021-08-29</td>\n",
       "      <td>1</td>\n",
       "      <td>1432008666018942977</td>\n",
       "      <td>business_&amp;_entrepreneurs</td>\n",
       "    </tr>\n",
       "    <tr>\n",
       "      <th>6440</th>\n",
       "      <td>Imagine how hard it is to be a Teume. Everyone...</td>\n",
       "      <td>2021-08-29</td>\n",
       "      <td>2</td>\n",
       "      <td>1432008666803097606</td>\n",
       "      <td>pop_culture</td>\n",
       "    </tr>\n",
       "    <tr>\n",
       "      <th>6441</th>\n",
       "      <td>Ride With Me - Mental Health Awareness Charity...</td>\n",
       "      <td>2021-08-29</td>\n",
       "      <td>2</td>\n",
       "      <td>1432069101753491456</td>\n",
       "      <td>pop_culture</td>\n",
       "    </tr>\n",
       "    <tr>\n",
       "      <th>6442</th>\n",
       "      <td>Prediction: The future of CX in {@McKinsey Com...</td>\n",
       "      <td>2021-08-29</td>\n",
       "      <td>1</td>\n",
       "      <td>1432099700614774784</td>\n",
       "      <td>business_&amp;_entrepreneurs</td>\n",
       "    </tr>\n",
       "  </tbody>\n",
       "</table>\n",
       "<p>6443 rows × 5 columns</p>\n",
       "</div>"
      ],
      "text/plain": [
       "                                                   text       date  label  \\\n",
       "0     The {@Clinton LumberKings@} beat the {@Cedar R... 2019-09-08      4   \n",
       "1     I would rather hear Eli Gold announce this Aub... 2019-09-08      4   \n",
       "2     Someone take my phone away, I’m trying to not ... 2019-09-08      4   \n",
       "3     A year ago, Louisville struggled to beat an FC... 2019-09-08      4   \n",
       "4     Anyone know why the #Dodgers #Orioles game nex... 2019-09-08      4   \n",
       "...                                                 ...        ...    ...   \n",
       "6438  Praying for {{USERNAME}} family friends riding... 2021-08-29      3   \n",
       "6439  Etsy: {{USERNAME}} Hi there, I m sorry to hear... 2021-08-29      1   \n",
       "6440  Imagine how hard it is to be a Teume. Everyone... 2021-08-29      2   \n",
       "6441  Ride With Me - Mental Health Awareness Charity... 2021-08-29      2   \n",
       "6442  Prediction: The future of CX in {@McKinsey Com... 2021-08-29      1   \n",
       "\n",
       "                       id                label_name  \n",
       "0     1170516324419866624           sports_&_gaming  \n",
       "1     1170516440690176006           sports_&_gaming  \n",
       "2     1170516543387709440           sports_&_gaming  \n",
       "3     1170516620466429953           sports_&_gaming  \n",
       "4     1170516711411310592           sports_&_gaming  \n",
       "...                   ...                       ...  \n",
       "6438  1431979856120762370                daily_life  \n",
       "6439  1432008666018942977  business_&_entrepreneurs  \n",
       "6440  1432008666803097606               pop_culture  \n",
       "6441  1432069101753491456               pop_culture  \n",
       "6442  1432099700614774784  business_&_entrepreneurs  \n",
       "\n",
       "[6443 rows x 5 columns]"
      ]
     },
     "execution_count": 3,
     "metadata": {},
     "output_type": "execute_result"
    }
   ],
   "source": [
    "# Display the DataFrame\n",
    "df"
   ]
  },
  {
   "attachments": {},
   "cell_type": "markdown",
   "id": "d5c5ebb0",
   "metadata": {},
   "source": [
    "### Describe data: Examine the data and document its surface properties like data format, number of records, or field identities."
   ]
  },
  {
   "cell_type": "code",
   "execution_count": 4,
   "id": "52e0cba0",
   "metadata": {},
   "outputs": [
    {
     "data": {
      "text/plain": [
       "(6443, 5)"
      ]
     },
     "execution_count": 4,
     "metadata": {},
     "output_type": "execute_result"
    }
   ],
   "source": [
    "# Check the shape of the DataFrame\n",
    "df.shape"
   ]
  },
  {
   "cell_type": "code",
   "execution_count": 5,
   "id": "386e4eee",
   "metadata": {},
   "outputs": [
    {
     "data": {
      "text/plain": [
       "Index(['text', 'date', 'label', 'id', 'label_name'], dtype='object')"
      ]
     },
     "execution_count": 5,
     "metadata": {},
     "output_type": "execute_result"
    }
   ],
   "source": [
    "# Display the columns of the DataFrame\n",
    "df.columns"
   ]
  },
  {
   "cell_type": "code",
   "execution_count": 6,
   "id": "5355b17d",
   "metadata": {},
   "outputs": [
    {
     "data": {
      "text/plain": [
       "<bound method DataFrame.info of                                                    text       date  label  \\\n",
       "0     The {@Clinton LumberKings@} beat the {@Cedar R... 2019-09-08      4   \n",
       "1     I would rather hear Eli Gold announce this Aub... 2019-09-08      4   \n",
       "2     Someone take my phone away, I’m trying to not ... 2019-09-08      4   \n",
       "3     A year ago, Louisville struggled to beat an FC... 2019-09-08      4   \n",
       "4     Anyone know why the #Dodgers #Orioles game nex... 2019-09-08      4   \n",
       "...                                                 ...        ...    ...   \n",
       "6438  Praying for {{USERNAME}} family friends riding... 2021-08-29      3   \n",
       "6439  Etsy: {{USERNAME}} Hi there, I m sorry to hear... 2021-08-29      1   \n",
       "6440  Imagine how hard it is to be a Teume. Everyone... 2021-08-29      2   \n",
       "6441  Ride With Me - Mental Health Awareness Charity... 2021-08-29      2   \n",
       "6442  Prediction: The future of CX in {@McKinsey Com... 2021-08-29      1   \n",
       "\n",
       "                       id                label_name  \n",
       "0     1170516324419866624           sports_&_gaming  \n",
       "1     1170516440690176006           sports_&_gaming  \n",
       "2     1170516543387709440           sports_&_gaming  \n",
       "3     1170516620466429953           sports_&_gaming  \n",
       "4     1170516711411310592           sports_&_gaming  \n",
       "...                   ...                       ...  \n",
       "6438  1431979856120762370                daily_life  \n",
       "6439  1432008666018942977  business_&_entrepreneurs  \n",
       "6440  1432008666803097606               pop_culture  \n",
       "6441  1432069101753491456               pop_culture  \n",
       "6442  1432099700614774784  business_&_entrepreneurs  \n",
       "\n",
       "[6443 rows x 5 columns]>"
      ]
     },
     "execution_count": 6,
     "metadata": {},
     "output_type": "execute_result"
    }
   ],
   "source": [
    "# Display information about the DataFrame\n",
    "df.info"
   ]
  },
  {
   "cell_type": "code",
   "execution_count": 7,
   "id": "2dd184d6",
   "metadata": {},
   "outputs": [
    {
     "data": {
      "text/html": [
       "<div>\n",
       "<style scoped>\n",
       "    .dataframe tbody tr th:only-of-type {\n",
       "        vertical-align: middle;\n",
       "    }\n",
       "\n",
       "    .dataframe tbody tr th {\n",
       "        vertical-align: top;\n",
       "    }\n",
       "\n",
       "    .dataframe thead th {\n",
       "        text-align: right;\n",
       "    }\n",
       "</style>\n",
       "<table border=\"1\" class=\"dataframe\">\n",
       "  <thead>\n",
       "    <tr style=\"text-align: right;\">\n",
       "      <th></th>\n",
       "      <th>label</th>\n",
       "      <th>id</th>\n",
       "    </tr>\n",
       "  </thead>\n",
       "  <tbody>\n",
       "    <tr>\n",
       "      <th>count</th>\n",
       "      <td>6443.000000</td>\n",
       "      <td>6.443000e+03</td>\n",
       "    </tr>\n",
       "    <tr>\n",
       "      <th>mean</th>\n",
       "      <td>2.910756</td>\n",
       "      <td>1.298320e+18</td>\n",
       "    </tr>\n",
       "    <tr>\n",
       "      <th>std</th>\n",
       "      <td>1.148659</td>\n",
       "      <td>7.871683e+16</td>\n",
       "    </tr>\n",
       "    <tr>\n",
       "      <th>min</th>\n",
       "      <td>0.000000</td>\n",
       "      <td>1.170516e+18</td>\n",
       "    </tr>\n",
       "    <tr>\n",
       "      <th>25%</th>\n",
       "      <td>2.000000</td>\n",
       "      <td>1.226439e+18</td>\n",
       "    </tr>\n",
       "    <tr>\n",
       "      <th>50%</th>\n",
       "      <td>3.000000</td>\n",
       "      <td>1.300101e+18</td>\n",
       "    </tr>\n",
       "    <tr>\n",
       "      <th>75%</th>\n",
       "      <td>4.000000</td>\n",
       "      <td>1.368440e+18</td>\n",
       "    </tr>\n",
       "    <tr>\n",
       "      <th>max</th>\n",
       "      <td>5.000000</td>\n",
       "      <td>1.432129e+18</td>\n",
       "    </tr>\n",
       "  </tbody>\n",
       "</table>\n",
       "</div>"
      ],
      "text/plain": [
       "             label            id\n",
       "count  6443.000000  6.443000e+03\n",
       "mean      2.910756  1.298320e+18\n",
       "std       1.148659  7.871683e+16\n",
       "min       0.000000  1.170516e+18\n",
       "25%       2.000000  1.226439e+18\n",
       "50%       3.000000  1.300101e+18\n",
       "75%       4.000000  1.368440e+18\n",
       "max       5.000000  1.432129e+18"
      ]
     },
     "execution_count": 7,
     "metadata": {},
     "output_type": "execute_result"
    }
   ],
   "source": [
    "# Generate descriptive statistics of the DataFrame\n",
    "df.describe()"
   ]
  },
  {
   "cell_type": "code",
   "execution_count": 8,
   "id": "63a364f3",
   "metadata": {},
   "outputs": [
    {
     "data": {
      "text/plain": [
       "text          0\n",
       "date          0\n",
       "label         0\n",
       "id            0\n",
       "label_name    0\n",
       "dtype: int64"
      ]
     },
     "execution_count": 8,
     "metadata": {},
     "output_type": "execute_result"
    }
   ],
   "source": [
    "# Check for missing values in the DataFrame\n",
    "df.isnull().sum()"
   ]
  },
  {
   "attachments": {},
   "cell_type": "markdown",
   "id": "12e3e17d",
   "metadata": {},
   "source": [
    "# DATA VISUALIZATION"
   ]
  },
  {
   "attachments": {},
   "cell_type": "markdown",
   "id": "afae8639",
   "metadata": {},
   "source": [
    "### Explore data: Dig deeper into the data. Query it, visualize it, and identify relationships among the data.\n"
   ]
  },
  {
   "attachments": {},
   "cell_type": "markdown",
   "id": "f1a64ff4",
   "metadata": {},
   "source": [
    "## Distribution of Labels"
   ]
  },
  {
   "cell_type": "code",
   "execution_count": 9,
   "id": "187b724c",
   "metadata": {},
   "outputs": [
    {
     "data": {
      "image/png": "[encoded data removed]",
      "text/plain": [
       "<Figure size 720x432 with 1 Axes>"
      ]
     },
     "metadata": {
      "needs_background": "light"
     },
     "output_type": "display_data"
    }
   ],
   "source": [
    "# Plot count of label names using seaborn countplot\n",
    "plt.figure(figsize=(10, 6))\n",
    "sns.countplot(data=df, x='label_name')\n",
    "plt.title('Count of Label Name')\n",
    "plt.xticks(rotation=45)\n",
    "plt.show()"
   ]
  },
  {
   "cell_type": "code",
   "execution_count": 10,
   "id": "2c32c5fc",
   "metadata": {},
   "outputs": [
    {
     "data": {
      "image/png": "[encoded data removed]",
      "text/plain": [
       "<Figure size 432x288 with 1 Axes>"
      ]
     },
     "metadata": {},
     "output_type": "display_data"
    }
   ],
   "source": [
    "# Calculate the total count of label names\n",
    "total = df['label_name'].value_counts().values.sum()\n",
    "\n",
    "# format the label and percentage for the pie chart\n",
    "def fmt(x):\n",
    "    return '{:.1f}%\\n{:.0f}'.format(x, total*x/100)\n",
    "\n",
    "# Plot distribution of label names using a pie chart\n",
    "plt.title('Distribution of Label Name',y=1.7, fontname=\"Times New Roman\", size=30,fontweight=\"bold\")\n",
    "plt.pie(df['label_name'].value_counts().values, labels=df['label_name'].value_counts().index, autopct=fmt,radius=2.7)\n",
    "# plt.figure(figsize=(20, 6))\n",
    "plt.show()"
   ]
  },
  {
   "cell_type": "code",
   "execution_count": 11,
   "id": "e2991d51",
   "metadata": {},
   "outputs": [],
   "source": [
    "# df1=df.head(1000)\n",
    "# plt.plot(df1['label_name'],df1['text'])\n",
    "# plt.figure(figsize=(10,18))"
   ]
  },
  {
   "attachments": {},
   "cell_type": "markdown",
   "id": "652df382",
   "metadata": {},
   "source": [
    "# WORD CLOUD"
   ]
  },
  {
   "cell_type": "code",
   "execution_count": 12,
   "id": "97f9b403",
   "metadata": {},
   "outputs": [],
   "source": [
    "from wordcloud import WordCloud"
   ]
  },
  {
   "cell_type": "code",
   "execution_count": 13,
   "id": "f158add7",
   "metadata": {},
   "outputs": [
    {
     "data": {
      "text/plain": [
       "text          0\n",
       "date          0\n",
       "label         0\n",
       "id            0\n",
       "label_name    0\n",
       "dtype: int64"
      ]
     },
     "execution_count": 13,
     "metadata": {},
     "output_type": "execute_result"
    }
   ],
   "source": [
    "df.isna().sum()"
   ]
  },
  {
   "cell_type": "code",
   "execution_count": 14,
   "id": "b06dec31",
   "metadata": {},
   "outputs": [],
   "source": [
    "text = \" \".join(df.label_name)"
   ]
  },
  {
   "cell_type": "code",
   "execution_count": 15,
   "id": "9c9c0b67",
   "metadata": {},
   "outputs": [
    {
     "data": {
      "text/plain": [
       "'sports_&_gaming sports_&_gaming sports_&_gaming sports_&_gaming sports_&_gaming sports_&_gaming sports_&_gaming sports_&_gaming sports_&_gaming sports_&_gaming sports_&_gaming sports_&_gaming sports_&_gaming sports_&_gaming sports_&_gaming sports_&_gaming sports_&_gaming sports_&_gaming sports_&_gaming sports_&_gaming sports_&_gaming pop_culture sports_&_gaming sports_&_gaming sports_&_gaming sports_&_gaming sports_&_gaming sports_&_gaming sports_&_gaming sports_&_gaming sports_&_gaming sports_&_gaming sports_&_gaming sports_&_gaming sports_&_gaming sports_&_gaming sports_&_gaming sports_&_gaming sports_&_gaming sports_&_gaming sports_&_gaming sports_&_gaming sports_&_gaming sports_&_gaming sports_&_gaming sports_&_gaming sports_&_gaming sports_&_gaming sports_&_gaming sports_&_gaming sports_&_gaming sports_&_gaming sports_&_gaming sports_&_gaming sports_&_gaming sports_&_gaming sports_&_gaming sports_&_gaming sports_&_gaming sports_&_gaming sports_&_gaming sports_&_gaming sports_&_gaming sports_&_gaming sports_&_gaming sports_&_gaming sports_&_gaming sports_&_gaming sports_&_gaming sports_&_gaming sports_&_gaming sports_&_gaming sports_&_gaming sports_&_gaming sports_&_gaming sports_&_gaming sports_&_gaming sports_&_gaming sports_&_gaming sports_&_gaming sports_&_gaming sports_&_gaming sports_&_gaming sports_&_gaming sports_&_gaming sports_&_gaming sports_&_gaming sports_&_gaming sports_&_gaming sports_&_gaming sports_&_gaming sports_&_gaming sports_&_gaming sports_&_gaming sports_&_gaming sports_&_gaming sports_&_gaming sports_&_gaming sports_&_gaming sports_&_gaming sports_&_gaming sports_&_gaming sports_&_gaming pop_culture daily_life sports_&_gaming sports_&_gaming sports_&_gaming sports_&_gaming business_&_entrepreneurs sports_&_gaming sports_&_gaming sports_&_gaming sports_&_gaming sports_&_gaming sports_&_gaming sports_&_gaming sports_&_gaming sports_&_gaming sports_&_gaming sports_&_gaming sports_&_gaming sports_&_gaming pop_culture sports_&_gaming sports_&_gaming sports_&_gaming sports_&_gaming sports_&_gaming sports_&_gaming sports_&_gaming pop_culture pop_culture science_&_technology pop_culture pop_culture pop_culture sports_&_gaming sports_&_gaming pop_culture sports_&_gaming science_&_technology science_&_technology sports_&_gaming pop_culture pop_culture sports_&_gaming pop_culture science_&_technology sports_&_gaming business_&_entrepreneurs pop_culture daily_life sports_&_gaming science_&_technology science_&_technology pop_culture pop_culture science_&_technology pop_culture pop_culture science_&_technology pop_culture science_&_technology science_&_technology science_&_technology science_&_technology arts_&_culture science_&_technology science_&_technology science_&_technology science_&_technology science_&_technology science_&_technology science_&_technology science_&_technology science_&_technology sports_&_gaming pop_culture science_&_technology science_&_technology pop_culture science_&_technology pop_culture science_&_technology science_&_technology science_&_technology pop_culture science_&_technology science_&_technology daily_life science_&_technology science_&_technology arts_&_culture science_&_technology science_&_technology science_&_technology science_&_technology pop_culture science_&_technology pop_culture science_&_technology science_&_technology science_&_technology science_&_technology sports_&_gaming science_&_technology science_&_technology science_&_technology science_&_technology science_&_technology sports_&_gaming science_&_technology pop_culture science_&_technology sports_&_gaming science_&_technology pop_culture sports_&_gaming pop_culture science_&_technology science_&_technology science_&_technology pop_culture science_&_technology pop_culture pop_culture pop_culture science_&_technology science_&_technology daily_life daily_life science_&_technology pop_culture business_&_entrepreneurs pop_culture daily_life science_&_technology pop_culture pop_culture business_&_entrepreneurs pop_culture sports_&_gaming business_&_entrepreneurs daily_life daily_life sports_&_gaming business_&_entrepreneurs business_&_entrepreneurs sports_&_gaming business_&_entrepreneurs sports_&_gaming sports_&_gaming sports_&_gaming sports_&_gaming daily_life science_&_technology sports_&_gaming sports_&_gaming daily_life sports_&_gaming daily_life sports_&_gaming sports_&_gaming daily_life pop_culture pop_culture sports_&_gaming daily_life daily_life sports_&_gaming pop_culture sports_&_gaming daily_life daily_life sports_&_gaming pop_culture science_&_technology arts_&_culture business_&_entrepreneurs pop_culture daily_life sports_&_gaming sports_&_gaming pop_culture pop_culture pop_culture daily_life daily_life pop_culture pop_culture sports_&_gaming sports_&_gaming sports_&_gaming arts_&_culture sports_&_gaming pop_culture sports_&_gaming pop_culture sports_&_gaming pop_culture science_&_technology pop_culture sports_&_gaming daily_life pop_culture sports_&_gaming sports_&_gaming sports_&_gaming sports_&_gaming pop_culture sports_&_gaming sports_&_gaming science_&_technology pop_culture pop_culture daily_life sports_&_gaming sports_&_gaming sports_&_gaming daily_life sports_&_gaming pop_culture sports_&_gaming sports_&_gaming pop_culture pop_culture science_&_technology pop_culture pop_culture sports_&_gaming pop_culture pop_culture pop_culture pop_culture pop_culture pop_culture pop_culture pop_culture pop_culture pop_culture pop_culture sports_&_gaming pop_culture pop_culture pop_culture sports_&_gaming pop_culture pop_culture pop_culture science_&_technology science_&_technology daily_life pop_culture pop_culture pop_culture sports_&_gaming pop_culture sports_&_gaming pop_culture pop_culture pop_culture pop_culture pop_culture pop_culture sports_&_gaming sports_&_gaming sports_&_gaming daily_life sports_&_gaming pop_culture sports_&_gaming pop_culture sports_&_gaming pop_culture pop_culture sports_&_gaming pop_culture pop_culture sports_&_gaming science_&_technology sports_&_gaming daily_life pop_culture pop_culture pop_culture daily_life pop_culture pop_culture pop_culture sports_&_gaming sports_&_gaming sports_&_gaming sports_&_gaming sports_&_gaming sports_&_gaming sports_&_gaming sports_&_gaming daily_life pop_culture sports_&_gaming sports_&_gaming pop_culture pop_culture sports_&_gaming sports_&_gaming pop_culture pop_culture daily_life sports_&_gaming daily_life pop_culture daily_life sports_&_gaming pop_culture business_&_entrepreneurs pop_culture pop_culture sports_&_gaming sports_&_gaming arts_&_culture sports_&_gaming sports_&_gaming pop_culture science_&_technology sports_&_gaming daily_life sports_&_gaming business_&_entrepreneurs pop_culture sports_&_gaming pop_culture pop_culture pop_culture sports_&_gaming pop_culture daily_life sports_&_gaming daily_life pop_culture sports_&_gaming pop_culture pop_culture sports_&_gaming daily_life pop_culture sports_&_gaming daily_life sports_&_gaming pop_culture sports_&_gaming science_&_technology sports_&_gaming pop_culture pop_culture sports_&_gaming pop_culture pop_culture pop_culture daily_life sports_&_gaming pop_culture sports_&_gaming pop_culture pop_culture sports_&_gaming pop_culture science_&_technology arts_&_culture business_&_entrepreneurs business_&_entrepreneurs pop_culture business_&_entrepreneurs pop_culture pop_culture business_&_entrepreneurs daily_life business_&_entrepreneurs business_&_entrepreneurs pop_culture sports_&_gaming sports_&_gaming sports_&_gaming pop_culture pop_culture pop_culture sports_&_gaming business_&_entrepreneurs pop_culture sports_&_gaming pop_culture sports_&_gaming arts_&_culture sports_&_gaming sports_&_gaming pop_culture sports_&_gaming pop_culture sports_&_gaming pop_culture sports_&_gaming sports_&_gaming science_&_technology daily_life sports_&_gaming pop_culture sports_&_gaming sports_&_gaming daily_life sports_&_gaming pop_culture daily_life sports_&_gaming daily_life daily_life sports_&_gaming daily_life sports_&_gaming daily_life sports_&_gaming pop_culture daily_life daily_life sports_&_gaming daily_life pop_culture pop_culture sports_&_gaming sports_&_gaming sports_&_gaming sports_&_gaming pop_culture sports_&_gaming sports_&_gaming sports_&_gaming sports_&_gaming pop_culture pop_culture business_&_entrepreneurs pop_culture arts_&_culture pop_culture science_&_technology daily_life sports_&_gaming sports_&_gaming sports_&_gaming sports_&_gaming pop_culture sports_&_gaming pop_culture sports_&_gaming sports_&_gaming science_&_technology daily_life science_&_technology pop_culture daily_life pop_culture sports_&_gaming sports_&_gaming sports_&_gaming sports_&_gaming sports_&_gaming pop_culture daily_life pop_culture sports_&_gaming sports_&_gaming sports_&_gaming daily_life pop_culture sports_&_gaming pop_culture daily_life sports_&_gaming pop_culture pop_culture daily_life pop_culture daily_life daily_life daily_life sports_&_gaming sports_&_gaming daily_life pop_culture pop_culture pop_culture pop_culture pop_culture business_&_entrepreneurs daily_life pop_culture daily_life pop_culture daily_life pop_culture pop_culture daily_life sports_&_gaming sports_&_gaming daily_life daily_life daily_life sports_&_gaming sports_&_gaming sports_&_gaming sports_&_gaming sports_&_gaming sports_&_gaming daily_life sports_&_gaming pop_culture sports_&_gaming sports_&_gaming daily_life sports_&_gaming sports_&_gaming business_&_entrepreneurs sports_&_gaming pop_culture sports_&_gaming sports_&_gaming pop_culture sports_&_gaming pop_culture pop_culture pop_culture pop_culture pop_culture pop_culture pop_culture pop_culture pop_culture pop_culture pop_culture pop_culture pop_culture pop_culture pop_culture science_&_technology pop_culture pop_culture pop_culture pop_culture pop_culture pop_culture pop_culture pop_culture pop_culture pop_culture pop_culture sports_&_gaming pop_culture pop_culture pop_culture pop_culture pop_culture pop_culture pop_culture pop_culture pop_culture pop_culture pop_culture pop_culture pop_culture pop_culture pop_culture pop_culture pop_culture pop_culture pop_culture arts_&_culture pop_culture pop_culture pop_culture pop_culture pop_culture pop_culture pop_culture pop_culture pop_culture pop_culture science_&_technology daily_life pop_culture pop_culture pop_culture daily_life pop_culture pop_culture pop_culture sports_&_gaming pop_culture sports_&_gaming sports_&_gaming daily_life sports_&_gaming sports_&_gaming sports_&_gaming pop_culture sports_&_gaming pop_culture daily_life sports_&_gaming sports_&_gaming pop_culture sports_&_gaming sports_&_gaming daily_life sports_&_gaming daily_life daily_life sports_&_gaming pop_culture sports_&_gaming sports_&_gaming sports_&_gaming pop_culture sports_&_gaming daily_life sports_&_gaming sports_&_gaming daily_life sports_&_gaming sports_&_gaming sports_&_gaming pop_culture sports_&_gaming pop_culture sports_&_gaming sports_&_gaming sports_&_gaming pop_culture sports_&_gaming sports_&_gaming pop_culture sports_&_gaming pop_culture pop_culture sports_&_gaming sports_&_gaming sports_&_gaming pop_culture pop_culture pop_culture pop_culture pop_culture pop_culture pop_culture pop_culture pop_culture pop_culture sports_&_gaming pop_culture pop_culture pop_culture sports_&_gaming pop_culture sports_&_gaming pop_culture pop_culture pop_culture pop_culture pop_culture pop_culture pop_culture pop_culture sports_&_gaming pop_culture sports_&_gaming pop_culture pop_culture pop_culture pop_culture sports_&_gaming sports_&_gaming pop_culture pop_culture sports_&_gaming sports_&_gaming pop_culture pop_culture daily_life pop_culture pop_culture sports_&_gaming pop_culture pop_culture pop_culture pop_culture pop_culture sports_&_gaming sports_&_gaming pop_culture sports_&_gaming pop_culture pop_culture pop_culture pop_culture sports_&_gaming pop_culture pop_culture pop_culture pop_culture pop_culture pop_culture pop_culture pop_culture pop_culture sports_&_gaming daily_life pop_culture pop_culture pop_culture daily_life pop_culture pop_culture pop_culture daily_life pop_culture pop_culture pop_culture sports_&_gaming pop_culture daily_life pop_culture sports_&_gaming arts_&_culture sports_&_gaming business_&_entrepreneurs pop_culture pop_culture business_&_entrepreneurs pop_culture daily_life pop_culture pop_culture sports_&_gaming daily_life daily_life sports_&_gaming sports_&_gaming pop_culture daily_life business_&_entrepreneurs pop_culture sports_&_gaming science_&_technology pop_culture sports_&_gaming pop_culture business_&_entrepreneurs daily_life sports_&_gaming pop_culture pop_culture sports_&_gaming sports_&_gaming sports_&_gaming pop_culture sports_&_gaming sports_&_gaming sports_&_gaming sports_&_gaming sports_&_gaming pop_culture sports_&_gaming pop_culture sports_&_gaming pop_culture sports_&_gaming sports_&_gaming sports_&_gaming sports_&_gaming pop_culture sports_&_gaming sports_&_gaming pop_culture pop_culture pop_culture pop_culture sports_&_gaming sports_&_gaming sports_&_gaming sports_&_gaming sports_&_gaming sports_&_gaming sports_&_gaming pop_culture sports_&_gaming daily_life sports_&_gaming pop_culture pop_culture pop_culture pop_culture pop_culture pop_culture pop_culture pop_culture pop_culture pop_culture pop_culture pop_culture pop_culture pop_culture pop_culture sports_&_gaming pop_culture pop_culture pop_culture pop_culture pop_culture pop_culture pop_culture pop_culture sports_&_gaming sports_&_gaming daily_life sports_&_gaming sports_&_gaming sports_&_gaming pop_culture sports_&_gaming sports_&_gaming pop_culture sports_&_gaming sports_&_gaming sports_&_gaming sports_&_gaming pop_culture sports_&_gaming sports_&_gaming sports_&_gaming pop_culture sports_&_gaming sports_&_gaming sports_&_gaming sports_&_gaming sports_&_gaming pop_culture sports_&_gaming sports_&_gaming pop_culture sports_&_gaming sports_&_gaming pop_culture pop_culture pop_culture sports_&_gaming pop_culture sports_&_gaming pop_culture pop_culture pop_culture pop_culture daily_life sports_&_gaming sports_&_gaming pop_culture pop_culture sports_&_gaming sports_&_gaming pop_culture pop_culture pop_culture sports_&_gaming daily_life science_&_technology pop_culture pop_culture sports_&_gaming sports_&_gaming pop_culture pop_culture daily_life daily_life pop_culture pop_culture sports_&_gaming business_&_entrepreneurs pop_culture pop_culture pop_culture pop_culture sports_&_gaming sports_&_gaming pop_culture sports_&_gaming sports_&_gaming pop_culture daily_life sports_&_gaming pop_culture arts_&_culture pop_culture daily_life daily_life business_&_entrepreneurs sports_&_gaming pop_culture business_&_entrepreneurs daily_life arts_&_culture pop_culture daily_life pop_culture pop_culture pop_culture pop_culture pop_culture pop_culture pop_culture daily_life sports_&_gaming sports_&_gaming sports_&_gaming sports_&_gaming pop_culture pop_culture pop_culture daily_life daily_life daily_life pop_culture sports_&_gaming daily_life pop_culture daily_life pop_culture pop_culture sports_&_gaming pop_culture sports_&_gaming pop_culture pop_culture pop_culture pop_culture pop_culture sports_&_gaming pop_culture sports_&_gaming sports_&_gaming pop_culture pop_culture sports_&_gaming sports_&_gaming pop_culture sports_&_gaming sports_&_gaming pop_culture sports_&_gaming pop_culture pop_culture pop_culture pop_culture pop_culture pop_culture pop_culture sports_&_gaming pop_culture pop_culture sports_&_gaming pop_culture pop_culture sports_&_gaming sports_&_gaming pop_culture pop_culture science_&_technology pop_culture pop_culture daily_life pop_culture sports_&_gaming pop_culture sports_&_gaming sports_&_gaming business_&_entrepreneurs sports_&_gaming sports_&_gaming sports_&_gaming sports_&_gaming sports_&_gaming sports_&_gaming sports_&_gaming pop_culture pop_culture pop_culture pop_culture pop_culture sports_&_gaming sports_&_gaming pop_culture sports_&_gaming pop_culture pop_culture sports_&_gaming science_&_technology daily_life science_&_technology pop_culture sports_&_gaming pop_culture sports_&_gaming sports_&_gaming pop_culture daily_life sports_&_gaming daily_life pop_culture pop_culture daily_life sports_&_gaming sports_&_gaming daily_life daily_life daily_life pop_culture daily_life daily_life daily_life sports_&_gaming sports_&_gaming sports_&_gaming sports_&_gaming sports_&_gaming pop_culture pop_culture sports_&_gaming pop_culture pop_culture daily_life sports_&_gaming daily_life daily_life pop_culture daily_life pop_culture sports_&_gaming sports_&_gaming daily_life sports_&_gaming pop_culture pop_culture pop_culture pop_culture sports_&_gaming sports_&_gaming sports_&_gaming sports_&_gaming daily_life pop_culture pop_culture business_&_entrepreneurs sports_&_gaming pop_culture sports_&_gaming pop_culture arts_&_culture science_&_technology sports_&_gaming arts_&_culture pop_culture pop_culture pop_culture pop_culture sports_&_gaming daily_life science_&_technology arts_&_culture pop_culture pop_culture sports_&_gaming business_&_entrepreneurs pop_culture science_&_technology daily_life pop_culture sports_&_gaming business_&_entrepreneurs pop_culture pop_culture sports_&_gaming pop_culture sports_&_gaming sports_&_gaming pop_culture arts_&_culture pop_culture sports_&_gaming sports_&_gaming sports_&_gaming pop_culture pop_culture pop_culture sports_&_gaming daily_life sports_&_gaming daily_life daily_life sports_&_gaming sports_&_gaming sports_&_gaming sports_&_gaming sports_&_gaming arts_&_culture sports_&_gaming sports_&_gaming pop_culture arts_&_culture sports_&_gaming business_&_entrepreneurs sports_&_gaming business_&_entrepreneurs business_&_entrepreneurs sports_&_gaming sports_&_gaming sports_&_gaming sports_&_gaming business_&_entrepreneurs sports_&_gaming sports_&_gaming pop_culture sports_&_gaming sports_&_gaming sports_&_gaming pop_culture sports_&_gaming sports_&_gaming sports_&_gaming pop_culture sports_&_gaming sports_&_gaming daily_life sports_&_gaming sports_&_gaming pop_culture sports_&_gaming pop_culture sports_&_gaming sports_&_gaming sports_&_gaming pop_culture sports_&_gaming pop_culture pop_culture pop_culture pop_culture pop_culture sports_&_gaming pop_culture sports_&_gaming pop_culture science_&_technology pop_culture pop_culture pop_culture sports_&_gaming sports_&_gaming pop_culture pop_culture sports_&_gaming pop_culture sports_&_gaming pop_culture daily_life sports_&_gaming sports_&_gaming sports_&_gaming sports_&_gaming sports_&_gaming pop_culture sports_&_gaming sports_&_gaming sports_&_gaming sports_&_gaming pop_culture pop_culture sports_&_gaming daily_life daily_life pop_culture sports_&_gaming pop_culture pop_culture daily_life business_&_entrepreneurs business_&_entrepreneurs business_&_entrepreneurs pop_culture pop_culture sports_&_gaming pop_culture pop_culture business_&_entrepreneurs daily_life sports_&_gaming business_&_entrepreneurs pop_culture sports_&_gaming daily_life daily_life business_&_entrepreneurs pop_culture daily_life daily_life pop_culture sports_&_gaming daily_life science_&_technology daily_life pop_culture daily_life science_&_technology science_&_technology daily_life pop_culture daily_life sports_&_gaming sports_&_gaming sports_&_gaming sports_&_gaming sports_&_gaming sports_&_gaming sports_&_gaming sports_&_gaming sports_&_gaming sports_&_gaming sports_&_gaming sports_&_gaming sports_&_gaming sports_&_gaming sports_&_gaming sports_&_gaming sports_&_gaming sports_&_gaming sports_&_gaming sports_&_gaming sports_&_gaming pop_culture pop_culture daily_life sports_&_gaming daily_life sports_&_gaming sports_&_gaming pop_culture daily_life sports_&_gaming pop_culture pop_culture sports_&_gaming daily_life daily_life daily_life sports_&_gaming business_&_entrepreneurs sports_&_gaming pop_culture business_&_entrepreneurs sports_&_gaming sports_&_gaming pop_culture sports_&_gaming sports_&_gaming sports_&_gaming sports_&_gaming pop_culture sports_&_gaming sports_&_gaming sports_&_gaming sports_&_gaming sports_&_gaming sports_&_gaming sports_&_gaming sports_&_gaming sports_&_gaming sports_&_gaming sports_&_gaming sports_&_gaming pop_culture sports_&_gaming sports_&_gaming sports_&_gaming sports_&_gaming sports_&_gaming sports_&_gaming sports_&_gaming sports_&_gaming sports_&_gaming sports_&_gaming pop_culture sports_&_gaming pop_culture sports_&_gaming sports_&_gaming sports_&_gaming pop_culture sports_&_gaming pop_culture sports_&_gaming sports_&_gaming sports_&_gaming sports_&_gaming pop_culture pop_culture sports_&_gaming pop_culture sports_&_gaming pop_culture pop_culture pop_culture pop_culture pop_culture pop_culture sports_&_gaming sports_&_gaming sports_&_gaming sports_&_gaming pop_culture pop_culture pop_culture sports_&_gaming pop_culture pop_culture pop_culture pop_culture pop_culture sports_&_gaming sports_&_gaming sports_&_gaming sports_&_gaming sports_&_gaming sports_&_gaming sports_&_gaming pop_culture sports_&_gaming sports_&_gaming sports_&_gaming sports_&_gaming sports_&_gaming sports_&_gaming sports_&_gaming sports_&_gaming pop_culture pop_culture sports_&_gaming sports_&_gaming sports_&_gaming sports_&_gaming sports_&_gaming sports_&_gaming pop_culture sports_&_gaming sports_&_gaming sports_&_gaming pop_culture sports_&_gaming sports_&_gaming sports_&_gaming sports_&_gaming pop_culture sports_&_gaming sports_&_gaming pop_culture sports_&_gaming pop_culture sports_&_gaming pop_culture sports_&_gaming pop_culture sports_&_gaming sports_&_gaming pop_culture sports_&_gaming pop_culture sports_&_gaming pop_culture pop_culture pop_culture sports_&_gaming pop_culture pop_culture sports_&_gaming sports_&_gaming pop_culture pop_culture pop_culture pop_culture pop_culture daily_life pop_culture science_&_technology daily_life pop_culture daily_life sports_&_gaming pop_culture pop_culture daily_life pop_culture pop_culture daily_life daily_life pop_culture science_&_technology daily_life pop_culture pop_culture daily_life daily_life science_&_technology business_&_entrepreneurs daily_life science_&_technology science_&_technology daily_life science_&_technology pop_culture pop_culture daily_life daily_life daily_life sports_&_gaming sports_&_gaming sports_&_gaming science_&_technology pop_culture pop_culture pop_culture sports_&_gaming pop_culture daily_life science_&_technology science_&_technology pop_culture daily_life science_&_technology sports_&_gaming sports_&_gaming sports_&_gaming pop_culture pop_culture sports_&_gaming sports_&_gaming daily_life pop_culture pop_culture sports_&_gaming sports_&_gaming sports_&_gaming sports_&_gaming sports_&_gaming sports_&_gaming sports_&_gaming sports_&_gaming sports_&_gaming sports_&_gaming pop_culture sports_&_gaming pop_culture daily_life sports_&_gaming business_&_entrepreneurs sports_&_gaming sports_&_gaming sports_&_gaming pop_culture pop_culture pop_culture sports_&_gaming sports_&_gaming pop_culture sports_&_gaming sports_&_gaming sports_&_gaming sports_&_gaming sports_&_gaming sports_&_gaming sports_&_gaming pop_culture sports_&_gaming pop_culture sports_&_gaming sports_&_gaming sports_&_gaming sports_&_gaming sports_&_gaming sports_&_gaming pop_culture sports_&_gaming sports_&_gaming sports_&_gaming arts_&_culture sports_&_gaming sports_&_gaming sports_&_gaming sports_&_gaming sports_&_gaming sports_&_gaming sports_&_gaming daily_life daily_life sports_&_gaming sports_&_gaming sports_&_gaming sports_&_gaming sports_&_gaming science_&_technology sports_&_gaming sports_&_gaming daily_life sports_&_gaming daily_life business_&_entrepreneurs sports_&_gaming pop_culture sports_&_gaming daily_life daily_life pop_culture pop_culture pop_culture pop_culture sports_&_gaming pop_culture pop_culture pop_culture sports_&_gaming pop_culture sports_&_gaming pop_culture pop_culture pop_culture pop_culture pop_culture pop_culture sports_&_gaming daily_life business_&_entrepreneurs pop_culture daily_life pop_culture business_&_entrepreneurs pop_culture arts_&_culture pop_culture business_&_entrepreneurs pop_culture sports_&_gaming pop_culture pop_culture daily_life sports_&_gaming pop_culture arts_&_culture pop_culture sports_&_gaming sports_&_gaming science_&_technology sports_&_gaming sports_&_gaming pop_culture pop_culture pop_culture pop_culture daily_life daily_life daily_life daily_life sports_&_gaming sports_&_gaming sports_&_gaming daily_life sports_&_gaming sports_&_gaming sports_&_gaming daily_life sports_&_gaming daily_life sports_&_gaming daily_life daily_life sports_&_gaming daily_life daily_life arts_&_culture sports_&_gaming daily_life sports_&_gaming daily_life daily_life daily_life sports_&_gaming daily_life sports_&_gaming daily_life daily_life sports_&_gaming daily_life daily_life pop_culture daily_life daily_life daily_life daily_life daily_life daily_life sports_&_gaming daily_life sports_&_gaming daily_life daily_life sports_&_gaming sports_&_gaming daily_life sports_&_gaming daily_life sports_&_gaming science_&_technology sports_&_gaming science_&_technology science_&_technology pop_culture pop_culture business_&_entrepreneurs daily_life sports_&_gaming business_&_entrepreneurs business_&_entrepreneurs daily_life pop_culture business_&_entrepreneurs daily_life business_&_entrepreneurs daily_life business_&_entrepreneurs business_&_entrepreneurs pop_culture daily_life daily_life daily_life daily_life daily_life daily_life sports_&_gaming daily_life business_&_entrepreneurs business_&_entrepreneurs daily_life business_&_entrepreneurs business_&_entrepreneurs daily_life daily_life sports_&_gaming sports_&_gaming daily_life sports_&_gaming sports_&_gaming business_&_entrepreneurs daily_life business_&_entrepreneurs science_&_technology science_&_technology daily_life daily_life daily_life daily_life daily_life business_&_entrepreneurs daily_life daily_life daily_life pop_culture daily_life pop_culture daily_life pop_culture daily_life daily_life sports_&_gaming sports_&_gaming sports_&_gaming sports_&_gaming daily_life science_&_technology pop_culture daily_life sports_&_gaming pop_culture business_&_entrepreneurs daily_life business_&_entrepreneurs sports_&_gaming pop_culture pop_culture pop_culture pop_culture pop_culture pop_culture pop_culture pop_culture business_&_entrepreneurs pop_culture daily_life pop_culture daily_life pop_culture pop_culture pop_culture pop_culture sports_&_gaming pop_culture pop_culture pop_culture pop_culture pop_culture science_&_technology pop_culture pop_culture pop_culture pop_culture pop_culture pop_culture daily_life pop_culture pop_culture pop_culture pop_culture pop_culture science_&_technology pop_culture pop_culture pop_culture pop_culture pop_culture pop_culture pop_culture pop_culture pop_culture pop_culture pop_culture pop_culture pop_culture pop_culture pop_culture pop_culture pop_culture pop_culture pop_culture business_&_entrepreneurs pop_culture pop_culture pop_culture pop_culture pop_culture daily_life pop_culture pop_culture pop_culture science_&_technology daily_life pop_culture pop_culture pop_culture pop_culture pop_culture pop_culture pop_culture pop_culture daily_life sports_&_gaming pop_culture pop_culture pop_culture business_&_entrepreneurs pop_culture pop_culture pop_culture pop_culture pop_culture pop_culture science_&_technology pop_culture business_&_entrepreneurs pop_culture pop_culture daily_life arts_&_culture daily_life business_&_entrepreneurs arts_&_culture daily_life business_&_entrepreneurs daily_life daily_life daily_life daily_life daily_life daily_life daily_life daily_life business_&_entrepreneurs daily_life daily_life pop_culture arts_&_culture daily_life daily_life arts_&_culture daily_life daily_life daily_life daily_life arts_&_culture daily_life arts_&_culture daily_life daily_life daily_life daily_life daily_life daily_life daily_life daily_life pop_culture daily_life sports_&_gaming pop_culture pop_culture daily_life sports_&_gaming pop_culture pop_culture sports_&_gaming pop_culture pop_culture pop_culture pop_culture pop_culture pop_culture pop_culture pop_culture pop_culture pop_culture pop_culture pop_culture pop_culture pop_culture pop_culture arts_&_culture pop_culture pop_culture business_&_entrepreneurs pop_culture pop_culture pop_culture pop_culture business_&_entrepreneurs pop_culture pop_culture pop_culture business_&_entrepreneurs daily_life business_&_entrepreneurs daily_life pop_culture pop_culture arts_&_culture sports_&_gaming pop_culture business_&_entrepreneurs pop_culture pop_culture daily_life arts_&_culture science_&_technology pop_culture pop_culture pop_culture pop_culture pop_culture business_&_entrepreneurs pop_culture business_&_entrepreneurs pop_culture science_&_technology pop_culture science_&_technology pop_culture daily_life sports_&_gaming science_&_technology sports_&_gaming pop_culture pop_culture sports_&_gaming pop_culture sports_&_gaming daily_life daily_life pop_culture daily_life daily_life sports_&_gaming daily_life sports_&_gaming daily_life sports_&_gaming daily_life science_&_technology pop_culture pop_culture pop_culture science_&_technology daily_life daily_life daily_life daily_life pop_culture daily_life arts_&_culture sports_&_gaming daily_life pop_culture sports_&_gaming daily_life daily_life daily_life daily_life pop_culture daily_life daily_life daily_life pop_culture daily_life daily_life pop_culture daily_life daily_life daily_life daily_life business_&_entrepreneurs pop_culture pop_culture daily_life pop_culture science_&_technology pop_culture pop_culture pop_culture pop_culture daily_life pop_culture pop_culture pop_culture pop_culture pop_culture pop_culture pop_culture daily_life pop_culture pop_culture pop_culture pop_culture sports_&_gaming pop_culture business_&_entrepreneurs pop_culture daily_life business_&_entrepreneurs pop_culture pop_culture business_&_entrepreneurs pop_culture pop_culture pop_culture sports_&_gaming pop_culture pop_culture pop_culture science_&_technology daily_life daily_life sports_&_gaming sports_&_gaming pop_culture daily_life science_&_technology business_&_entrepreneurs pop_culture pop_culture daily_life sports_&_gaming sports_&_gaming pop_culture daily_life daily_life daily_life daily_life daily_life daily_life daily_life daily_life daily_life sports_&_gaming daily_life daily_life daily_life science_&_technology daily_life daily_life sports_&_gaming sports_&_gaming sports_&_gaming daily_life daily_life daily_life daily_life daily_life daily_life daily_life daily_life daily_life business_&_entrepreneurs daily_life daily_life daily_life daily_life sports_&_gaming daily_life daily_life sports_&_gaming daily_life daily_life sports_&_gaming daily_life sports_&_gaming daily_life sports_&_gaming sports_&_gaming daily_life business_&_entrepreneurs pop_culture pop_culture pop_culture pop_culture pop_culture daily_life pop_culture pop_culture daily_life pop_culture pop_culture pop_culture pop_culture daily_life daily_life sports_&_gaming pop_culture pop_culture pop_culture sports_&_gaming sports_&_gaming sports_&_gaming sports_&_gaming sports_&_gaming sports_&_gaming sports_&_gaming sports_&_gaming sports_&_gaming sports_&_gaming pop_culture pop_culture sports_&_gaming sports_&_gaming business_&_entrepreneurs daily_life daily_life daily_life arts_&_culture daily_life business_&_entrepreneurs daily_life pop_culture pop_culture daily_life sports_&_gaming daily_life pop_culture sports_&_gaming pop_culture daily_life arts_&_culture pop_culture pop_culture pop_culture science_&_technology science_&_technology daily_life pop_culture pop_culture pop_culture pop_culture pop_culture pop_culture daily_life daily_life daily_life daily_life daily_life daily_life daily_life daily_life pop_culture daily_life sports_&_gaming daily_life sports_&_gaming sports_&_gaming sports_&_gaming sports_&_gaming business_&_entrepreneurs business_&_entrepreneurs business_&_entrepreneurs sports_&_gaming pop_culture pop_culture sports_&_gaming pop_culture sports_&_gaming pop_culture sports_&_gaming sports_&_gaming science_&_technology pop_culture pop_culture sports_&_gaming sports_&_gaming sports_&_gaming pop_culture pop_culture pop_culture science_&_technology science_&_technology pop_culture pop_culture science_&_technology science_&_technology pop_culture pop_culture pop_culture daily_life pop_culture pop_culture daily_life pop_culture pop_culture daily_life pop_culture pop_culture pop_culture pop_culture daily_life pop_culture daily_life pop_culture pop_culture daily_life daily_life business_&_entrepreneurs pop_culture pop_culture daily_life daily_life daily_life pop_culture pop_culture pop_culture pop_culture pop_culture pop_culture pop_culture pop_culture daily_life pop_culture pop_culture pop_culture daily_life pop_culture pop_culture pop_culture pop_culture sports_&_gaming pop_culture pop_culture pop_culture arts_&_culture arts_&_culture pop_culture pop_culture daily_life daily_life pop_culture science_&_technology daily_life daily_life daily_life daily_life daily_life daily_life pop_culture daily_life daily_life daily_life pop_culture daily_life daily_life daily_life daily_life pop_culture sports_&_gaming daily_life sports_&_gaming daily_life pop_culture science_&_technology business_&_entrepreneurs daily_life daily_life pop_culture daily_life daily_life pop_culture daily_life daily_life daily_life daily_life pop_culture sports_&_gaming pop_culture pop_culture pop_culture pop_culture pop_culture pop_culture pop_culture pop_culture pop_culture pop_culture business_&_entrepreneurs business_&_entrepreneurs arts_&_culture pop_culture pop_culture pop_culture science_&_technology pop_culture pop_culture pop_culture science_&_technology pop_culture pop_culture arts_&_culture business_&_entrepreneurs sports_&_gaming sports_&_gaming pop_culture pop_culture pop_culture pop_culture pop_culture pop_culture pop_culture pop_culture daily_life pop_culture pop_culture pop_culture pop_culture pop_culture business_&_entrepreneurs pop_culture daily_life pop_culture daily_life arts_&_culture pop_culture business_&_entrepreneurs pop_culture pop_culture pop_culture daily_life daily_life pop_culture daily_life pop_culture pop_culture daily_life pop_culture pop_culture daily_life daily_life daily_life sports_&_gaming pop_culture pop_culture daily_life sports_&_gaming daily_life arts_&_culture sports_&_gaming business_&_entrepreneurs sports_&_gaming pop_culture pop_culture sports_&_gaming pop_culture sports_&_gaming pop_culture daily_life pop_culture pop_culture pop_culture pop_culture sports_&_gaming daily_life pop_culture daily_life daily_life sports_&_gaming business_&_entrepreneurs pop_culture daily_life daily_life pop_culture daily_life pop_culture daily_life daily_life daily_life sports_&_gaming pop_culture daily_life pop_culture pop_culture daily_life sports_&_gaming daily_life pop_culture pop_culture sports_&_gaming pop_culture daily_life pop_culture sports_&_gaming sports_&_gaming sports_&_gaming sports_&_gaming pop_culture pop_culture sports_&_gaming business_&_entrepreneurs sports_&_gaming pop_culture sports_&_gaming sports_&_gaming pop_culture pop_culture sports_&_gaming business_&_entrepreneurs pop_culture pop_culture pop_culture sports_&_gaming pop_culture sports_&_gaming sports_&_gaming pop_culture pop_culture sports_&_gaming sports_&_gaming sports_&_gaming daily_life pop_culture sports_&_gaming sports_&_gaming pop_culture pop_culture pop_culture daily_life pop_culture sports_&_gaming sports_&_gaming sports_&_gaming sports_&_gaming sports_&_gaming sports_&_gaming sports_&_gaming sports_&_gaming pop_culture pop_culture pop_culture science_&_technology daily_life pop_culture pop_culture pop_culture arts_&_culture science_&_technology sports_&_gaming pop_culture pop_culture pop_culture sports_&_gaming science_&_technology science_&_technology science_&_technology sports_&_gaming pop_culture science_&_technology sports_&_gaming pop_culture pop_culture pop_culture business_&_entrepreneurs pop_culture science_&_technology science_&_technology pop_culture pop_culture pop_culture pop_culture daily_life pop_culture pop_culture sports_&_gaming pop_culture pop_culture science_&_technology pop_culture pop_culture pop_culture science_&_technology pop_culture arts_&_culture daily_life pop_culture pop_culture pop_culture daily_life pop_culture pop_culture daily_life sports_&_gaming daily_life pop_culture science_&_technology pop_culture pop_culture arts_&_culture arts_&_culture daily_life pop_culture arts_&_culture daily_life pop_culture pop_culture pop_culture sports_&_gaming daily_life pop_culture pop_culture pop_culture sports_&_gaming sports_&_gaming daily_life pop_culture sports_&_gaming daily_life pop_culture daily_life daily_life sports_&_gaming sports_&_gaming pop_culture pop_culture pop_culture sports_&_gaming sports_&_gaming sports_&_gaming sports_&_gaming sports_&_gaming sports_&_gaming pop_culture pop_culture sports_&_gaming sports_&_gaming pop_culture sports_&_gaming sports_&_gaming sports_&_gaming sports_&_gaming sports_&_gaming sports_&_gaming pop_culture pop_culture sports_&_gaming pop_culture sports_&_gaming pop_culture sports_&_gaming sports_&_gaming business_&_entrepreneurs sports_&_gaming sports_&_gaming sports_&_gaming arts_&_culture sports_&_gaming sports_&_gaming daily_life sports_&_gaming sports_&_gaming pop_culture pop_culture sports_&_gaming sports_&_gaming sports_&_gaming sports_&_gaming sports_&_gaming sports_&_gaming sports_&_gaming sports_&_gaming sports_&_gaming pop_culture daily_life pop_culture sports_&_gaming pop_culture pop_culture sports_&_gaming daily_life daily_life pop_culture pop_culture sports_&_gaming pop_culture daily_life pop_culture pop_culture pop_culture sports_&_gaming pop_culture pop_culture pop_culture daily_life pop_culture business_&_entrepreneurs sports_&_gaming sports_&_gaming daily_life daily_life daily_life sports_&_gaming sports_&_gaming sports_&_gaming arts_&_culture sports_&_gaming pop_culture sports_&_gaming daily_life sports_&_gaming pop_culture pop_culture pop_culture sports_&_gaming daily_life daily_life pop_culture daily_life pop_culture sports_&_gaming pop_culture daily_life daily_life daily_life pop_culture pop_culture pop_culture pop_culture pop_culture pop_culture pop_culture pop_culture sports_&_gaming pop_culture pop_culture sports_&_gaming pop_culture pop_culture pop_culture pop_culture pop_culture pop_culture pop_culture sports_&_gaming pop_culture pop_culture pop_culture daily_life daily_life pop_culture pop_culture pop_culture pop_culture daily_life daily_life pop_culture pop_culture daily_life pop_culture pop_culture daily_life daily_life daily_life sports_&_gaming pop_culture science_&_technology pop_culture pop_culture sports_&_gaming pop_culture business_&_entrepreneurs pop_culture pop_culture sports_&_gaming business_&_entrepreneurs business_&_entrepreneurs pop_culture pop_culture sports_&_gaming sports_&_gaming science_&_technology sports_&_gaming sports_&_gaming science_&_technology sports_&_gaming daily_life sports_&_gaming daily_life sports_&_gaming sports_&_gaming sports_&_gaming pop_culture sports_&_gaming sports_&_gaming pop_culture sports_&_gaming sports_&_gaming pop_culture sports_&_gaming pop_culture pop_culture pop_culture sports_&_gaming daily_life business_&_entrepreneurs sports_&_gaming daily_life arts_&_culture science_&_technology sports_&_gaming sports_&_gaming sports_&_gaming pop_culture sports_&_gaming sports_&_gaming sports_&_gaming sports_&_gaming pop_culture sports_&_gaming sports_&_gaming sports_&_gaming sports_&_gaming pop_culture pop_culture pop_culture pop_culture sports_&_gaming sports_&_gaming sports_&_gaming sports_&_gaming pop_culture sports_&_gaming business_&_entrepreneurs sports_&_gaming sports_&_gaming sports_&_gaming sports_&_gaming business_&_entrepreneurs sports_&_gaming pop_culture sports_&_gaming sports_&_gaming sports_&_gaming sports_&_gaming sports_&_gaming sports_&_gaming sports_&_gaming sports_&_gaming daily_life sports_&_gaming sports_&_gaming daily_life daily_life daily_life daily_life daily_life daily_life sports_&_gaming pop_culture daily_life daily_life pop_culture daily_life sports_&_gaming sports_&_gaming sports_&_gaming pop_culture pop_culture daily_life daily_life pop_culture pop_culture science_&_technology pop_culture pop_culture pop_culture pop_culture pop_culture business_&_entrepreneurs pop_culture pop_culture pop_culture sports_&_gaming daily_life sports_&_gaming sports_&_gaming pop_culture business_&_entrepreneurs sports_&_gaming pop_culture daily_life sports_&_gaming business_&_entrepreneurs pop_culture daily_life pop_culture pop_culture pop_culture sports_&_gaming pop_culture pop_culture arts_&_culture business_&_entrepreneurs pop_culture daily_life pop_culture business_&_entrepreneurs pop_culture pop_culture sports_&_gaming sports_&_gaming arts_&_culture pop_culture pop_culture sports_&_gaming sports_&_gaming sports_&_gaming daily_life daily_life sports_&_gaming pop_culture sports_&_gaming business_&_entrepreneurs sports_&_gaming sports_&_gaming pop_culture sports_&_gaming sports_&_gaming sports_&_gaming sports_&_gaming sports_&_gaming daily_life sports_&_gaming sports_&_gaming sports_&_gaming sports_&_gaming pop_culture sports_&_gaming sports_&_gaming sports_&_gaming sports_&_gaming sports_&_gaming sports_&_gaming sports_&_gaming sports_&_gaming sports_&_gaming sports_&_gaming sports_&_gaming sports_&_gaming sports_&_gaming sports_&_gaming sports_&_gaming sports_&_gaming sports_&_gaming sports_&_gaming sports_&_gaming sports_&_gaming sports_&_gaming sports_&_gaming pop_culture science_&_technology sports_&_gaming science_&_technology daily_life daily_life pop_culture business_&_entrepreneurs sports_&_gaming business_&_entrepreneurs pop_culture sports_&_gaming pop_culture sports_&_gaming business_&_entrepreneurs business_&_entrepreneurs business_&_entrepreneurs sports_&_gaming science_&_technology pop_culture pop_culture pop_culture science_&_technology sports_&_gaming sports_&_gaming sports_&_gaming sports_&_gaming sports_&_gaming pop_culture sports_&_gaming pop_culture pop_culture sports_&_gaming daily_life sports_&_gaming sports_&_gaming sports_&_gaming sports_&_gaming daily_life sports_&_gaming sports_&_gaming pop_culture sports_&_gaming sports_&_gaming sports_&_gaming pop_culture sports_&_gaming daily_life daily_life pop_culture pop_culture pop_culture science_&_technology pop_culture pop_culture pop_culture pop_culture pop_culture pop_culture daily_life pop_culture pop_culture business_&_entrepreneurs pop_culture arts_&_culture business_&_entrepreneurs pop_culture sports_&_gaming pop_culture sports_&_gaming business_&_entrepreneurs sports_&_gaming sports_&_gaming pop_culture pop_culture sports_&_gaming science_&_technology sports_&_gaming sports_&_gaming pop_culture daily_life pop_culture sports_&_gaming sports_&_gaming sports_&_gaming pop_culture sports_&_gaming pop_culture pop_culture pop_culture pop_culture pop_culture pop_culture pop_culture pop_culture pop_culture pop_culture pop_culture pop_culture sports_&_gaming pop_culture sports_&_gaming sports_&_gaming sports_&_gaming sports_&_gaming sports_&_gaming sports_&_gaming sports_&_gaming sports_&_gaming sports_&_gaming sports_&_gaming sports_&_gaming pop_culture daily_life sports_&_gaming pop_culture sports_&_gaming sports_&_gaming sports_&_gaming pop_culture sports_&_gaming sports_&_gaming sports_&_gaming sports_&_gaming sports_&_gaming daily_life science_&_technology sports_&_gaming sports_&_gaming pop_culture sports_&_gaming business_&_entrepreneurs science_&_technology science_&_technology sports_&_gaming sports_&_gaming sports_&_gaming science_&_technology pop_culture sports_&_gaming sports_&_gaming sports_&_gaming sports_&_gaming sports_&_gaming daily_life science_&_technology sports_&_gaming sports_&_gaming sports_&_gaming sports_&_gaming sports_&_gaming sports_&_gaming sports_&_gaming daily_life pop_culture pop_culture pop_culture sports_&_gaming sports_&_gaming sports_&_gaming sports_&_gaming sports_&_gaming daily_life daily_life pop_culture pop_culture pop_culture pop_culture pop_culture pop_culture pop_culture pop_culture pop_culture sports_&_gaming pop_culture pop_culture pop_culture pop_culture pop_culture pop_culture pop_culture pop_culture pop_culture pop_culture arts_&_culture pop_culture pop_culture business_&_entrepreneurs arts_&_culture pop_culture daily_life daily_life pop_culture arts_&_culture pop_culture pop_culture pop_culture pop_culture pop_culture pop_culture pop_culture pop_culture business_&_entrepreneurs pop_culture pop_culture sports_&_gaming pop_culture sports_&_gaming sports_&_gaming pop_culture business_&_entrepreneurs sports_&_gaming arts_&_culture sports_&_gaming business_&_entrepreneurs sports_&_gaming sports_&_gaming arts_&_culture sports_&_gaming sports_&_gaming pop_culture sports_&_gaming sports_&_gaming pop_culture sports_&_gaming sports_&_gaming pop_culture sports_&_gaming sports_&_gaming arts_&_culture pop_culture pop_culture pop_culture pop_culture pop_culture sports_&_gaming pop_culture sports_&_gaming pop_culture pop_culture sports_&_gaming pop_culture pop_culture sports_&_gaming pop_culture pop_culture daily_life pop_culture pop_culture pop_culture daily_life sports_&_gaming pop_culture sports_&_gaming pop_culture sports_&_gaming pop_culture sports_&_gaming pop_culture pop_culture pop_culture pop_culture pop_culture pop_culture pop_culture pop_culture daily_life sports_&_gaming sports_&_gaming sports_&_gaming pop_culture sports_&_gaming sports_&_gaming sports_&_gaming pop_culture pop_culture sports_&_gaming pop_culture sports_&_gaming sports_&_gaming pop_culture pop_culture pop_culture daily_life pop_culture pop_culture sports_&_gaming sports_&_gaming pop_culture business_&_entrepreneurs sports_&_gaming business_&_entrepreneurs pop_culture pop_culture daily_life sports_&_gaming sports_&_gaming sports_&_gaming pop_culture daily_life pop_culture sports_&_gaming sports_&_gaming sports_&_gaming sports_&_gaming pop_culture sports_&_gaming pop_culture daily_life pop_culture pop_culture daily_life sports_&_gaming sports_&_gaming sports_&_gaming sports_&_gaming sports_&_gaming sports_&_gaming sports_&_gaming sports_&_gaming sports_&_gaming sports_&_gaming sports_&_gaming pop_culture science_&_technology sports_&_gaming sports_&_gaming daily_life pop_culture sports_&_gaming sports_&_gaming sports_&_gaming sports_&_gaming sports_&_gaming pop_culture sports_&_gaming sports_&_gaming sports_&_gaming daily_life sports_&_gaming sports_&_gaming sports_&_gaming sports_&_gaming sports_&_gaming sports_&_gaming sports_&_gaming sports_&_gaming sports_&_gaming pop_culture sports_&_gaming sports_&_gaming pop_culture arts_&_culture pop_culture pop_culture pop_culture pop_culture sports_&_gaming sports_&_gaming pop_culture sports_&_gaming sports_&_gaming pop_culture pop_culture sports_&_gaming pop_culture sports_&_gaming arts_&_culture science_&_technology arts_&_culture arts_&_culture arts_&_culture daily_life pop_culture pop_culture pop_culture pop_culture pop_culture pop_culture sports_&_gaming pop_culture pop_culture daily_life daily_life daily_life pop_culture daily_life daily_life daily_life daily_life daily_life daily_life sports_&_gaming pop_culture daily_life pop_culture sports_&_gaming pop_culture sports_&_gaming sports_&_gaming pop_culture pop_culture pop_culture arts_&_culture pop_culture arts_&_culture daily_life pop_culture daily_life sports_&_gaming pop_culture daily_life daily_life daily_life sports_&_gaming daily_life pop_culture pop_culture pop_culture pop_culture pop_culture pop_culture sports_&_gaming pop_culture sports_&_gaming sports_&_gaming pop_culture science_&_technology pop_culture sports_&_gaming sports_&_gaming daily_life daily_life pop_culture pop_culture pop_culture pop_culture pop_culture pop_culture pop_culture pop_culture sports_&_gaming sports_&_gaming pop_culture sports_&_gaming pop_culture pop_culture pop_culture pop_culture sports_&_gaming pop_culture pop_culture sports_&_gaming pop_culture pop_culture pop_culture pop_culture pop_culture sports_&_gaming pop_culture pop_culture pop_culture sports_&_gaming sports_&_gaming pop_culture pop_culture pop_culture pop_culture pop_culture pop_culture sports_&_gaming pop_culture pop_culture pop_culture pop_culture business_&_entrepreneurs pop_culture business_&_entrepreneurs sports_&_gaming pop_culture pop_culture pop_culture pop_culture pop_culture sports_&_gaming sports_&_gaming pop_culture sports_&_gaming sports_&_gaming sports_&_gaming daily_life sports_&_gaming science_&_technology pop_culture pop_culture pop_culture business_&_entrepreneurs sports_&_gaming science_&_technology arts_&_culture sports_&_gaming business_&_entrepreneurs sports_&_gaming sports_&_gaming sports_&_gaming pop_culture sports_&_gaming business_&_entrepreneurs pop_culture sports_&_gaming pop_culture sports_&_gaming pop_culture pop_culture science_&_technology science_&_technology pop_culture sports_&_gaming sports_&_gaming sports_&_gaming science_&_technology sports_&_gaming pop_culture sports_&_gaming daily_life daily_life pop_culture pop_culture business_&_entrepreneurs business_&_entrepreneurs pop_culture pop_culture daily_life pop_culture sports_&_gaming arts_&_culture pop_culture pop_culture sports_&_gaming pop_culture daily_life science_&_technology pop_culture sports_&_gaming sports_&_gaming sports_&_gaming sports_&_gaming pop_culture pop_culture sports_&_gaming pop_culture science_&_technology pop_culture daily_life science_&_technology pop_culture pop_culture science_&_technology sports_&_gaming pop_culture sports_&_gaming daily_life sports_&_gaming sports_&_gaming sports_&_gaming business_&_entrepreneurs sports_&_gaming pop_culture sports_&_gaming sports_&_gaming sports_&_gaming sports_&_gaming sports_&_gaming sports_&_gaming sports_&_gaming sports_&_gaming sports_&_gaming sports_&_gaming sports_&_gaming sports_&_gaming sports_&_gaming sports_&_gaming sports_&_gaming sports_&_gaming pop_culture sports_&_gaming pop_culture sports_&_gaming sports_&_gaming pop_culture sports_&_gaming daily_life sports_&_gaming sports_&_gaming sports_&_gaming daily_life sports_&_gaming pop_culture sports_&_gaming sports_&_gaming sports_&_gaming daily_life arts_&_culture daily_life pop_culture sports_&_gaming business_&_entrepreneurs daily_life science_&_technology science_&_technology sports_&_gaming business_&_entrepreneurs sports_&_gaming sports_&_gaming pop_culture pop_culture daily_life sports_&_gaming sports_&_gaming pop_culture sports_&_gaming arts_&_culture sports_&_gaming daily_life sports_&_gaming sports_&_gaming sports_&_gaming sports_&_gaming sports_&_gaming pop_culture pop_culture pop_culture business_&_entrepreneurs daily_life pop_culture pop_culture pop_culture science_&_technology pop_culture daily_life daily_life sports_&_gaming science_&_technology pop_culture sports_&_gaming pop_culture science_&_technology pop_culture business_&_entrepreneurs pop_culture sports_&_gaming sports_&_gaming business_&_entrepreneurs pop_culture sports_&_gaming science_&_technology daily_life science_&_technology pop_culture daily_life sports_&_gaming pop_culture pop_culture pop_culture pop_culture pop_culture pop_culture arts_&_culture sports_&_gaming sports_&_gaming sports_&_gaming sports_&_gaming daily_life pop_culture pop_culture sports_&_gaming sports_&_gaming pop_culture pop_culture sports_&_gaming daily_life pop_culture arts_&_culture daily_life pop_culture pop_culture pop_culture sports_&_gaming pop_culture pop_culture sports_&_gaming pop_culture sports_&_gaming pop_culture sports_&_gaming business_&_entrepreneurs pop_culture daily_life sports_&_gaming sports_&_gaming daily_life pop_culture sports_&_gaming pop_culture sports_&_gaming sports_&_gaming sports_&_gaming sports_&_gaming pop_culture science_&_technology pop_culture business_&_entrepreneurs sports_&_gaming business_&_entrepreneurs daily_life sports_&_gaming pop_culture sports_&_gaming pop_culture sports_&_gaming pop_culture sports_&_gaming sports_&_gaming pop_culture pop_culture business_&_entrepreneurs pop_culture business_&_entrepreneurs business_&_entrepreneurs sports_&_gaming business_&_entrepreneurs arts_&_culture business_&_entrepreneurs sports_&_gaming sports_&_gaming sports_&_gaming sports_&_gaming pop_culture sports_&_gaming business_&_entrepreneurs sports_&_gaming pop_culture pop_culture sports_&_gaming pop_culture pop_culture science_&_technology sports_&_gaming business_&_entrepreneurs sports_&_gaming pop_culture sports_&_gaming business_&_entrepreneurs sports_&_gaming pop_culture pop_culture daily_life pop_culture sports_&_gaming sports_&_gaming business_&_entrepreneurs pop_culture sports_&_gaming sports_&_gaming sports_&_gaming daily_life business_&_entrepreneurs pop_culture sports_&_gaming business_&_entrepreneurs pop_culture pop_culture sports_&_gaming daily_life sports_&_gaming pop_culture pop_culture sports_&_gaming business_&_entrepreneurs pop_culture pop_culture pop_culture arts_&_culture pop_culture daily_life daily_life science_&_technology sports_&_gaming pop_culture pop_culture pop_culture daily_life sports_&_gaming daily_life sports_&_gaming daily_life sports_&_gaming pop_culture daily_life pop_culture pop_culture pop_culture arts_&_culture arts_&_culture daily_life pop_culture business_&_entrepreneurs pop_culture arts_&_culture daily_life pop_culture pop_culture pop_culture sports_&_gaming pop_culture pop_culture science_&_technology pop_culture pop_culture daily_life sports_&_gaming sports_&_gaming pop_culture pop_culture sports_&_gaming pop_culture science_&_technology pop_culture pop_culture sports_&_gaming pop_culture pop_culture sports_&_gaming pop_culture sports_&_gaming science_&_technology sports_&_gaming sports_&_gaming pop_culture pop_culture sports_&_gaming pop_culture sports_&_gaming pop_culture sports_&_gaming business_&_entrepreneurs pop_culture science_&_technology sports_&_gaming science_&_technology pop_culture science_&_technology pop_culture sports_&_gaming pop_culture business_&_entrepreneurs pop_culture sports_&_gaming pop_culture sports_&_gaming science_&_technology pop_culture daily_life science_&_technology daily_life science_&_technology business_&_entrepreneurs pop_culture sports_&_gaming science_&_technology pop_culture pop_culture pop_culture science_&_technology science_&_technology arts_&_culture pop_culture sports_&_gaming sports_&_gaming pop_culture pop_culture pop_culture science_&_technology sports_&_gaming sports_&_gaming pop_culture sports_&_gaming daily_life sports_&_gaming pop_culture daily_life daily_life pop_culture pop_culture pop_culture sports_&_gaming sports_&_gaming sports_&_gaming pop_culture sports_&_gaming pop_culture sports_&_gaming sports_&_gaming pop_culture sports_&_gaming sports_&_gaming sports_&_gaming sports_&_gaming pop_culture daily_life sports_&_gaming pop_culture pop_culture pop_culture pop_culture sports_&_gaming sports_&_gaming pop_culture pop_culture pop_culture sports_&_gaming sports_&_gaming business_&_entrepreneurs pop_culture pop_culture pop_culture pop_culture pop_culture pop_culture pop_culture business_&_entrepreneurs sports_&_gaming pop_culture pop_culture pop_culture daily_life sports_&_gaming sports_&_gaming pop_culture pop_culture pop_culture pop_culture pop_culture sports_&_gaming sports_&_gaming pop_culture daily_life pop_culture sports_&_gaming pop_culture pop_culture daily_life sports_&_gaming daily_life pop_culture sports_&_gaming sports_&_gaming pop_culture arts_&_culture sports_&_gaming sports_&_gaming business_&_entrepreneurs sports_&_gaming sports_&_gaming sports_&_gaming sports_&_gaming daily_life sports_&_gaming sports_&_gaming sports_&_gaming sports_&_gaming sports_&_gaming sports_&_gaming sports_&_gaming pop_culture daily_life sports_&_gaming pop_culture science_&_technology science_&_technology sports_&_gaming science_&_technology science_&_technology science_&_technology sports_&_gaming sports_&_gaming pop_culture daily_life pop_culture pop_culture pop_culture pop_culture pop_culture sports_&_gaming sports_&_gaming sports_&_gaming pop_culture pop_culture pop_culture sports_&_gaming pop_culture pop_culture pop_culture pop_culture pop_culture pop_culture business_&_entrepreneurs business_&_entrepreneurs pop_culture sports_&_gaming sports_&_gaming pop_culture sports_&_gaming arts_&_culture sports_&_gaming pop_culture sports_&_gaming sports_&_gaming sports_&_gaming sports_&_gaming sports_&_gaming sports_&_gaming sports_&_gaming pop_culture pop_culture science_&_technology pop_culture pop_culture sports_&_gaming pop_culture pop_culture sports_&_gaming pop_culture sports_&_gaming pop_culture pop_culture pop_culture sports_&_gaming pop_culture sports_&_gaming pop_culture sports_&_gaming sports_&_gaming pop_culture pop_culture pop_culture pop_culture pop_culture business_&_entrepreneurs sports_&_gaming sports_&_gaming pop_culture pop_culture pop_culture pop_culture sports_&_gaming sports_&_gaming business_&_entrepreneurs daily_life sports_&_gaming sports_&_gaming pop_culture science_&_technology sports_&_gaming science_&_technology sports_&_gaming sports_&_gaming sports_&_gaming sports_&_gaming science_&_technology sports_&_gaming sports_&_gaming sports_&_gaming pop_culture sports_&_gaming pop_culture sports_&_gaming sports_&_gaming sports_&_gaming sports_&_gaming business_&_entrepreneurs sports_&_gaming sports_&_gaming daily_life sports_&_gaming pop_culture sports_&_gaming sports_&_gaming business_&_entrepreneurs sports_&_gaming sports_&_gaming pop_culture pop_culture business_&_entrepreneurs sports_&_gaming sports_&_gaming sports_&_gaming sports_&_gaming sports_&_gaming arts_&_culture business_&_entrepreneurs pop_culture pop_culture sports_&_gaming sports_&_gaming sports_&_gaming sports_&_gaming pop_culture arts_&_culture arts_&_culture arts_&_culture daily_life daily_life daily_life daily_life daily_life daily_life daily_life daily_life daily_life daily_life daily_life daily_life sports_&_gaming daily_life daily_life business_&_entrepreneurs daily_life daily_life daily_life pop_culture pop_culture pop_culture sports_&_gaming business_&_entrepreneurs sports_&_gaming pop_culture pop_culture pop_culture sports_&_gaming pop_culture sports_&_gaming pop_culture pop_culture arts_&_culture sports_&_gaming sports_&_gaming sports_&_gaming daily_life daily_life pop_culture daily_life daily_life pop_culture sports_&_gaming pop_culture pop_culture pop_culture pop_culture sports_&_gaming sports_&_gaming science_&_technology daily_life sports_&_gaming sports_&_gaming daily_life daily_life pop_culture daily_life daily_life daily_life daily_life pop_culture pop_culture pop_culture daily_life pop_culture pop_culture daily_life sports_&_gaming pop_culture daily_life pop_culture pop_culture daily_life daily_life pop_culture sports_&_gaming pop_culture pop_culture daily_life daily_life science_&_technology pop_culture pop_culture pop_culture pop_culture pop_culture pop_culture daily_life pop_culture pop_culture sports_&_gaming pop_culture pop_culture pop_culture sports_&_gaming pop_culture pop_culture science_&_technology pop_culture pop_culture pop_culture pop_culture pop_culture pop_culture pop_culture pop_culture pop_culture pop_culture pop_culture pop_culture pop_culture sports_&_gaming pop_culture pop_culture sports_&_gaming pop_culture sports_&_gaming sports_&_gaming sports_&_gaming sports_&_gaming sports_&_gaming sports_&_gaming pop_culture pop_culture pop_culture pop_culture daily_life pop_culture sports_&_gaming business_&_entrepreneurs pop_culture sports_&_gaming sports_&_gaming science_&_technology sports_&_gaming daily_life sports_&_gaming daily_life sports_&_gaming sports_&_gaming pop_culture sports_&_gaming sports_&_gaming business_&_entrepreneurs pop_culture sports_&_gaming daily_life sports_&_gaming sports_&_gaming pop_culture sports_&_gaming sports_&_gaming sports_&_gaming business_&_entrepreneurs daily_life sports_&_gaming sports_&_gaming daily_life business_&_entrepreneurs pop_culture business_&_entrepreneurs sports_&_gaming sports_&_gaming science_&_technology sports_&_gaming sports_&_gaming pop_culture business_&_entrepreneurs sports_&_gaming pop_culture sports_&_gaming pop_culture pop_culture arts_&_culture pop_culture pop_culture sports_&_gaming sports_&_gaming sports_&_gaming sports_&_gaming pop_culture pop_culture pop_culture business_&_entrepreneurs business_&_entrepreneurs pop_culture business_&_entrepreneurs pop_culture pop_culture pop_culture pop_culture pop_culture pop_culture pop_culture pop_culture science_&_technology science_&_technology sports_&_gaming sports_&_gaming daily_life science_&_technology daily_life arts_&_culture daily_life daily_life business_&_entrepreneurs sports_&_gaming sports_&_gaming daily_life business_&_entrepreneurs pop_culture daily_life sports_&_gaming pop_culture pop_culture pop_culture sports_&_gaming daily_life sports_&_gaming arts_&_culture sports_&_gaming pop_culture sports_&_gaming sports_&_gaming sports_&_gaming sports_&_gaming sports_&_gaming pop_culture sports_&_gaming pop_culture pop_culture pop_culture sports_&_gaming pop_culture pop_culture sports_&_gaming sports_&_gaming pop_culture daily_life science_&_technology daily_life sports_&_gaming sports_&_gaming sports_&_gaming sports_&_gaming sports_&_gaming science_&_technology sports_&_gaming sports_&_gaming daily_life business_&_entrepreneurs pop_culture pop_culture sports_&_gaming sports_&_gaming arts_&_culture sports_&_gaming pop_culture pop_culture sports_&_gaming sports_&_gaming sports_&_gaming pop_culture pop_culture pop_culture pop_culture sports_&_gaming business_&_entrepreneurs pop_culture pop_culture pop_culture pop_culture pop_culture pop_culture pop_culture pop_culture pop_culture pop_culture pop_culture pop_culture pop_culture pop_culture pop_culture pop_culture pop_culture daily_life sports_&_gaming pop_culture pop_culture daily_life pop_culture daily_life sports_&_gaming pop_culture pop_culture pop_culture pop_culture pop_culture pop_culture pop_culture pop_culture daily_life pop_culture sports_&_gaming sports_&_gaming pop_culture pop_culture sports_&_gaming pop_culture sports_&_gaming pop_culture pop_culture pop_culture business_&_entrepreneurs pop_culture pop_culture pop_culture pop_culture pop_culture arts_&_culture pop_culture daily_life business_&_entrepreneurs sports_&_gaming sports_&_gaming pop_culture pop_culture sports_&_gaming arts_&_culture daily_life pop_culture pop_culture business_&_entrepreneurs pop_culture pop_culture arts_&_culture business_&_entrepreneurs daily_life sports_&_gaming sports_&_gaming sports_&_gaming sports_&_gaming sports_&_gaming sports_&_gaming sports_&_gaming pop_culture sports_&_gaming sports_&_gaming arts_&_culture sports_&_gaming sports_&_gaming pop_culture pop_culture business_&_entrepreneurs arts_&_culture pop_culture science_&_technology pop_culture science_&_technology science_&_technology pop_culture pop_culture science_&_technology sports_&_gaming science_&_technology science_&_technology science_&_technology pop_culture daily_life pop_culture daily_life science_&_technology daily_life daily_life pop_culture sports_&_gaming pop_culture pop_culture pop_culture sports_&_gaming science_&_technology daily_life sports_&_gaming science_&_technology science_&_technology sports_&_gaming pop_culture sports_&_gaming sports_&_gaming business_&_entrepreneurs sports_&_gaming pop_culture pop_culture pop_culture pop_culture sports_&_gaming pop_culture sports_&_gaming pop_culture sports_&_gaming daily_life science_&_technology pop_culture daily_life sports_&_gaming science_&_technology pop_culture sports_&_gaming sports_&_gaming sports_&_gaming pop_culture sports_&_gaming daily_life science_&_technology business_&_entrepreneurs sports_&_gaming daily_life sports_&_gaming sports_&_gaming pop_culture arts_&_culture pop_culture sports_&_gaming science_&_technology sports_&_gaming sports_&_gaming sports_&_gaming daily_life pop_culture pop_culture pop_culture pop_culture pop_culture pop_culture pop_culture pop_culture pop_culture pop_culture pop_culture daily_life sports_&_gaming pop_culture sports_&_gaming sports_&_gaming sports_&_gaming sports_&_gaming daily_life pop_culture sports_&_gaming pop_culture sports_&_gaming pop_culture pop_culture pop_culture sports_&_gaming pop_culture sports_&_gaming sports_&_gaming sports_&_gaming pop_culture pop_culture pop_culture pop_culture pop_culture pop_culture pop_culture pop_culture sports_&_gaming pop_culture sports_&_gaming sports_&_gaming sports_&_gaming sports_&_gaming pop_culture sports_&_gaming sports_&_gaming science_&_technology pop_culture daily_life pop_culture daily_life pop_culture pop_culture sports_&_gaming sports_&_gaming pop_culture science_&_technology pop_culture sports_&_gaming sports_&_gaming sports_&_gaming business_&_entrepreneurs daily_life daily_life pop_culture daily_life pop_culture pop_culture sports_&_gaming pop_culture sports_&_gaming pop_culture sports_&_gaming sports_&_gaming pop_culture pop_culture business_&_entrepreneurs pop_culture business_&_entrepreneurs sports_&_gaming sports_&_gaming sports_&_gaming daily_life pop_culture science_&_technology sports_&_gaming pop_culture science_&_technology daily_life business_&_entrepreneurs pop_culture science_&_technology science_&_technology sports_&_gaming sports_&_gaming pop_culture pop_culture sports_&_gaming sports_&_gaming sports_&_gaming sports_&_gaming pop_culture pop_culture pop_culture sports_&_gaming pop_culture pop_culture sports_&_gaming sports_&_gaming sports_&_gaming sports_&_gaming pop_culture sports_&_gaming sports_&_gaming sports_&_gaming sports_&_gaming sports_&_gaming sports_&_gaming daily_life daily_life daily_life daily_life pop_culture sports_&_gaming sports_&_gaming sports_&_gaming sports_&_gaming sports_&_gaming sports_&_gaming daily_life sports_&_gaming sports_&_gaming sports_&_gaming sports_&_gaming sports_&_gaming sports_&_gaming sports_&_gaming pop_culture pop_culture pop_culture pop_culture pop_culture sports_&_gaming pop_culture sports_&_gaming sports_&_gaming daily_life sports_&_gaming science_&_technology daily_life sports_&_gaming sports_&_gaming daily_life daily_life arts_&_culture business_&_entrepreneurs daily_life science_&_technology sports_&_gaming sports_&_gaming daily_life daily_life pop_culture pop_culture pop_culture pop_culture pop_culture pop_culture pop_culture business_&_entrepreneurs daily_life pop_culture pop_culture daily_life pop_culture daily_life daily_life pop_culture pop_culture business_&_entrepreneurs pop_culture pop_culture pop_culture pop_culture science_&_technology sports_&_gaming daily_life daily_life daily_life science_&_technology daily_life pop_culture pop_culture pop_culture daily_life daily_life sports_&_gaming sports_&_gaming pop_culture sports_&_gaming sports_&_gaming daily_life daily_life science_&_technology sports_&_gaming sports_&_gaming pop_culture pop_culture sports_&_gaming sports_&_gaming pop_culture sports_&_gaming daily_life arts_&_culture pop_culture pop_culture daily_life business_&_entrepreneurs pop_culture sports_&_gaming sports_&_gaming daily_life pop_culture daily_life daily_life daily_life pop_culture arts_&_culture pop_culture pop_culture sports_&_gaming pop_culture pop_culture pop_culture pop_culture daily_life science_&_technology daily_life daily_life pop_culture sports_&_gaming business_&_entrepreneurs pop_culture sports_&_gaming science_&_technology pop_culture pop_culture sports_&_gaming sports_&_gaming pop_culture science_&_technology sports_&_gaming sports_&_gaming sports_&_gaming sports_&_gaming pop_culture pop_culture pop_culture sports_&_gaming pop_culture pop_culture sports_&_gaming pop_culture sports_&_gaming sports_&_gaming sports_&_gaming pop_culture daily_life sports_&_gaming pop_culture pop_culture pop_culture sports_&_gaming pop_culture business_&_entrepreneurs pop_culture sports_&_gaming sports_&_gaming business_&_entrepreneurs daily_life daily_life daily_life daily_life daily_life sports_&_gaming sports_&_gaming sports_&_gaming sports_&_gaming sports_&_gaming daily_life pop_culture pop_culture pop_culture pop_culture sports_&_gaming pop_culture pop_culture business_&_entrepreneurs pop_culture pop_culture business_&_entrepreneurs sports_&_gaming pop_culture daily_life daily_life pop_culture daily_life pop_culture daily_life daily_life pop_culture arts_&_culture business_&_entrepreneurs sports_&_gaming pop_culture pop_culture business_&_entrepreneurs sports_&_gaming daily_life arts_&_culture pop_culture arts_&_culture business_&_entrepreneurs sports_&_gaming sports_&_gaming pop_culture sports_&_gaming daily_life pop_culture sports_&_gaming business_&_entrepreneurs business_&_entrepreneurs daily_life sports_&_gaming daily_life sports_&_gaming sports_&_gaming daily_life sports_&_gaming sports_&_gaming sports_&_gaming sports_&_gaming sports_&_gaming sports_&_gaming sports_&_gaming sports_&_gaming sports_&_gaming sports_&_gaming sports_&_gaming sports_&_gaming sports_&_gaming daily_life sports_&_gaming daily_life sports_&_gaming sports_&_gaming sports_&_gaming sports_&_gaming sports_&_gaming sports_&_gaming sports_&_gaming sports_&_gaming sports_&_gaming sports_&_gaming sports_&_gaming sports_&_gaming sports_&_gaming pop_culture science_&_technology sports_&_gaming sports_&_gaming science_&_technology pop_culture arts_&_culture sports_&_gaming arts_&_culture pop_culture daily_life daily_life sports_&_gaming pop_culture sports_&_gaming sports_&_gaming pop_culture pop_culture business_&_entrepreneurs business_&_entrepreneurs pop_culture business_&_entrepreneurs business_&_entrepreneurs science_&_technology sports_&_gaming business_&_entrepreneurs sports_&_gaming pop_culture pop_culture science_&_technology pop_culture science_&_technology pop_culture sports_&_gaming sports_&_gaming sports_&_gaming sports_&_gaming sports_&_gaming pop_culture pop_culture sports_&_gaming pop_culture sports_&_gaming pop_culture sports_&_gaming pop_culture pop_culture daily_life pop_culture pop_culture daily_life pop_culture sports_&_gaming pop_culture sports_&_gaming sports_&_gaming sports_&_gaming sports_&_gaming sports_&_gaming sports_&_gaming sports_&_gaming arts_&_culture sports_&_gaming sports_&_gaming pop_culture sports_&_gaming sports_&_gaming science_&_technology pop_culture sports_&_gaming science_&_technology sports_&_gaming pop_culture sports_&_gaming pop_culture pop_culture pop_culture science_&_technology pop_culture daily_life pop_culture pop_culture business_&_entrepreneurs pop_culture pop_culture sports_&_gaming pop_culture business_&_entrepreneurs sports_&_gaming pop_culture arts_&_culture science_&_technology sports_&_gaming pop_culture sports_&_gaming business_&_entrepreneurs pop_culture business_&_entrepreneurs sports_&_gaming sports_&_gaming pop_culture daily_life pop_culture daily_life science_&_technology sports_&_gaming sports_&_gaming pop_culture sports_&_gaming business_&_entrepreneurs pop_culture pop_culture pop_culture pop_culture pop_culture sports_&_gaming pop_culture sports_&_gaming pop_culture sports_&_gaming sports_&_gaming sports_&_gaming sports_&_gaming sports_&_gaming sports_&_gaming sports_&_gaming sports_&_gaming sports_&_gaming sports_&_gaming sports_&_gaming sports_&_gaming sports_&_gaming business_&_entrepreneurs pop_culture sports_&_gaming sports_&_gaming sports_&_gaming pop_culture science_&_technology pop_culture pop_culture sports_&_gaming sports_&_gaming science_&_technology arts_&_culture sports_&_gaming pop_culture science_&_technology sports_&_gaming sports_&_gaming sports_&_gaming sports_&_gaming sports_&_gaming sports_&_gaming science_&_technology science_&_technology science_&_technology sports_&_gaming daily_life sports_&_gaming sports_&_gaming science_&_technology sports_&_gaming pop_culture pop_culture sports_&_gaming sports_&_gaming sports_&_gaming sports_&_gaming pop_culture pop_culture daily_life sports_&_gaming pop_culture sports_&_gaming sports_&_gaming sports_&_gaming pop_culture pop_culture sports_&_gaming sports_&_gaming sports_&_gaming sports_&_gaming sports_&_gaming sports_&_gaming sports_&_gaming sports_&_gaming sports_&_gaming sports_&_gaming sports_&_gaming sports_&_gaming sports_&_gaming sports_&_gaming sports_&_gaming daily_life pop_culture arts_&_culture pop_culture pop_culture pop_culture pop_culture pop_culture pop_culture science_&_technology pop_culture pop_culture pop_culture pop_culture science_&_technology pop_culture pop_culture arts_&_culture pop_culture pop_culture pop_culture pop_culture pop_culture daily_life pop_culture pop_culture daily_life pop_culture pop_culture pop_culture pop_culture pop_culture pop_culture pop_culture pop_culture sports_&_gaming sports_&_gaming pop_culture pop_culture sports_&_gaming sports_&_gaming daily_life sports_&_gaming pop_culture sports_&_gaming sports_&_gaming pop_culture pop_culture pop_culture sports_&_gaming pop_culture pop_culture sports_&_gaming sports_&_gaming sports_&_gaming science_&_technology arts_&_culture business_&_entrepreneurs arts_&_culture business_&_entrepreneurs sports_&_gaming sports_&_gaming sports_&_gaming sports_&_gaming sports_&_gaming science_&_technology sports_&_gaming sports_&_gaming pop_culture pop_culture pop_culture sports_&_gaming pop_culture sports_&_gaming pop_culture pop_culture sports_&_gaming pop_culture pop_culture pop_culture pop_culture sports_&_gaming pop_culture pop_culture pop_culture pop_culture pop_culture pop_culture pop_culture pop_culture pop_culture daily_life pop_culture arts_&_culture sports_&_gaming daily_life daily_life sports_&_gaming daily_life pop_culture pop_culture sports_&_gaming pop_culture pop_culture business_&_entrepreneurs daily_life pop_culture pop_culture sports_&_gaming pop_culture pop_culture pop_culture sports_&_gaming pop_culture pop_culture pop_culture sports_&_gaming pop_culture pop_culture sports_&_gaming sports_&_gaming sports_&_gaming sports_&_gaming sports_&_gaming sports_&_gaming sports_&_gaming pop_culture pop_culture daily_life sports_&_gaming pop_culture business_&_entrepreneurs pop_culture pop_culture pop_culture pop_culture pop_culture pop_culture pop_culture pop_culture pop_culture pop_culture sports_&_gaming sports_&_gaming pop_culture sports_&_gaming daily_life pop_culture business_&_entrepreneurs pop_culture sports_&_gaming pop_culture pop_culture sports_&_gaming pop_culture sports_&_gaming pop_culture sports_&_gaming business_&_entrepreneurs daily_life sports_&_gaming sports_&_gaming sports_&_gaming sports_&_gaming sports_&_gaming pop_culture pop_culture pop_culture sports_&_gaming pop_culture sports_&_gaming sports_&_gaming sports_&_gaming pop_culture sports_&_gaming sports_&_gaming daily_life sports_&_gaming sports_&_gaming sports_&_gaming pop_culture sports_&_gaming science_&_technology sports_&_gaming sports_&_gaming sports_&_gaming sports_&_gaming arts_&_culture sports_&_gaming science_&_technology science_&_technology sports_&_gaming sports_&_gaming sports_&_gaming sports_&_gaming sports_&_gaming sports_&_gaming pop_culture sports_&_gaming sports_&_gaming sports_&_gaming daily_life sports_&_gaming sports_&_gaming daily_life sports_&_gaming science_&_technology sports_&_gaming sports_&_gaming sports_&_gaming daily_life sports_&_gaming sports_&_gaming sports_&_gaming daily_life pop_culture daily_life pop_culture pop_culture sports_&_gaming sports_&_gaming pop_culture sports_&_gaming pop_culture sports_&_gaming daily_life pop_culture sports_&_gaming pop_culture arts_&_culture arts_&_culture arts_&_culture arts_&_culture pop_culture science_&_technology pop_culture daily_life daily_life pop_culture pop_culture pop_culture pop_culture pop_culture daily_life pop_culture pop_culture pop_culture pop_culture sports_&_gaming pop_culture daily_life daily_life sports_&_gaming pop_culture sports_&_gaming daily_life business_&_entrepreneurs sports_&_gaming daily_life sports_&_gaming daily_life pop_culture sports_&_gaming pop_culture sports_&_gaming pop_culture pop_culture pop_culture business_&_entrepreneurs sports_&_gaming arts_&_culture daily_life daily_life daily_life pop_culture daily_life pop_culture pop_culture daily_life pop_culture pop_culture pop_culture pop_culture pop_culture pop_culture pop_culture pop_culture daily_life pop_culture pop_culture daily_life pop_culture pop_culture arts_&_culture daily_life sports_&_gaming sports_&_gaming sports_&_gaming business_&_entrepreneurs pop_culture science_&_technology sports_&_gaming sports_&_gaming pop_culture sports_&_gaming arts_&_culture arts_&_culture pop_culture pop_culture daily_life pop_culture pop_culture pop_culture daily_life sports_&_gaming pop_culture sports_&_gaming pop_culture pop_culture pop_culture pop_culture sports_&_gaming pop_culture sports_&_gaming sports_&_gaming sports_&_gaming sports_&_gaming pop_culture pop_culture pop_culture pop_culture pop_culture pop_culture pop_culture pop_culture pop_culture pop_culture pop_culture sports_&_gaming pop_culture sports_&_gaming pop_culture pop_culture pop_culture pop_culture pop_culture sports_&_gaming science_&_technology pop_culture sports_&_gaming sports_&_gaming sports_&_gaming sports_&_gaming pop_culture pop_culture pop_culture pop_culture pop_culture pop_culture sports_&_gaming pop_culture pop_culture sports_&_gaming pop_culture sports_&_gaming sports_&_gaming sports_&_gaming pop_culture pop_culture pop_culture pop_culture pop_culture pop_culture pop_culture pop_culture sports_&_gaming pop_culture pop_culture sports_&_gaming sports_&_gaming pop_culture pop_culture sports_&_gaming pop_culture pop_culture pop_culture daily_life science_&_technology daily_life pop_culture sports_&_gaming pop_culture pop_culture sports_&_gaming science_&_technology science_&_technology pop_culture pop_culture sports_&_gaming sports_&_gaming pop_culture sports_&_gaming business_&_entrepreneurs sports_&_gaming sports_&_gaming pop_culture business_&_entrepreneurs pop_culture sports_&_gaming sports_&_gaming pop_culture science_&_technology pop_culture sports_&_gaming business_&_entrepreneurs sports_&_gaming sports_&_gaming sports_&_gaming pop_culture business_&_entrepreneurs business_&_entrepreneurs business_&_entrepreneurs business_&_entrepreneurs science_&_technology pop_culture daily_life pop_culture sports_&_gaming sports_&_gaming sports_&_gaming sports_&_gaming pop_culture pop_culture pop_culture pop_culture pop_culture pop_culture pop_culture pop_culture daily_life daily_life pop_culture sports_&_gaming pop_culture sports_&_gaming pop_culture sports_&_gaming science_&_technology pop_culture sports_&_gaming sports_&_gaming sports_&_gaming pop_culture sports_&_gaming sports_&_gaming science_&_technology pop_culture pop_culture pop_culture pop_culture pop_culture sports_&_gaming daily_life sports_&_gaming pop_culture sports_&_gaming sports_&_gaming sports_&_gaming pop_culture sports_&_gaming sports_&_gaming sports_&_gaming sports_&_gaming sports_&_gaming pop_culture sports_&_gaming sports_&_gaming sports_&_gaming sports_&_gaming science_&_technology sports_&_gaming sports_&_gaming sports_&_gaming sports_&_gaming sports_&_gaming sports_&_gaming sports_&_gaming sports_&_gaming sports_&_gaming sports_&_gaming pop_culture sports_&_gaming science_&_technology sports_&_gaming sports_&_gaming arts_&_culture daily_life daily_life daily_life pop_culture daily_life pop_culture sports_&_gaming sports_&_gaming sports_&_gaming sports_&_gaming daily_life sports_&_gaming daily_life daily_life daily_life daily_life daily_life science_&_technology daily_life pop_culture sports_&_gaming sports_&_gaming sports_&_gaming sports_&_gaming sports_&_gaming business_&_entrepreneurs pop_culture pop_culture arts_&_culture pop_culture daily_life pop_culture sports_&_gaming science_&_technology pop_culture pop_culture pop_culture science_&_technology pop_culture pop_culture pop_culture sports_&_gaming sports_&_gaming sports_&_gaming sports_&_gaming daily_life sports_&_gaming pop_culture arts_&_culture daily_life sports_&_gaming sports_&_gaming pop_culture science_&_technology business_&_entrepreneurs pop_culture pop_culture business_&_entrepreneurs pop_culture sports_&_gaming pop_culture pop_culture sports_&_gaming pop_culture business_&_entrepreneurs pop_culture pop_culture sports_&_gaming pop_culture daily_life pop_culture pop_culture pop_culture sports_&_gaming sports_&_gaming sports_&_gaming pop_culture pop_culture daily_life pop_culture sports_&_gaming sports_&_gaming sports_&_gaming sports_&_gaming pop_culture pop_culture pop_culture pop_culture pop_culture pop_culture pop_culture pop_culture pop_culture sports_&_gaming pop_culture pop_culture pop_culture pop_culture pop_culture pop_culture pop_culture pop_culture pop_culture sports_&_gaming sports_&_gaming sports_&_gaming sports_&_gaming pop_culture sports_&_gaming sports_&_gaming sports_&_gaming pop_culture daily_life sports_&_gaming pop_culture pop_culture pop_culture daily_life business_&_entrepreneurs sports_&_gaming pop_culture daily_life sports_&_gaming sports_&_gaming sports_&_gaming arts_&_culture daily_life pop_culture daily_life pop_culture business_&_entrepreneurs pop_culture daily_life sports_&_gaming pop_culture pop_culture pop_culture pop_culture business_&_entrepreneurs sports_&_gaming sports_&_gaming sports_&_gaming daily_life pop_culture sports_&_gaming sports_&_gaming sports_&_gaming sports_&_gaming sports_&_gaming sports_&_gaming pop_culture pop_culture arts_&_culture sports_&_gaming sports_&_gaming daily_life pop_culture sports_&_gaming sports_&_gaming science_&_technology sports_&_gaming sports_&_gaming pop_culture pop_culture business_&_entrepreneurs pop_culture business_&_entrepreneurs business_&_entrepreneurs sports_&_gaming sports_&_gaming sports_&_gaming sports_&_gaming sports_&_gaming pop_culture sports_&_gaming sports_&_gaming sports_&_gaming pop_culture sports_&_gaming daily_life science_&_technology daily_life sports_&_gaming pop_culture pop_culture arts_&_culture business_&_entrepreneurs sports_&_gaming sports_&_gaming pop_culture pop_culture science_&_technology pop_culture science_&_technology pop_culture pop_culture pop_culture pop_culture sports_&_gaming business_&_entrepreneurs pop_culture science_&_technology arts_&_culture pop_culture science_&_technology pop_culture business_&_entrepreneurs daily_life pop_culture pop_culture daily_life arts_&_culture pop_culture pop_culture sports_&_gaming science_&_technology pop_culture pop_culture pop_culture arts_&_culture pop_culture sports_&_gaming daily_life pop_culture pop_culture sports_&_gaming arts_&_culture pop_culture pop_culture pop_culture pop_culture pop_culture pop_culture pop_culture pop_culture daily_life pop_culture pop_culture pop_culture pop_culture pop_culture sports_&_gaming sports_&_gaming pop_culture pop_culture pop_culture pop_culture pop_culture daily_life pop_culture pop_culture pop_culture sports_&_gaming pop_culture sports_&_gaming sports_&_gaming pop_culture sports_&_gaming sports_&_gaming science_&_technology pop_culture sports_&_gaming sports_&_gaming sports_&_gaming sports_&_gaming sports_&_gaming sports_&_gaming sports_&_gaming science_&_technology science_&_technology science_&_technology daily_life science_&_technology science_&_technology science_&_technology sports_&_gaming daily_life sports_&_gaming pop_culture pop_culture sports_&_gaming pop_culture sports_&_gaming daily_life pop_culture science_&_technology science_&_technology science_&_technology sports_&_gaming science_&_technology science_&_technology science_&_technology science_&_technology science_&_technology sports_&_gaming sports_&_gaming sports_&_gaming pop_culture daily_life science_&_technology daily_life science_&_technology daily_life sports_&_gaming sports_&_gaming pop_culture sports_&_gaming sports_&_gaming sports_&_gaming sports_&_gaming arts_&_culture sports_&_gaming pop_culture pop_culture pop_culture arts_&_culture arts_&_culture sports_&_gaming pop_culture sports_&_gaming pop_culture daily_life pop_culture science_&_technology pop_culture pop_culture pop_culture sports_&_gaming sports_&_gaming sports_&_gaming sports_&_gaming pop_culture sports_&_gaming sports_&_gaming pop_culture sports_&_gaming sports_&_gaming pop_culture sports_&_gaming sports_&_gaming pop_culture sports_&_gaming pop_culture sports_&_gaming sports_&_gaming pop_culture pop_culture pop_culture pop_culture pop_culture pop_culture sports_&_gaming business_&_entrepreneurs pop_culture pop_culture pop_culture pop_culture pop_culture pop_culture sports_&_gaming daily_life pop_culture pop_culture sports_&_gaming arts_&_culture sports_&_gaming sports_&_gaming sports_&_gaming pop_culture pop_culture pop_culture daily_life pop_culture pop_culture sports_&_gaming sports_&_gaming pop_culture sports_&_gaming daily_life pop_culture arts_&_culture sports_&_gaming pop_culture pop_culture sports_&_gaming daily_life sports_&_gaming pop_culture pop_culture pop_culture daily_life daily_life daily_life pop_culture sports_&_gaming pop_culture sports_&_gaming daily_life science_&_technology sports_&_gaming sports_&_gaming science_&_technology pop_culture sports_&_gaming sports_&_gaming sports_&_gaming pop_culture sports_&_gaming pop_culture sports_&_gaming pop_culture science_&_technology business_&_entrepreneurs pop_culture sports_&_gaming sports_&_gaming sports_&_gaming sports_&_gaming sports_&_gaming pop_culture daily_life business_&_entrepreneurs daily_life daily_life pop_culture pop_culture daily_life science_&_technology science_&_technology pop_culture sports_&_gaming daily_life science_&_technology sports_&_gaming business_&_entrepreneurs sports_&_gaming pop_culture sports_&_gaming daily_life sports_&_gaming pop_culture sports_&_gaming business_&_entrepreneurs pop_culture daily_life arts_&_culture sports_&_gaming pop_culture pop_culture pop_culture pop_culture daily_life daily_life pop_culture pop_culture business_&_entrepreneurs business_&_entrepreneurs pop_culture pop_culture pop_culture pop_culture science_&_technology sports_&_gaming business_&_entrepreneurs pop_culture sports_&_gaming sports_&_gaming sports_&_gaming sports_&_gaming sports_&_gaming sports_&_gaming sports_&_gaming pop_culture sports_&_gaming pop_culture sports_&_gaming pop_culture sports_&_gaming sports_&_gaming pop_culture sports_&_gaming business_&_entrepreneurs sports_&_gaming sports_&_gaming sports_&_gaming sports_&_gaming pop_culture sports_&_gaming pop_culture sports_&_gaming sports_&_gaming pop_culture arts_&_culture pop_culture daily_life arts_&_culture sports_&_gaming daily_life sports_&_gaming daily_life daily_life sports_&_gaming sports_&_gaming sports_&_gaming sports_&_gaming sports_&_gaming pop_culture arts_&_culture pop_culture sports_&_gaming sports_&_gaming pop_culture sports_&_gaming daily_life daily_life pop_culture pop_culture pop_culture sports_&_gaming pop_culture pop_culture pop_culture pop_culture pop_culture sports_&_gaming sports_&_gaming pop_culture sports_&_gaming pop_culture pop_culture pop_culture business_&_entrepreneurs daily_life sports_&_gaming pop_culture sports_&_gaming pop_culture pop_culture pop_culture sports_&_gaming sports_&_gaming sports_&_gaming science_&_technology sports_&_gaming sports_&_gaming sports_&_gaming business_&_entrepreneurs daily_life sports_&_gaming business_&_entrepreneurs business_&_entrepreneurs pop_culture daily_life sports_&_gaming pop_culture pop_culture pop_culture sports_&_gaming sports_&_gaming pop_culture pop_culture sports_&_gaming sports_&_gaming sports_&_gaming daily_life business_&_entrepreneurs sports_&_gaming sports_&_gaming arts_&_culture arts_&_culture pop_culture pop_culture sports_&_gaming pop_culture business_&_entrepreneurs sports_&_gaming sports_&_gaming business_&_entrepreneurs sports_&_gaming pop_culture sports_&_gaming sports_&_gaming pop_culture pop_culture pop_culture pop_culture daily_life pop_culture pop_culture pop_culture sports_&_gaming daily_life daily_life pop_culture science_&_technology pop_culture daily_life daily_life pop_culture pop_culture daily_life daily_life daily_life daily_life daily_life daily_life pop_culture sports_&_gaming sports_&_gaming science_&_technology daily_life pop_culture pop_culture daily_life pop_culture sports_&_gaming pop_culture sports_&_gaming pop_culture pop_culture pop_culture pop_culture daily_life pop_culture pop_culture sports_&_gaming pop_culture pop_culture pop_culture sports_&_gaming pop_culture pop_culture sports_&_gaming pop_culture daily_life pop_culture pop_culture daily_life daily_life sports_&_gaming daily_life sports_&_gaming pop_culture daily_life sports_&_gaming daily_life daily_life pop_culture daily_life pop_culture pop_culture pop_culture sports_&_gaming pop_culture sports_&_gaming pop_culture pop_culture business_&_entrepreneurs pop_culture sports_&_gaming pop_culture pop_culture pop_culture sports_&_gaming pop_culture sports_&_gaming sports_&_gaming pop_culture pop_culture daily_life sports_&_gaming pop_culture sports_&_gaming pop_culture science_&_technology sports_&_gaming sports_&_gaming pop_culture pop_culture pop_culture pop_culture pop_culture daily_life pop_culture pop_culture sports_&_gaming sports_&_gaming sports_&_gaming pop_culture pop_culture pop_culture pop_culture pop_culture sports_&_gaming sports_&_gaming pop_culture sports_&_gaming sports_&_gaming sports_&_gaming pop_culture pop_culture pop_culture pop_culture pop_culture sports_&_gaming sports_&_gaming daily_life sports_&_gaming sports_&_gaming sports_&_gaming sports_&_gaming pop_culture pop_culture sports_&_gaming pop_culture pop_culture sports_&_gaming sports_&_gaming sports_&_gaming sports_&_gaming sports_&_gaming science_&_technology sports_&_gaming business_&_entrepreneurs business_&_entrepreneurs science_&_technology pop_culture sports_&_gaming daily_life pop_culture pop_culture science_&_technology pop_culture pop_culture business_&_entrepreneurs pop_culture pop_culture sports_&_gaming sports_&_gaming daily_life sports_&_gaming pop_culture business_&_entrepreneurs pop_culture science_&_technology sports_&_gaming sports_&_gaming daily_life science_&_technology pop_culture pop_culture sports_&_gaming sports_&_gaming pop_culture pop_culture sports_&_gaming pop_culture arts_&_culture pop_culture sports_&_gaming pop_culture sports_&_gaming sports_&_gaming pop_culture business_&_entrepreneurs arts_&_culture business_&_entrepreneurs business_&_entrepreneurs pop_culture sports_&_gaming pop_culture pop_culture sports_&_gaming sports_&_gaming pop_culture sports_&_gaming arts_&_culture pop_culture pop_culture pop_culture sports_&_gaming sports_&_gaming pop_culture pop_culture pop_culture pop_culture pop_culture pop_culture sports_&_gaming sports_&_gaming science_&_technology sports_&_gaming sports_&_gaming science_&_technology sports_&_gaming sports_&_gaming sports_&_gaming daily_life arts_&_culture daily_life sports_&_gaming sports_&_gaming daily_life sports_&_gaming daily_life pop_culture pop_culture pop_culture pop_culture pop_culture daily_life business_&_entrepreneurs daily_life business_&_entrepreneurs pop_culture daily_life sports_&_gaming sports_&_gaming sports_&_gaming sports_&_gaming sports_&_gaming pop_culture sports_&_gaming sports_&_gaming pop_culture pop_culture pop_culture sports_&_gaming pop_culture sports_&_gaming sports_&_gaming sports_&_gaming sports_&_gaming daily_life sports_&_gaming sports_&_gaming daily_life pop_culture sports_&_gaming daily_life pop_culture science_&_technology science_&_technology sports_&_gaming sports_&_gaming sports_&_gaming sports_&_gaming sports_&_gaming sports_&_gaming pop_culture daily_life pop_culture sports_&_gaming pop_culture pop_culture sports_&_gaming sports_&_gaming sports_&_gaming pop_culture sports_&_gaming pop_culture sports_&_gaming sports_&_gaming pop_culture sports_&_gaming sports_&_gaming pop_culture sports_&_gaming sports_&_gaming pop_culture pop_culture pop_culture sports_&_gaming pop_culture pop_culture sports_&_gaming sports_&_gaming pop_culture pop_culture pop_culture pop_culture pop_culture daily_life sports_&_gaming pop_culture science_&_technology pop_culture daily_life pop_culture daily_life pop_culture pop_culture business_&_entrepreneurs daily_life arts_&_culture pop_culture sports_&_gaming pop_culture sports_&_gaming pop_culture daily_life business_&_entrepreneurs pop_culture pop_culture pop_culture pop_culture pop_culture sports_&_gaming daily_life daily_life daily_life sports_&_gaming business_&_entrepreneurs sports_&_gaming science_&_technology daily_life business_&_entrepreneurs pop_culture pop_culture business_&_entrepreneurs'"
      ]
     },
     "execution_count": 15,
     "metadata": {},
     "output_type": "execute_result"
    }
   ],
   "source": [
    "text"
   ]
  },
  {
   "cell_type": "code",
   "execution_count": 16,
   "id": "e0a4649c",
   "metadata": {},
   "outputs": [
    {
     "data": {
      "image/png": "[encoded data removed]",
      "text/plain": [
       "<Figure size 432x288 with 1 Axes>"
      ]
     },
     "metadata": {
      "needs_background": "light"
     },
     "output_type": "display_data"
    }
   ],
   "source": [
    "# Generate a word cloud from label names using the wordcloud library\n",
    "word_cloud = WordCloud(collocations = False, background_color = 'white').generate(text)\n",
    "plt.imshow(word_cloud, interpolation='bilinear')\n",
    "plt.axis(\"off\")\n",
    "plt.show()"
   ]
  },
  {
   "attachments": {},
   "cell_type": "markdown",
   "id": "5d50adb9",
   "metadata": {},
   "source": [
    "# Data Modeling"
   ]
  },
  {
   "cell_type": "code",
   "execution_count": 17,
   "id": "d547f38f",
   "metadata": {},
   "outputs": [],
   "source": [
    "import re\n",
    "from sklearn.model_selection import train_test_split\n",
    "from sklearn.feature_extraction.text import TfidfVectorizer\n",
    "from sklearn.naive_bayes import MultinomialNB\n",
    "from sklearn.metrics import accuracy_score\n",
    "from sklearn.multiclass import OneVsRestClassifier\n",
    "from nltk.corpus import stopwords\n",
    "stop_words = set(stopwords.words('english'))\n",
    "from sklearn.svm import LinearSVC\n",
    "from sklearn.linear_model import LogisticRegression\n",
    "from sklearn.pipeline import Pipeline\n",
    "from sklearn.model_selection import GridSearchCV\n",
    "from sklearn.metrics import classification_report\n",
    "from sklearn.preprocessing import StandardScaler\n",
    "from sklearn.pipeline import Pipeline"
   ]
  },
  {
   "attachments": {},
   "cell_type": "markdown",
   "id": "50a1cd75",
   "metadata": {},
   "source": [
    " ##### cleaning the text"
   ]
  },
  {
   "cell_type": "code",
   "execution_count": 18,
   "id": "b769f8e9",
   "metadata": {},
   "outputs": [],
   "source": [
    "# To clean the text data\n",
    "def clean_text(text):\n",
    "    text = text.lower()\n",
    "    text = re.sub(r\"what's\", \"what is \", text)\n",
    "    text = re.sub(r\"\\'s\", \" \", text)\n",
    "    text = re.sub(r\"\\'ve\", \" have \", text)\n",
    "    text = re.sub(r\"can't\", \"can not \", text)\n",
    "    text = re.sub(r\"n't\", \" not \", text)\n",
    "    text = re.sub(r\"i'm\", \"i am \", text)\n",
    "    text = re.sub(r\"\\'re\", \" are \", text)\n",
    "    text = re.sub(r\"\\'d\", \" would \", text)\n",
    "    text = re.sub(r\"\\'ll\", \" will \", text)\n",
    "    text = re.sub(r\"\\'scuse\", \" excuse \", text)\n",
    "    text = re.sub('\\W', ' ', text)\n",
    "    text = re.sub('\\s+', ' ', text)\n",
    "    text = text.strip(' ')\n",
    "    return text"
   ]
  },
  {
   "cell_type": "code",
   "execution_count": 19,
   "id": "f2bd71e2",
   "metadata": {},
   "outputs": [
    {
     "data": {
      "text/plain": [
       "'the clinton lumberkings beat the cedar rapids kernels 4 0 in game 1 of the western division finals evan edwards hit a 2 run hr wp josh roberson 5 ip 3 h 0 r 0 bb 10 k mwlplayoffs mwlscoreboard'"
      ]
     },
     "execution_count": 19,
     "metadata": {},
     "output_type": "execute_result"
    }
   ],
   "source": [
    "# Apply the clean_text function to the 'text' column in the DF\n",
    "df['text'] = df['text'].map(lambda com : clean_text(com))\n",
    "df['text'][0]"
   ]
  },
  {
   "attachments": {},
   "cell_type": "markdown",
   "id": "e17c7078",
   "metadata": {},
   "source": [
    "# Data Transformation"
   ]
  },
  {
   "cell_type": "code",
   "execution_count": 20,
   "id": "36303238",
   "metadata": {},
   "outputs": [],
   "source": [
    "from sklearn.preprocessing import LabelEncoder\n",
    "label_encoder  = LabelEncoder()"
   ]
  },
  {
   "cell_type": "code",
   "execution_count": 21,
   "id": "7031584a",
   "metadata": {},
   "outputs": [],
   "source": [
    "# df['text'] = label_encoder.fit_transform(df['text'])\n",
    "# df['label_name'] = label_encoder.fit_transform(df['label_name'])"
   ]
  },
  {
   "attachments": {},
   "cell_type": "markdown",
   "id": "f761d853",
   "metadata": {},
   "source": [
    "# creating pipeline for logistic regression"
   ]
  },
  {
   "cell_type": "code",
   "execution_count": 22,
   "id": "11f5adfe",
   "metadata": {},
   "outputs": [],
   "source": [
    "steps=[\n",
    "    ('tfidf', TfidfVectorizer(stop_words=stop_words)),\n",
    "#     (\"standard_scaler\",StandardScaler()),\n",
    "    ('clf', LogisticRegression()),\n",
    "]"
   ]
  },
  {
   "cell_type": "code",
   "execution_count": 23,
   "id": "98748a99",
   "metadata": {},
   "outputs": [],
   "source": [
    "pipe = Pipeline(steps)"
   ]
  },
  {
   "cell_type": "code",
   "execution_count": 24,
   "id": "4e3a5cd3",
   "metadata": {},
   "outputs": [
    {
     "data": {
      "text/plain": [
       "Pipeline(steps=[('tfidf',\n",
       "                 TfidfVectorizer(stop_words={'a', 'about', 'above', 'after',\n",
       "                                             'again', 'against', 'ain', 'all',\n",
       "                                             'am', 'an', 'and', 'any', 'are',\n",
       "                                             'aren', \"aren't\", 'as', 'at', 'be',\n",
       "                                             'because', 'been', 'before',\n",
       "                                             'being', 'below', 'between',\n",
       "                                             'both', 'but', 'by', 'can',\n",
       "                                             'couldn', \"couldn't\", ...})),\n",
       "                ('clf', LogisticRegression())])"
      ]
     },
     "execution_count": 24,
     "metadata": {},
     "output_type": "execute_result"
    }
   ],
   "source": [
    "pipe"
   ]
  },
  {
   "attachments": {},
   "cell_type": "markdown",
   "id": "1ca31fd3",
   "metadata": {},
   "source": [
    "#### visualize pipeline"
   ]
  },
  {
   "cell_type": "code",
   "execution_count": 25,
   "id": "13e04d35",
   "metadata": {},
   "outputs": [],
   "source": [
    "from sklearn import set_config"
   ]
  },
  {
   "cell_type": "code",
   "execution_count": 26,
   "id": "af3fa041",
   "metadata": {},
   "outputs": [],
   "source": [
    "set_config(display = \"diagram\")"
   ]
  },
  {
   "cell_type": "code",
   "execution_count": 27,
   "id": "d37ca0aa",
   "metadata": {},
   "outputs": [
    {
     "data": {
      "text/html": [
       "<style>#sk-a28c96ea-5951-482f-8fc6-c95e6639b7f7 {color: black;background-color: white;}#sk-a28c96ea-5951-482f-8fc6-c95e6639b7f7 pre{padding: 0;}#sk-a28c96ea-5951-482f-8fc6-c95e6639b7f7 div.sk-toggleable {background-color: white;}#sk-a28c96ea-5951-482f-8fc6-c95e6639b7f7 label.sk-toggleable__label {cursor: pointer;display: block;width: 100%;margin-bottom: 0;padding: 0.3em;box-sizing: border-box;text-align: center;}#sk-a28c96ea-5951-482f-8fc6-c95e6639b7f7 div.sk-toggleable__content {max-height: 0;max-width: 0;overflow: hidden;text-align: left;background-color: #f0f8ff;}#sk-a28c96ea-5951-482f-8fc6-c95e6639b7f7 div.sk-toggleable__content pre {margin: 0.2em;color: black;border-radius: 0.25em;background-color: #f0f8ff;}#sk-a28c96ea-5951-482f-8fc6-c95e6639b7f7 input.sk-toggleable__control:checked~div.sk-toggleable__content {max-height: 200px;max-width: 100%;overflow: auto;}#sk-a28c96ea-5951-482f-8fc6-c95e6639b7f7 div.sk-estimator input.sk-toggleable__control:checked~label.sk-toggleable__label {background-color: #d4ebff;}#sk-a28c96ea-5951-482f-8fc6-c95e6639b7f7 div.sk-label input.sk-toggleable__control:checked~label.sk-toggleable__label {background-color: #d4ebff;}#sk-a28c96ea-5951-482f-8fc6-c95e6639b7f7 input.sk-hidden--visually {border: 0;clip: rect(1px 1px 1px 1px);clip: rect(1px, 1px, 1px, 1px);height: 1px;margin: -1px;overflow: hidden;padding: 0;position: absolute;width: 1px;}#sk-a28c96ea-5951-482f-8fc6-c95e6639b7f7 div.sk-estimator {font-family: monospace;background-color: #f0f8ff;border: 1px dotted black;border-radius: 0.25em;box-sizing: border-box;margin-bottom: 0.5em;}#sk-a28c96ea-5951-482f-8fc6-c95e6639b7f7 div.sk-estimator:hover {background-color: #d4ebff;}#sk-a28c96ea-5951-482f-8fc6-c95e6639b7f7 div.sk-parallel-item::after {content: \"\";width: 100%;border-bottom: 1px solid gray;flex-grow: 1;}#sk-a28c96ea-5951-482f-8fc6-c95e6639b7f7 div.sk-label:hover label.sk-toggleable__label {background-color: #d4ebff;}#sk-a28c96ea-5951-482f-8fc6-c95e6639b7f7 div.sk-serial::before {content: \"\";position: absolute;border-left: 1px solid gray;box-sizing: border-box;top: 2em;bottom: 0;left: 50%;}#sk-a28c96ea-5951-482f-8fc6-c95e6639b7f7 div.sk-serial {display: flex;flex-direction: column;align-items: center;background-color: white;padding-right: 0.2em;padding-left: 0.2em;}#sk-a28c96ea-5951-482f-8fc6-c95e6639b7f7 div.sk-item {z-index: 1;}#sk-a28c96ea-5951-482f-8fc6-c95e6639b7f7 div.sk-parallel {display: flex;align-items: stretch;justify-content: center;background-color: white;}#sk-a28c96ea-5951-482f-8fc6-c95e6639b7f7 div.sk-parallel::before {content: \"\";position: absolute;border-left: 1px solid gray;box-sizing: border-box;top: 2em;bottom: 0;left: 50%;}#sk-a28c96ea-5951-482f-8fc6-c95e6639b7f7 div.sk-parallel-item {display: flex;flex-direction: column;position: relative;background-color: white;}#sk-a28c96ea-5951-482f-8fc6-c95e6639b7f7 div.sk-parallel-item:first-child::after {align-self: flex-end;width: 50%;}#sk-a28c96ea-5951-482f-8fc6-c95e6639b7f7 div.sk-parallel-item:last-child::after {align-self: flex-start;width: 50%;}#sk-a28c96ea-5951-482f-8fc6-c95e6639b7f7 div.sk-parallel-item:only-child::after {width: 0;}#sk-a28c96ea-5951-482f-8fc6-c95e6639b7f7 div.sk-dashed-wrapped {border: 1px dashed gray;margin: 0 0.4em 0.5em 0.4em;box-sizing: border-box;padding-bottom: 0.4em;background-color: white;position: relative;}#sk-a28c96ea-5951-482f-8fc6-c95e6639b7f7 div.sk-label label {font-family: monospace;font-weight: bold;background-color: white;display: inline-block;line-height: 1.2em;}#sk-a28c96ea-5951-482f-8fc6-c95e6639b7f7 div.sk-label-container {position: relative;z-index: 2;text-align: center;}#sk-a28c96ea-5951-482f-8fc6-c95e6639b7f7 div.sk-container {display: inline-block;position: relative;}</style><div id=\"sk-a28c96ea-5951-482f-8fc6-c95e6639b7f7\" class\"sk-top-container\"><div class=\"sk-container\"><div class=\"sk-item sk-dashed-wrapped\"><div class=\"sk-label-container\"><div class=\"sk-label sk-toggleable\"><input class=\"sk-toggleable__control sk-hidden--visually\" id=\"4eced2ad-cabf-42c4-9d8f-89ff82ba5dc0\" type=\"checkbox\" ><label class=\"sk-toggleable__label\" for=\"4eced2ad-cabf-42c4-9d8f-89ff82ba5dc0\">Pipeline</label><div class=\"sk-toggleable__content\"><pre>Pipeline(steps=[('tfidf',\n",
       "                 TfidfVectorizer(stop_words={'a', 'about', 'above', 'after',\n",
       "                                             'again', 'against', 'ain', 'all',\n",
       "                                             'am', 'an', 'and', 'any', 'are',\n",
       "                                             'aren', \"aren't\", 'as', 'at', 'be',\n",
       "                                             'because', 'been', 'before',\n",
       "                                             'being', 'below', 'between',\n",
       "                                             'both', 'but', 'by', 'can',\n",
       "                                             'couldn', \"couldn't\", ...})),\n",
       "                ('clf', LogisticRegression())])</pre></div></div></div><div class=\"sk-serial\"><div class=\"sk-item\"><div class=\"sk-estimator sk-toggleable\"><input class=\"sk-toggleable__control sk-hidden--visually\" id=\"d4db7bd5-e1c1-46fd-9e0e-2063499e46ee\" type=\"checkbox\" ><label class=\"sk-toggleable__label\" for=\"d4db7bd5-e1c1-46fd-9e0e-2063499e46ee\">TfidfVectorizer</label><div class=\"sk-toggleable__content\"><pre>TfidfVectorizer(stop_words={'a', 'about', 'above', 'after', 'again', 'against',\n",
       "                            'ain', 'all', 'am', 'an', 'and', 'any', 'are',\n",
       "                            'aren', \"aren't\", 'as', 'at', 'be', 'because',\n",
       "                            'been', 'before', 'being', 'below', 'between',\n",
       "                            'both', 'but', 'by', 'can', 'couldn', \"couldn't\", ...})</pre></div></div></div><div class=\"sk-item\"><div class=\"sk-estimator sk-toggleable\"><input class=\"sk-toggleable__control sk-hidden--visually\" id=\"d5034d23-17da-491f-935b-6e85a16adaaf\" type=\"checkbox\" ><label class=\"sk-toggleable__label\" for=\"d5034d23-17da-491f-935b-6e85a16adaaf\">LogisticRegression</label><div class=\"sk-toggleable__content\"><pre>LogisticRegression()</pre></div></div></div></div></div></div></div>"
      ],
      "text/plain": [
       "Pipeline(steps=[('tfidf',\n",
       "                 TfidfVectorizer(stop_words={'a', 'about', 'above', 'after',\n",
       "                                             'again', 'against', 'ain', 'all',\n",
       "                                             'am', 'an', 'and', 'any', 'are',\n",
       "                                             'aren', \"aren't\", 'as', 'at', 'be',\n",
       "                                             'because', 'been', 'before',\n",
       "                                             'being', 'below', 'between',\n",
       "                                             'both', 'but', 'by', 'can',\n",
       "                                             'couldn', \"couldn't\", ...})),\n",
       "                ('clf', LogisticRegression())])"
      ]
     },
     "execution_count": 27,
     "metadata": {},
     "output_type": "execute_result"
    }
   ],
   "source": [
    "pipe"
   ]
  },
  {
   "attachments": {},
   "cell_type": "markdown",
   "id": "e9a984a5",
   "metadata": {},
   "source": [
    "# data preperation"
   ]
  },
  {
   "cell_type": "code",
   "execution_count": 28,
   "id": "714878cc",
   "metadata": {},
   "outputs": [],
   "source": [
    "# Split the data into training and testing sets\n",
    "train , test= train_test_split(df,test_size=0.3,random_state=100)"
   ]
  },
  {
   "cell_type": "code",
   "execution_count": 29,
   "id": "178b9867",
   "metadata": {},
   "outputs": [
    {
     "data": {
      "text/html": [
       "<div>\n",
       "<style scoped>\n",
       "    .dataframe tbody tr th:only-of-type {\n",
       "        vertical-align: middle;\n",
       "    }\n",
       "\n",
       "    .dataframe tbody tr th {\n",
       "        vertical-align: top;\n",
       "    }\n",
       "\n",
       "    .dataframe thead th {\n",
       "        text-align: right;\n",
       "    }\n",
       "</style>\n",
       "<table border=\"1\" class=\"dataframe\">\n",
       "  <thead>\n",
       "    <tr style=\"text-align: right;\">\n",
       "      <th></th>\n",
       "      <th>text</th>\n",
       "      <th>date</th>\n",
       "      <th>label</th>\n",
       "      <th>id</th>\n",
       "      <th>label_name</th>\n",
       "    </tr>\n",
       "  </thead>\n",
       "  <tbody>\n",
       "    <tr>\n",
       "      <th>4652</th>\n",
       "      <td>unpaid family carers feel completely ignored b...</td>\n",
       "      <td>2020-04-26</td>\n",
       "      <td>3</td>\n",
       "      <td>1254316349117075456</td>\n",
       "      <td>daily_life</td>\n",
       "    </tr>\n",
       "    <tr>\n",
       "      <th>1036</th>\n",
       "      <td>rise of skywalker rings up second best christm...</td>\n",
       "      <td>2019-12-26</td>\n",
       "      <td>2</td>\n",
       "      <td>1210255490938265601</td>\n",
       "      <td>pop_culture</td>\n",
       "    </tr>\n",
       "    <tr>\n",
       "      <th>528</th>\n",
       "      <td>ufc 244 results stephen thompson defeats vicen...</td>\n",
       "      <td>2019-11-03</td>\n",
       "      <td>4</td>\n",
       "      <td>1190838919555739648</td>\n",
       "      <td>sports_&amp;_gaming</td>\n",
       "    </tr>\n",
       "    <tr>\n",
       "      <th>6173</th>\n",
       "      <td>the devil wears prada turns 15 the film s icon...</td>\n",
       "      <td>2021-07-04</td>\n",
       "      <td>2</td>\n",
       "      <td>1411504370571689985</td>\n",
       "      <td>pop_culture</td>\n",
       "    </tr>\n",
       "    <tr>\n",
       "      <th>1395</th>\n",
       "      <td>tomorrow evening i will be announcing my fanho...</td>\n",
       "      <td>2020-02-09</td>\n",
       "      <td>4</td>\n",
       "      <td>1226350639283888133</td>\n",
       "      <td>sports_&amp;_gaming</td>\n",
       "    </tr>\n",
       "    <tr>\n",
       "      <th>...</th>\n",
       "      <td>...</td>\n",
       "      <td>...</td>\n",
       "      <td>...</td>\n",
       "      <td>...</td>\n",
       "      <td>...</td>\n",
       "    </tr>\n",
       "    <tr>\n",
       "      <th>6026</th>\n",
       "      <td>chelsea and manchester city fans clash in port...</td>\n",
       "      <td>2021-05-30</td>\n",
       "      <td>4</td>\n",
       "      <td>1398969070142300160</td>\n",
       "      <td>sports_&amp;_gaming</td>\n",
       "    </tr>\n",
       "    <tr>\n",
       "      <th>79</th>\n",
       "      <td>other games in the area username at grandview ...</td>\n",
       "      <td>2019-09-13</td>\n",
       "      <td>4</td>\n",
       "      <td>1172630432384466944</td>\n",
       "      <td>sports_&amp;_gaming</td>\n",
       "    </tr>\n",
       "    <tr>\n",
       "      <th>3927</th>\n",
       "      <td>i choose on the ground i nominate twice whosfa...</td>\n",
       "      <td>2021-05-23</td>\n",
       "      <td>2</td>\n",
       "      <td>1396435400265109514</td>\n",
       "      <td>pop_culture</td>\n",
       "    </tr>\n",
       "    <tr>\n",
       "      <th>5955</th>\n",
       "      <td>wrote up my experiences and thoughts on electr...</td>\n",
       "      <td>2021-05-16</td>\n",
       "      <td>5</td>\n",
       "      <td>1393958669679689738</td>\n",
       "      <td>science_&amp;_technology</td>\n",
       "    </tr>\n",
       "    <tr>\n",
       "      <th>5640</th>\n",
       "      <td>so proud of my best friend username he finally...</td>\n",
       "      <td>2021-03-13</td>\n",
       "      <td>3</td>\n",
       "      <td>1370856637737570308</td>\n",
       "      <td>daily_life</td>\n",
       "    </tr>\n",
       "  </tbody>\n",
       "</table>\n",
       "<p>4510 rows × 5 columns</p>\n",
       "</div>"
      ],
      "text/plain": [
       "                                                   text       date  label  \\\n",
       "4652  unpaid family carers feel completely ignored b... 2020-04-26      3   \n",
       "1036  rise of skywalker rings up second best christm... 2019-12-26      2   \n",
       "528   ufc 244 results stephen thompson defeats vicen... 2019-11-03      4   \n",
       "6173  the devil wears prada turns 15 the film s icon... 2021-07-04      2   \n",
       "1395  tomorrow evening i will be announcing my fanho... 2020-02-09      4   \n",
       "...                                                 ...        ...    ...   \n",
       "6026  chelsea and manchester city fans clash in port... 2021-05-30      4   \n",
       "79    other games in the area username at grandview ... 2019-09-13      4   \n",
       "3927  i choose on the ground i nominate twice whosfa... 2021-05-23      2   \n",
       "5955  wrote up my experiences and thoughts on electr... 2021-05-16      5   \n",
       "5640  so proud of my best friend username he finally... 2021-03-13      3   \n",
       "\n",
       "                       id            label_name  \n",
       "4652  1254316349117075456            daily_life  \n",
       "1036  1210255490938265601           pop_culture  \n",
       "528   1190838919555739648       sports_&_gaming  \n",
       "6173  1411504370571689985           pop_culture  \n",
       "1395  1226350639283888133       sports_&_gaming  \n",
       "...                   ...                   ...  \n",
       "6026  1398969070142300160       sports_&_gaming  \n",
       "79    1172630432384466944       sports_&_gaming  \n",
       "3927  1396435400265109514           pop_culture  \n",
       "5955  1393958669679689738  science_&_technology  \n",
       "5640  1370856637737570308            daily_life  \n",
       "\n",
       "[4510 rows x 5 columns]"
      ]
     },
     "execution_count": 29,
     "metadata": {},
     "output_type": "execute_result"
    }
   ],
   "source": [
    "train"
   ]
  },
  {
   "cell_type": "code",
   "execution_count": 30,
   "id": "4155430a",
   "metadata": {},
   "outputs": [
    {
     "data": {
      "text/plain": [
       "4652    unpaid family carers feel completely ignored b...\n",
       "1036    rise of skywalker rings up second best christm...\n",
       "528     ufc 244 results stephen thompson defeats vicen...\n",
       "6173    the devil wears prada turns 15 the film s icon...\n",
       "1395    tomorrow evening i will be announcing my fanho...\n",
       "                              ...                        \n",
       "6026    chelsea and manchester city fans clash in port...\n",
       "79      other games in the area username at grandview ...\n",
       "3927    i choose on the ground i nominate twice whosfa...\n",
       "5955    wrote up my experiences and thoughts on electr...\n",
       "5640    so proud of my best friend username he finally...\n",
       "Name: text, Length: 4510, dtype: object"
      ]
     },
     "execution_count": 30,
     "metadata": {},
     "output_type": "execute_result"
    }
   ],
   "source": [
    "x_train = train.text\n",
    "x_train"
   ]
  },
  {
   "cell_type": "code",
   "execution_count": 31,
   "id": "a9d082d8",
   "metadata": {},
   "outputs": [
    {
     "data": {
      "text/plain": [
       "5699    username stayed grounded as she and her mt wom...\n",
       "449     dear harry styles i hope you re having a wonde...\n",
       "5938    ufc 262 results charles oliveira defeats micha...\n",
       "6304    alarm set for 2 25am just incase i fall asleep...\n",
       "6394    elsewhere in the the new york times opinion se...\n",
       "                              ...                        \n",
       "621     remember how amazing jason donovan was on stri...\n",
       "5218    as much as i thought that ohio state needs to ...\n",
       "3757    oooo waitwait put tap dancing sounds for the k...\n",
       "4462    y all remember a couple weeks ago when major l...\n",
       "2115    awesome fights on the ufc 249 card today bryce...\n",
       "Name: text, Length: 1933, dtype: object"
      ]
     },
     "execution_count": 31,
     "metadata": {},
     "output_type": "execute_result"
    }
   ],
   "source": [
    "x_test = test.text\n",
    "x_test"
   ]
  },
  {
   "cell_type": "code",
   "execution_count": 32,
   "id": "16cb458a",
   "metadata": {},
   "outputs": [
    {
     "data": {
      "text/plain": [
       "4652              daily_life\n",
       "1036             pop_culture\n",
       "528          sports_&_gaming\n",
       "6173             pop_culture\n",
       "1395         sports_&_gaming\n",
       "                ...         \n",
       "6026         sports_&_gaming\n",
       "79           sports_&_gaming\n",
       "3927             pop_culture\n",
       "5955    science_&_technology\n",
       "5640              daily_life\n",
       "Name: label_name, Length: 4510, dtype: object"
      ]
     },
     "execution_count": 32,
     "metadata": {},
     "output_type": "execute_result"
    }
   ],
   "source": [
    "y_train = train.label_name\n",
    "y_train"
   ]
  },
  {
   "cell_type": "code",
   "execution_count": 33,
   "id": "8e419c20",
   "metadata": {},
   "outputs": [
    {
     "data": {
      "text/plain": [
       "5699    sports_&_gaming\n",
       "449         pop_culture\n",
       "5938    sports_&_gaming\n",
       "6304    sports_&_gaming\n",
       "6394        pop_culture\n",
       "             ...       \n",
       "621         pop_culture\n",
       "5218    sports_&_gaming\n",
       "3757        pop_culture\n",
       "4462    sports_&_gaming\n",
       "2115    sports_&_gaming\n",
       "Name: label_name, Length: 1933, dtype: object"
      ]
     },
     "execution_count": 33,
     "metadata": {},
     "output_type": "execute_result"
    }
   ],
   "source": [
    "y_test = test.label_name\n",
    "y_test"
   ]
  },
  {
   "cell_type": "code",
   "execution_count": 34,
   "id": "a63f4f1a",
   "metadata": {},
   "outputs": [
    {
     "data": {
      "text/html": [
       "<style>#sk-f28f367f-ff54-4d2e-9ffd-f8fe4a78ca8c {color: black;background-color: white;}#sk-f28f367f-ff54-4d2e-9ffd-f8fe4a78ca8c pre{padding: 0;}#sk-f28f367f-ff54-4d2e-9ffd-f8fe4a78ca8c div.sk-toggleable {background-color: white;}#sk-f28f367f-ff54-4d2e-9ffd-f8fe4a78ca8c label.sk-toggleable__label {cursor: pointer;display: block;width: 100%;margin-bottom: 0;padding: 0.3em;box-sizing: border-box;text-align: center;}#sk-f28f367f-ff54-4d2e-9ffd-f8fe4a78ca8c div.sk-toggleable__content {max-height: 0;max-width: 0;overflow: hidden;text-align: left;background-color: #f0f8ff;}#sk-f28f367f-ff54-4d2e-9ffd-f8fe4a78ca8c div.sk-toggleable__content pre {margin: 0.2em;color: black;border-radius: 0.25em;background-color: #f0f8ff;}#sk-f28f367f-ff54-4d2e-9ffd-f8fe4a78ca8c input.sk-toggleable__control:checked~div.sk-toggleable__content {max-height: 200px;max-width: 100%;overflow: auto;}#sk-f28f367f-ff54-4d2e-9ffd-f8fe4a78ca8c div.sk-estimator input.sk-toggleable__control:checked~label.sk-toggleable__label {background-color: #d4ebff;}#sk-f28f367f-ff54-4d2e-9ffd-f8fe4a78ca8c div.sk-label input.sk-toggleable__control:checked~label.sk-toggleable__label {background-color: #d4ebff;}#sk-f28f367f-ff54-4d2e-9ffd-f8fe4a78ca8c input.sk-hidden--visually {border: 0;clip: rect(1px 1px 1px 1px);clip: rect(1px, 1px, 1px, 1px);height: 1px;margin: -1px;overflow: hidden;padding: 0;position: absolute;width: 1px;}#sk-f28f367f-ff54-4d2e-9ffd-f8fe4a78ca8c div.sk-estimator {font-family: monospace;background-color: #f0f8ff;border: 1px dotted black;border-radius: 0.25em;box-sizing: border-box;margin-bottom: 0.5em;}#sk-f28f367f-ff54-4d2e-9ffd-f8fe4a78ca8c div.sk-estimator:hover {background-color: #d4ebff;}#sk-f28f367f-ff54-4d2e-9ffd-f8fe4a78ca8c div.sk-parallel-item::after {content: \"\";width: 100%;border-bottom: 1px solid gray;flex-grow: 1;}#sk-f28f367f-ff54-4d2e-9ffd-f8fe4a78ca8c div.sk-label:hover label.sk-toggleable__label {background-color: #d4ebff;}#sk-f28f367f-ff54-4d2e-9ffd-f8fe4a78ca8c div.sk-serial::before {content: \"\";position: absolute;border-left: 1px solid gray;box-sizing: border-box;top: 2em;bottom: 0;left: 50%;}#sk-f28f367f-ff54-4d2e-9ffd-f8fe4a78ca8c div.sk-serial {display: flex;flex-direction: column;align-items: center;background-color: white;padding-right: 0.2em;padding-left: 0.2em;}#sk-f28f367f-ff54-4d2e-9ffd-f8fe4a78ca8c div.sk-item {z-index: 1;}#sk-f28f367f-ff54-4d2e-9ffd-f8fe4a78ca8c div.sk-parallel {display: flex;align-items: stretch;justify-content: center;background-color: white;}#sk-f28f367f-ff54-4d2e-9ffd-f8fe4a78ca8c div.sk-parallel::before {content: \"\";position: absolute;border-left: 1px solid gray;box-sizing: border-box;top: 2em;bottom: 0;left: 50%;}#sk-f28f367f-ff54-4d2e-9ffd-f8fe4a78ca8c div.sk-parallel-item {display: flex;flex-direction: column;position: relative;background-color: white;}#sk-f28f367f-ff54-4d2e-9ffd-f8fe4a78ca8c div.sk-parallel-item:first-child::after {align-self: flex-end;width: 50%;}#sk-f28f367f-ff54-4d2e-9ffd-f8fe4a78ca8c div.sk-parallel-item:last-child::after {align-self: flex-start;width: 50%;}#sk-f28f367f-ff54-4d2e-9ffd-f8fe4a78ca8c div.sk-parallel-item:only-child::after {width: 0;}#sk-f28f367f-ff54-4d2e-9ffd-f8fe4a78ca8c div.sk-dashed-wrapped {border: 1px dashed gray;margin: 0 0.4em 0.5em 0.4em;box-sizing: border-box;padding-bottom: 0.4em;background-color: white;position: relative;}#sk-f28f367f-ff54-4d2e-9ffd-f8fe4a78ca8c div.sk-label label {font-family: monospace;font-weight: bold;background-color: white;display: inline-block;line-height: 1.2em;}#sk-f28f367f-ff54-4d2e-9ffd-f8fe4a78ca8c div.sk-label-container {position: relative;z-index: 2;text-align: center;}#sk-f28f367f-ff54-4d2e-9ffd-f8fe4a78ca8c div.sk-container {display: inline-block;position: relative;}</style><div id=\"sk-f28f367f-ff54-4d2e-9ffd-f8fe4a78ca8c\" class\"sk-top-container\"><div class=\"sk-container\"><div class=\"sk-item sk-dashed-wrapped\"><div class=\"sk-label-container\"><div class=\"sk-label sk-toggleable\"><input class=\"sk-toggleable__control sk-hidden--visually\" id=\"f9c168ec-2a51-4762-afee-7c21a0030a33\" type=\"checkbox\" ><label class=\"sk-toggleable__label\" for=\"f9c168ec-2a51-4762-afee-7c21a0030a33\">Pipeline</label><div class=\"sk-toggleable__content\"><pre>Pipeline(steps=[('tfidf',\n",
       "                 TfidfVectorizer(stop_words={'a', 'about', 'above', 'after',\n",
       "                                             'again', 'against', 'ain', 'all',\n",
       "                                             'am', 'an', 'and', 'any', 'are',\n",
       "                                             'aren', \"aren't\", 'as', 'at', 'be',\n",
       "                                             'because', 'been', 'before',\n",
       "                                             'being', 'below', 'between',\n",
       "                                             'both', 'but', 'by', 'can',\n",
       "                                             'couldn', \"couldn't\", ...})),\n",
       "                ('clf', LogisticRegression())])</pre></div></div></div><div class=\"sk-serial\"><div class=\"sk-item\"><div class=\"sk-estimator sk-toggleable\"><input class=\"sk-toggleable__control sk-hidden--visually\" id=\"b43e3bb2-ae06-461b-949f-5d3e4c6c1c06\" type=\"checkbox\" ><label class=\"sk-toggleable__label\" for=\"b43e3bb2-ae06-461b-949f-5d3e4c6c1c06\">TfidfVectorizer</label><div class=\"sk-toggleable__content\"><pre>TfidfVectorizer(stop_words={'a', 'about', 'above', 'after', 'again', 'against',\n",
       "                            'ain', 'all', 'am', 'an', 'and', 'any', 'are',\n",
       "                            'aren', \"aren't\", 'as', 'at', 'be', 'because',\n",
       "                            'been', 'before', 'being', 'below', 'between',\n",
       "                            'both', 'but', 'by', 'can', 'couldn', \"couldn't\", ...})</pre></div></div></div><div class=\"sk-item\"><div class=\"sk-estimator sk-toggleable\"><input class=\"sk-toggleable__control sk-hidden--visually\" id=\"6d991766-e60a-4600-b9d2-935a21cd9868\" type=\"checkbox\" ><label class=\"sk-toggleable__label\" for=\"6d991766-e60a-4600-b9d2-935a21cd9868\">LogisticRegression</label><div class=\"sk-toggleable__content\"><pre>LogisticRegression()</pre></div></div></div></div></div></div></div>"
      ],
      "text/plain": [
       "Pipeline(steps=[('tfidf',\n",
       "                 TfidfVectorizer(stop_words={'a', 'about', 'above', 'after',\n",
       "                                             'again', 'against', 'ain', 'all',\n",
       "                                             'am', 'an', 'and', 'any', 'are',\n",
       "                                             'aren', \"aren't\", 'as', 'at', 'be',\n",
       "                                             'because', 'been', 'before',\n",
       "                                             'being', 'below', 'between',\n",
       "                                             'both', 'but', 'by', 'can',\n",
       "                                             'couldn', \"couldn't\", ...})),\n",
       "                ('clf', LogisticRegression())])"
      ]
     },
     "execution_count": 34,
     "metadata": {},
     "output_type": "execute_result"
    }
   ],
   "source": [
    "# Fit the pipeline model on the training data\n",
    "pipe.fit(x_train,y_train)"
   ]
  },
  {
   "cell_type": "code",
   "execution_count": 35,
   "id": "5fc595ee",
   "metadata": {},
   "outputs": [],
   "source": [
    "# Make predictions on the testing data\n",
    "y_pred=pipe.predict(x_test)"
   ]
  },
  {
   "cell_type": "code",
   "execution_count": 36,
   "id": "d9471227",
   "metadata": {},
   "outputs": [
    {
     "name": "stdout",
     "output_type": "stream",
     "text": [
      "Test accuracy is 0.7661665804449043\n"
     ]
    }
   ],
   "source": [
    "print('Test accuracy is {}'.format(accuracy_score(y_test, y_pred)))"
   ]
  },
  {
   "cell_type": "code",
   "execution_count": 37,
   "id": "361f1b8f",
   "metadata": {},
   "outputs": [
    {
     "name": "stdout",
     "output_type": "stream",
     "text": [
      "                          precision    recall  f1-score   support\n",
      "\n",
      "          arts_&_culture       0.00      0.00      0.00        44\n",
      "business_&_entrepreneurs       1.00      0.15      0.26        80\n",
      "              daily_life       0.70      0.46      0.56       256\n",
      "             pop_culture       0.75      0.90      0.82       785\n",
      "    science_&_technology       0.94      0.17      0.28       102\n",
      "         sports_&_gaming       0.79      0.94      0.86       666\n",
      "\n",
      "                accuracy                           0.77      1933\n",
      "               macro avg       0.70      0.44      0.46      1933\n",
      "            weighted avg       0.76      0.77      0.73      1933\n",
      "\n"
     ]
    },
    {
     "name": "stderr",
     "output_type": "stream",
     "text": [
      "C:\\Users\\hp\\AppData\\Roaming\\Python\\Python39\\site-packages\\sklearn\\metrics\\_classification.py:1308: UndefinedMetricWarning: Precision and F-score are ill-defined and being set to 0.0 in labels with no predicted samples. Use `zero_division` parameter to control this behavior.\n",
      "  _warn_prf(average, modifier, msg_start, len(result))\n",
      "C:\\Users\\hp\\AppData\\Roaming\\Python\\Python39\\site-packages\\sklearn\\metrics\\_classification.py:1308: UndefinedMetricWarning: Precision and F-score are ill-defined and being set to 0.0 in labels with no predicted samples. Use `zero_division` parameter to control this behavior.\n",
      "  _warn_prf(average, modifier, msg_start, len(result))\n",
      "C:\\Users\\hp\\AppData\\Roaming\\Python\\Python39\\site-packages\\sklearn\\metrics\\_classification.py:1308: UndefinedMetricWarning: Precision and F-score are ill-defined and being set to 0.0 in labels with no predicted samples. Use `zero_division` parameter to control this behavior.\n",
      "  _warn_prf(average, modifier, msg_start, len(result))\n"
     ]
    }
   ],
   "source": [
    "#print classification report\n",
    "print(classification_report(y_test,y_pred))\n"
   ]
  },
  {
   "attachments": {},
   "cell_type": "markdown",
   "id": "45d10b7b",
   "metadata": {},
   "source": [
    "# Hyper perameter tuning in logistic regression"
   ]
  },
  {
   "cell_type": "code",
   "execution_count": 38,
   "id": "c4830559",
   "metadata": {},
   "outputs": [],
   "source": [
    "from sklearn.pipeline import make_pipeline\n",
    "from sklearn.impute import SimpleImputer\n",
    "from sklearn.compose import ColumnTransformer\n",
    "from sklearn.preprocessing import OneHotEncoder, StandardScaler\n",
    "from sklearn.ensemble import RandomForestRegressor\n",
    "from sklearn.model_selection import GridSearchCV"
   ]
  },
  {
   "cell_type": "code",
   "execution_count": 39,
   "id": "ca13edf8",
   "metadata": {},
   "outputs": [],
   "source": [
    "# param_grid={\n",
    "#     \"clf__max_iter\": [50,100],\n",
    "#     \"clf__penalty\":['l2']\n",
    "# }\n",
    "\n",
    "param_grid = [    \n",
    "    {'clf__penalty' : ['l1', 'l2'],\n",
    "    'clf__C' : np.logspace(-4, 4, 20),\n",
    "    'clf__solver' : ['lbfgs',],\n",
    "    'clf__max_iter' : [100, 1000]\n",
    "    }\n",
    "]"
   ]
  },
  {
   "cell_type": "code",
   "execution_count": 40,
   "id": "843968db",
   "metadata": {},
   "outputs": [],
   "source": [
    "# GridSearchCV for hyperparameter tuning\n",
    "grid_search=GridSearchCV(pipe,param_grid=param_grid,n_jobs=-1)"
   ]
  },
  {
   "cell_type": "code",
   "execution_count": 41,
   "id": "064836e5",
   "metadata": {},
   "outputs": [
    {
     "name": "stderr",
     "output_type": "stream",
     "text": [
      "C:\\Users\\hp\\AppData\\Roaming\\Python\\Python39\\site-packages\\sklearn\\model_selection\\_validation.py:372: FitFailedWarning: \n",
      "200 fits failed out of a total of 400.\n",
      "The score on these train-test partitions for these parameters will be set to nan.\n",
      "If these failures are not expected, you can try to debug them by setting error_score='raise'.\n",
      "\n",
      "Below are more details about the failures:\n",
      "--------------------------------------------------------------------------------\n",
      "200 fits failed with the following error:\n",
      "Traceback (most recent call last):\n",
      "  File \"C:\\Users\\hp\\AppData\\Roaming\\Python\\Python39\\site-packages\\sklearn\\model_selection\\_validation.py\", line 681, in _fit_and_score\n",
      "    estimator.fit(X_train, y_train, **fit_params)\n",
      "  File \"C:\\Users\\hp\\AppData\\Roaming\\Python\\Python39\\site-packages\\sklearn\\pipeline.py\", line 394, in fit\n",
      "    self._final_estimator.fit(Xt, y, **fit_params_last_step)\n",
      "  File \"C:\\Users\\hp\\AppData\\Roaming\\Python\\Python39\\site-packages\\sklearn\\linear_model\\_logistic.py\", line 1461, in fit\n",
      "    solver = _check_solver(self.solver, self.penalty, self.dual)\n",
      "  File \"C:\\Users\\hp\\AppData\\Roaming\\Python\\Python39\\site-packages\\sklearn\\linear_model\\_logistic.py\", line 447, in _check_solver\n",
      "    raise ValueError(\n",
      "ValueError: Solver lbfgs supports only 'l2' or 'none' penalties, got l1 penalty.\n",
      "\n",
      "  warnings.warn(some_fits_failed_message, FitFailedWarning)\n",
      "C:\\Users\\hp\\AppData\\Roaming\\Python\\Python39\\site-packages\\sklearn\\model_selection\\_search.py:969: UserWarning: One or more of the test scores are non-finite: [       nan 0.38292683        nan 0.38292683        nan 0.38292683\n",
      "        nan 0.38292683        nan 0.38292683        nan 0.38292683\n",
      "        nan 0.38292683        nan 0.38292683        nan 0.42461197\n",
      "        nan 0.42461197        nan 0.60066519        nan 0.60066519\n",
      "        nan 0.66984479        nan 0.66984479        nan 0.6864745\n",
      "        nan 0.6864745         nan 0.70953437        nan 0.70953437\n",
      "        nan 0.73946785        nan 0.73946785        nan 0.77073171\n",
      "        nan 0.77073171        nan 0.79157428        nan 0.79135255\n",
      "        nan 0.79778271        nan 0.79733925        nan 0.80266075\n",
      "        nan 0.8037694         nan 0.80465632        nan 0.80509978\n",
      "        nan 0.80576497        nan 0.8059867         nan 0.80354767\n",
      "        nan 0.80709534        nan 0.80643016        nan 0.80687361\n",
      "        nan 0.80576497        nan 0.80886918        nan 0.80354767\n",
      "        nan 0.80953437]\n",
      "  warnings.warn(\n"
     ]
    },
    {
     "data": {
      "text/html": [
       "<style>#sk-c98aef07-5b98-435b-ac0a-e08686043ad3 {color: black;background-color: white;}#sk-c98aef07-5b98-435b-ac0a-e08686043ad3 pre{padding: 0;}#sk-c98aef07-5b98-435b-ac0a-e08686043ad3 div.sk-toggleable {background-color: white;}#sk-c98aef07-5b98-435b-ac0a-e08686043ad3 label.sk-toggleable__label {cursor: pointer;display: block;width: 100%;margin-bottom: 0;padding: 0.3em;box-sizing: border-box;text-align: center;}#sk-c98aef07-5b98-435b-ac0a-e08686043ad3 div.sk-toggleable__content {max-height: 0;max-width: 0;overflow: hidden;text-align: left;background-color: #f0f8ff;}#sk-c98aef07-5b98-435b-ac0a-e08686043ad3 div.sk-toggleable__content pre {margin: 0.2em;color: black;border-radius: 0.25em;background-color: #f0f8ff;}#sk-c98aef07-5b98-435b-ac0a-e08686043ad3 input.sk-toggleable__control:checked~div.sk-toggleable__content {max-height: 200px;max-width: 100%;overflow: auto;}#sk-c98aef07-5b98-435b-ac0a-e08686043ad3 div.sk-estimator input.sk-toggleable__control:checked~label.sk-toggleable__label {background-color: #d4ebff;}#sk-c98aef07-5b98-435b-ac0a-e08686043ad3 div.sk-label input.sk-toggleable__control:checked~label.sk-toggleable__label {background-color: #d4ebff;}#sk-c98aef07-5b98-435b-ac0a-e08686043ad3 input.sk-hidden--visually {border: 0;clip: rect(1px 1px 1px 1px);clip: rect(1px, 1px, 1px, 1px);height: 1px;margin: -1px;overflow: hidden;padding: 0;position: absolute;width: 1px;}#sk-c98aef07-5b98-435b-ac0a-e08686043ad3 div.sk-estimator {font-family: monospace;background-color: #f0f8ff;border: 1px dotted black;border-radius: 0.25em;box-sizing: border-box;margin-bottom: 0.5em;}#sk-c98aef07-5b98-435b-ac0a-e08686043ad3 div.sk-estimator:hover {background-color: #d4ebff;}#sk-c98aef07-5b98-435b-ac0a-e08686043ad3 div.sk-parallel-item::after {content: \"\";width: 100%;border-bottom: 1px solid gray;flex-grow: 1;}#sk-c98aef07-5b98-435b-ac0a-e08686043ad3 div.sk-label:hover label.sk-toggleable__label {background-color: #d4ebff;}#sk-c98aef07-5b98-435b-ac0a-e08686043ad3 div.sk-serial::before {content: \"\";position: absolute;border-left: 1px solid gray;box-sizing: border-box;top: 2em;bottom: 0;left: 50%;}#sk-c98aef07-5b98-435b-ac0a-e08686043ad3 div.sk-serial {display: flex;flex-direction: column;align-items: center;background-color: white;padding-right: 0.2em;padding-left: 0.2em;}#sk-c98aef07-5b98-435b-ac0a-e08686043ad3 div.sk-item {z-index: 1;}#sk-c98aef07-5b98-435b-ac0a-e08686043ad3 div.sk-parallel {display: flex;align-items: stretch;justify-content: center;background-color: white;}#sk-c98aef07-5b98-435b-ac0a-e08686043ad3 div.sk-parallel::before {content: \"\";position: absolute;border-left: 1px solid gray;box-sizing: border-box;top: 2em;bottom: 0;left: 50%;}#sk-c98aef07-5b98-435b-ac0a-e08686043ad3 div.sk-parallel-item {display: flex;flex-direction: column;position: relative;background-color: white;}#sk-c98aef07-5b98-435b-ac0a-e08686043ad3 div.sk-parallel-item:first-child::after {align-self: flex-end;width: 50%;}#sk-c98aef07-5b98-435b-ac0a-e08686043ad3 div.sk-parallel-item:last-child::after {align-self: flex-start;width: 50%;}#sk-c98aef07-5b98-435b-ac0a-e08686043ad3 div.sk-parallel-item:only-child::after {width: 0;}#sk-c98aef07-5b98-435b-ac0a-e08686043ad3 div.sk-dashed-wrapped {border: 1px dashed gray;margin: 0 0.4em 0.5em 0.4em;box-sizing: border-box;padding-bottom: 0.4em;background-color: white;position: relative;}#sk-c98aef07-5b98-435b-ac0a-e08686043ad3 div.sk-label label {font-family: monospace;font-weight: bold;background-color: white;display: inline-block;line-height: 1.2em;}#sk-c98aef07-5b98-435b-ac0a-e08686043ad3 div.sk-label-container {position: relative;z-index: 2;text-align: center;}#sk-c98aef07-5b98-435b-ac0a-e08686043ad3 div.sk-container {display: inline-block;position: relative;}</style><div id=\"sk-c98aef07-5b98-435b-ac0a-e08686043ad3\" class\"sk-top-container\"><div class=\"sk-container\"><div class=\"sk-item sk-dashed-wrapped\"><div class=\"sk-label-container\"><div class=\"sk-label sk-toggleable\"><input class=\"sk-toggleable__control sk-hidden--visually\" id=\"9d0261c2-05bf-4940-8301-139dc2d2c68e\" type=\"checkbox\" ><label class=\"sk-toggleable__label\" for=\"9d0261c2-05bf-4940-8301-139dc2d2c68e\">GridSearchCV</label><div class=\"sk-toggleable__content\"><pre>GridSearchCV(estimator=Pipeline(steps=[('tfidf',\n",
       "                                        TfidfVectorizer(stop_words={'a',\n",
       "                                                                    'about',\n",
       "                                                                    'above',\n",
       "                                                                    'after',\n",
       "                                                                    'again',\n",
       "                                                                    'against',\n",
       "                                                                    'ain',\n",
       "                                                                    'all', 'am',\n",
       "                                                                    'an', 'and',\n",
       "                                                                    'any',\n",
       "                                                                    'are',\n",
       "                                                                    'aren',\n",
       "                                                                    \"aren't\",\n",
       "                                                                    'as', 'at',\n",
       "                                                                    'be',\n",
       "                                                                    'because',\n",
       "                                                                    'been',\n",
       "                                                                    'before',\n",
       "                                                                    'being',\n",
       "                                                                    'below',\n",
       "                                                                    'between',\n",
       "                                                                    'both',\n",
       "                                                                    'but', 'by',\n",
       "                                                                    'can',\n",
       "                                                                    'couldn',\n",
       "                                                                    \"couldn't\", ...})),\n",
       "                                       ('clf', LogisticRegression())]),\n",
       "             n_jobs=-1,\n",
       "             param_grid=[{...95192796e-04, 1.83298071e-03,\n",
       "       4.83293024e-03, 1.27427499e-02, 3.35981829e-02, 8.85866790e-02,\n",
       "       2.33572147e-01, 6.15848211e-01, 1.62377674e+00, 4.28133240e+00,\n",
       "       1.12883789e+01, 2.97635144e+01, 7.84759970e+01, 2.06913808e+02,\n",
       "       5.45559478e+02, 1.43844989e+03, 3.79269019e+03, 1.00000000e+04]),\n",
       "                          'clf__max_iter': [100, 1000],\n",
       "                          'clf__penalty': ['l1', 'l2'],\n",
       "                          'clf__solver': ['lbfgs']}])</pre></div></div></div><div class=\"sk-parallel\"><div class=\"sk-parallel-item\"><div class=\"sk-item\"><div class=\"sk-serial\"><div class=\"sk-item\"><div class=\"sk-serial\"><div class=\"sk-item\"><div class=\"sk-estimator sk-toggleable\"><input class=\"sk-toggleable__control sk-hidden--visually\" id=\"3e0b25dd-0dfd-48a6-ad49-05ba1a6203ff\" type=\"checkbox\" ><label class=\"sk-toggleable__label\" for=\"3e0b25dd-0dfd-48a6-ad49-05ba1a6203ff\">TfidfVectorizer</label><div class=\"sk-toggleable__content\"><pre>TfidfVectorizer(stop_words={'a', 'about', 'above', 'after', 'again', 'against',\n",
       "                            'ain', 'all', 'am', 'an', 'and', 'any', 'are',\n",
       "                            'aren', \"aren't\", 'as', 'at', 'be', 'because',\n",
       "                            'been', 'before', 'being', 'below', 'between',\n",
       "                            'both', 'but', 'by', 'can', 'couldn', \"couldn't\", ...})</pre></div></div></div><div class=\"sk-item\"><div class=\"sk-estimator sk-toggleable\"><input class=\"sk-toggleable__control sk-hidden--visually\" id=\"0ef2ee32-7462-4195-9fa6-d7a750bfb6b8\" type=\"checkbox\" ><label class=\"sk-toggleable__label\" for=\"0ef2ee32-7462-4195-9fa6-d7a750bfb6b8\">LogisticRegression</label><div class=\"sk-toggleable__content\"><pre>LogisticRegression()</pre></div></div></div></div></div></div></div></div></div></div></div></div>"
      ],
      "text/plain": [
       "GridSearchCV(estimator=Pipeline(steps=[('tfidf',\n",
       "                                        TfidfVectorizer(stop_words={'a',\n",
       "                                                                    'about',\n",
       "                                                                    'above',\n",
       "                                                                    'after',\n",
       "                                                                    'again',\n",
       "                                                                    'against',\n",
       "                                                                    'ain',\n",
       "                                                                    'all', 'am',\n",
       "                                                                    'an', 'and',\n",
       "                                                                    'any',\n",
       "                                                                    'are',\n",
       "                                                                    'aren',\n",
       "                                                                    \"aren't\",\n",
       "                                                                    'as', 'at',\n",
       "                                                                    'be',\n",
       "                                                                    'because',\n",
       "                                                                    'been',\n",
       "                                                                    'before',\n",
       "                                                                    'being',\n",
       "                                                                    'below',\n",
       "                                                                    'between',\n",
       "                                                                    'both',\n",
       "                                                                    'but', 'by',\n",
       "                                                                    'can',\n",
       "                                                                    'couldn',\n",
       "                                                                    \"couldn't\", ...})),\n",
       "                                       ('clf', LogisticRegression())]),\n",
       "             n_jobs=-1,\n",
       "             param_grid=[{...95192796e-04, 1.83298071e-03,\n",
       "       4.83293024e-03, 1.27427499e-02, 3.35981829e-02, 8.85866790e-02,\n",
       "       2.33572147e-01, 6.15848211e-01, 1.62377674e+00, 4.28133240e+00,\n",
       "       1.12883789e+01, 2.97635144e+01, 7.84759970e+01, 2.06913808e+02,\n",
       "       5.45559478e+02, 1.43844989e+03, 3.79269019e+03, 1.00000000e+04]),\n",
       "                          'clf__max_iter': [100, 1000],\n",
       "                          'clf__penalty': ['l1', 'l2'],\n",
       "                          'clf__solver': ['lbfgs']}])"
      ]
     },
     "execution_count": 41,
     "metadata": {},
     "output_type": "execute_result"
    }
   ],
   "source": [
    "grid_search.fit(x_train,y_train)"
   ]
  },
  {
   "cell_type": "code",
   "execution_count": 42,
   "id": "56e75513",
   "metadata": {},
   "outputs": [
    {
     "data": {
      "text/plain": [
       "{'clf__C': 10000.0,\n",
       " 'clf__max_iter': 1000,\n",
       " 'clf__penalty': 'l2',\n",
       " 'clf__solver': 'lbfgs'}"
      ]
     },
     "execution_count": 42,
     "metadata": {},
     "output_type": "execute_result"
    }
   ],
   "source": [
    "grid_search.best_params_"
   ]
  },
  {
   "cell_type": "code",
   "execution_count": 43,
   "id": "df128b1b",
   "metadata": {},
   "outputs": [],
   "source": [
    "pipe=Pipeline(\n",
    "    steps=[\n",
    "        ('tfidf', TfidfVectorizer(stop_words=stop_words)),\n",
    "        ('clf', LogisticRegression(C=10000.0,max_iter= 1000,penalty='l2',solver= 'lbfgs')),\n",
    "    ]\n",
    ")"
   ]
  },
  {
   "cell_type": "code",
   "execution_count": 44,
   "id": "16942284",
   "metadata": {},
   "outputs": [
    {
     "data": {
      "text/html": [
       "<style>#sk-770f91cc-ee43-4e08-9ec5-9d5ef4b61eb5 {color: black;background-color: white;}#sk-770f91cc-ee43-4e08-9ec5-9d5ef4b61eb5 pre{padding: 0;}#sk-770f91cc-ee43-4e08-9ec5-9d5ef4b61eb5 div.sk-toggleable {background-color: white;}#sk-770f91cc-ee43-4e08-9ec5-9d5ef4b61eb5 label.sk-toggleable__label {cursor: pointer;display: block;width: 100%;margin-bottom: 0;padding: 0.3em;box-sizing: border-box;text-align: center;}#sk-770f91cc-ee43-4e08-9ec5-9d5ef4b61eb5 div.sk-toggleable__content {max-height: 0;max-width: 0;overflow: hidden;text-align: left;background-color: #f0f8ff;}#sk-770f91cc-ee43-4e08-9ec5-9d5ef4b61eb5 div.sk-toggleable__content pre {margin: 0.2em;color: black;border-radius: 0.25em;background-color: #f0f8ff;}#sk-770f91cc-ee43-4e08-9ec5-9d5ef4b61eb5 input.sk-toggleable__control:checked~div.sk-toggleable__content {max-height: 200px;max-width: 100%;overflow: auto;}#sk-770f91cc-ee43-4e08-9ec5-9d5ef4b61eb5 div.sk-estimator input.sk-toggleable__control:checked~label.sk-toggleable__label {background-color: #d4ebff;}#sk-770f91cc-ee43-4e08-9ec5-9d5ef4b61eb5 div.sk-label input.sk-toggleable__control:checked~label.sk-toggleable__label {background-color: #d4ebff;}#sk-770f91cc-ee43-4e08-9ec5-9d5ef4b61eb5 input.sk-hidden--visually {border: 0;clip: rect(1px 1px 1px 1px);clip: rect(1px, 1px, 1px, 1px);height: 1px;margin: -1px;overflow: hidden;padding: 0;position: absolute;width: 1px;}#sk-770f91cc-ee43-4e08-9ec5-9d5ef4b61eb5 div.sk-estimator {font-family: monospace;background-color: #f0f8ff;border: 1px dotted black;border-radius: 0.25em;box-sizing: border-box;margin-bottom: 0.5em;}#sk-770f91cc-ee43-4e08-9ec5-9d5ef4b61eb5 div.sk-estimator:hover {background-color: #d4ebff;}#sk-770f91cc-ee43-4e08-9ec5-9d5ef4b61eb5 div.sk-parallel-item::after {content: \"\";width: 100%;border-bottom: 1px solid gray;flex-grow: 1;}#sk-770f91cc-ee43-4e08-9ec5-9d5ef4b61eb5 div.sk-label:hover label.sk-toggleable__label {background-color: #d4ebff;}#sk-770f91cc-ee43-4e08-9ec5-9d5ef4b61eb5 div.sk-serial::before {content: \"\";position: absolute;border-left: 1px solid gray;box-sizing: border-box;top: 2em;bottom: 0;left: 50%;}#sk-770f91cc-ee43-4e08-9ec5-9d5ef4b61eb5 div.sk-serial {display: flex;flex-direction: column;align-items: center;background-color: white;padding-right: 0.2em;padding-left: 0.2em;}#sk-770f91cc-ee43-4e08-9ec5-9d5ef4b61eb5 div.sk-item {z-index: 1;}#sk-770f91cc-ee43-4e08-9ec5-9d5ef4b61eb5 div.sk-parallel {display: flex;align-items: stretch;justify-content: center;background-color: white;}#sk-770f91cc-ee43-4e08-9ec5-9d5ef4b61eb5 div.sk-parallel::before {content: \"\";position: absolute;border-left: 1px solid gray;box-sizing: border-box;top: 2em;bottom: 0;left: 50%;}#sk-770f91cc-ee43-4e08-9ec5-9d5ef4b61eb5 div.sk-parallel-item {display: flex;flex-direction: column;position: relative;background-color: white;}#sk-770f91cc-ee43-4e08-9ec5-9d5ef4b61eb5 div.sk-parallel-item:first-child::after {align-self: flex-end;width: 50%;}#sk-770f91cc-ee43-4e08-9ec5-9d5ef4b61eb5 div.sk-parallel-item:last-child::after {align-self: flex-start;width: 50%;}#sk-770f91cc-ee43-4e08-9ec5-9d5ef4b61eb5 div.sk-parallel-item:only-child::after {width: 0;}#sk-770f91cc-ee43-4e08-9ec5-9d5ef4b61eb5 div.sk-dashed-wrapped {border: 1px dashed gray;margin: 0 0.4em 0.5em 0.4em;box-sizing: border-box;padding-bottom: 0.4em;background-color: white;position: relative;}#sk-770f91cc-ee43-4e08-9ec5-9d5ef4b61eb5 div.sk-label label {font-family: monospace;font-weight: bold;background-color: white;display: inline-block;line-height: 1.2em;}#sk-770f91cc-ee43-4e08-9ec5-9d5ef4b61eb5 div.sk-label-container {position: relative;z-index: 2;text-align: center;}#sk-770f91cc-ee43-4e08-9ec5-9d5ef4b61eb5 div.sk-container {display: inline-block;position: relative;}</style><div id=\"sk-770f91cc-ee43-4e08-9ec5-9d5ef4b61eb5\" class\"sk-top-container\"><div class=\"sk-container\"><div class=\"sk-item sk-dashed-wrapped\"><div class=\"sk-label-container\"><div class=\"sk-label sk-toggleable\"><input class=\"sk-toggleable__control sk-hidden--visually\" id=\"bf9c632f-35fb-4079-92a4-686f43e6a57f\" type=\"checkbox\" ><label class=\"sk-toggleable__label\" for=\"bf9c632f-35fb-4079-92a4-686f43e6a57f\">Pipeline</label><div class=\"sk-toggleable__content\"><pre>Pipeline(steps=[('tfidf',\n",
       "                 TfidfVectorizer(stop_words={'a', 'about', 'above', 'after',\n",
       "                                             'again', 'against', 'ain', 'all',\n",
       "                                             'am', 'an', 'and', 'any', 'are',\n",
       "                                             'aren', \"aren't\", 'as', 'at', 'be',\n",
       "                                             'because', 'been', 'before',\n",
       "                                             'being', 'below', 'between',\n",
       "                                             'both', 'but', 'by', 'can',\n",
       "                                             'couldn', \"couldn't\", ...})),\n",
       "                ('clf', LogisticRegression(C=10000.0, max_iter=1000))])</pre></div></div></div><div class=\"sk-serial\"><div class=\"sk-item\"><div class=\"sk-estimator sk-toggleable\"><input class=\"sk-toggleable__control sk-hidden--visually\" id=\"c06c45c8-7673-4736-8d0a-dc3f57e9703e\" type=\"checkbox\" ><label class=\"sk-toggleable__label\" for=\"c06c45c8-7673-4736-8d0a-dc3f57e9703e\">TfidfVectorizer</label><div class=\"sk-toggleable__content\"><pre>TfidfVectorizer(stop_words={'a', 'about', 'above', 'after', 'again', 'against',\n",
       "                            'ain', 'all', 'am', 'an', 'and', 'any', 'are',\n",
       "                            'aren', \"aren't\", 'as', 'at', 'be', 'because',\n",
       "                            'been', 'before', 'being', 'below', 'between',\n",
       "                            'both', 'but', 'by', 'can', 'couldn', \"couldn't\", ...})</pre></div></div></div><div class=\"sk-item\"><div class=\"sk-estimator sk-toggleable\"><input class=\"sk-toggleable__control sk-hidden--visually\" id=\"84f65c03-027f-4f29-8c81-8c0629903ebf\" type=\"checkbox\" ><label class=\"sk-toggleable__label\" for=\"84f65c03-027f-4f29-8c81-8c0629903ebf\">LogisticRegression</label><div class=\"sk-toggleable__content\"><pre>LogisticRegression(C=10000.0, max_iter=1000)</pre></div></div></div></div></div></div></div>"
      ],
      "text/plain": [
       "Pipeline(steps=[('tfidf',\n",
       "                 TfidfVectorizer(stop_words={'a', 'about', 'above', 'after',\n",
       "                                             'again', 'against', 'ain', 'all',\n",
       "                                             'am', 'an', 'and', 'any', 'are',\n",
       "                                             'aren', \"aren't\", 'as', 'at', 'be',\n",
       "                                             'because', 'been', 'before',\n",
       "                                             'being', 'below', 'between',\n",
       "                                             'both', 'but', 'by', 'can',\n",
       "                                             'couldn', \"couldn't\", ...})),\n",
       "                ('clf', LogisticRegression(C=10000.0, max_iter=1000))])"
      ]
     },
     "execution_count": 44,
     "metadata": {},
     "output_type": "execute_result"
    }
   ],
   "source": [
    "pipe.fit(x_train,y_train)"
   ]
  },
  {
   "cell_type": "code",
   "execution_count": 45,
   "id": "eaac477d",
   "metadata": {},
   "outputs": [
    {
     "data": {
      "text/plain": [
       "array(['sports_&_gaming', 'pop_culture', 'sports_&_gaming', ...,\n",
       "       'pop_culture', 'sports_&_gaming', 'sports_&_gaming'], dtype=object)"
      ]
     },
     "execution_count": 45,
     "metadata": {},
     "output_type": "execute_result"
    }
   ],
   "source": [
    "pipe.predict(x_test)"
   ]
  },
  {
   "cell_type": "code",
   "execution_count": 46,
   "id": "0db271ab",
   "metadata": {},
   "outputs": [
    {
     "name": "stdout",
     "output_type": "stream",
     "text": [
      "Test accuracy is 0.7661665804449043\n"
     ]
    }
   ],
   "source": [
    "print('Test accuracy is {}'.format(accuracy_score(y_test, y_pred)))"
   ]
  },
  {
   "cell_type": "code",
   "execution_count": 47,
   "id": "e1241c0e",
   "metadata": {},
   "outputs": [
    {
     "name": "stdout",
     "output_type": "stream",
     "text": [
      "                          precision    recall  f1-score   support\n",
      "\n",
      "          arts_&_culture       0.69      0.20      0.32        44\n",
      "business_&_entrepreneurs       0.64      0.46      0.54        80\n",
      "              daily_life       0.62      0.60      0.61       256\n",
      "             pop_culture       0.83      0.88      0.85       785\n",
      "    science_&_technology       0.80      0.46      0.58       102\n",
      "         sports_&_gaming       0.85      0.92      0.89       666\n",
      "\n",
      "                accuracy                           0.80      1933\n",
      "               macro avg       0.74      0.59      0.63      1933\n",
      "            weighted avg       0.80      0.80      0.79      1933\n",
      "\n"
     ]
    }
   ],
   "source": [
    "#print classification report\n",
    "y_pred=pipe.predict(x_test)\n",
    "print(classification_report(y_test,y_pred))"
   ]
  },
  {
   "attachments": {},
   "cell_type": "markdown",
   "id": "3720aecd",
   "metadata": {},
   "source": [
    "# SVC"
   ]
  },
  {
   "cell_type": "code",
   "execution_count": 48,
   "id": "1529bf76",
   "metadata": {},
   "outputs": [],
   "source": [
    "svc_steps=[\n",
    "#     (\"scale\", StandardScaler()),\n",
    "    ('tfidf', TfidfVectorizer(stop_words=stop_words)),\n",
    "    ('classify', OneVsRestClassifier(LinearSVC(), n_jobs=1)),\n",
    "]"
   ]
  },
  {
   "cell_type": "code",
   "execution_count": 49,
   "id": "eb78861e",
   "metadata": {},
   "outputs": [],
   "source": [
    "linear_svc_pipe = Pipeline(svc_steps)"
   ]
  },
  {
   "attachments": {},
   "cell_type": "markdown",
   "id": "1619a908",
   "metadata": {},
   "source": [
    "### Data Preperation"
   ]
  },
  {
   "cell_type": "code",
   "execution_count": 50,
   "id": "89edf54e",
   "metadata": {},
   "outputs": [],
   "source": [
    "# Split the data into training and testing sets\n",
    "train , test= train_test_split(df,test_size=0.3,random_state=100)"
   ]
  },
  {
   "cell_type": "code",
   "execution_count": 51,
   "id": "82d13197",
   "metadata": {},
   "outputs": [],
   "source": [
    "x_train = train.text\n",
    "x_test = test.text\n",
    "y_train = train.label_name\n",
    "y_test = test.label_name"
   ]
  },
  {
   "cell_type": "code",
   "execution_count": 52,
   "id": "ad5cce74",
   "metadata": {},
   "outputs": [
    {
     "data": {
      "text/html": [
       "<style>#sk-83e84db0-27d3-4be9-9150-c120d7f3c40b {color: black;background-color: white;}#sk-83e84db0-27d3-4be9-9150-c120d7f3c40b pre{padding: 0;}#sk-83e84db0-27d3-4be9-9150-c120d7f3c40b div.sk-toggleable {background-color: white;}#sk-83e84db0-27d3-4be9-9150-c120d7f3c40b label.sk-toggleable__label {cursor: pointer;display: block;width: 100%;margin-bottom: 0;padding: 0.3em;box-sizing: border-box;text-align: center;}#sk-83e84db0-27d3-4be9-9150-c120d7f3c40b div.sk-toggleable__content {max-height: 0;max-width: 0;overflow: hidden;text-align: left;background-color: #f0f8ff;}#sk-83e84db0-27d3-4be9-9150-c120d7f3c40b div.sk-toggleable__content pre {margin: 0.2em;color: black;border-radius: 0.25em;background-color: #f0f8ff;}#sk-83e84db0-27d3-4be9-9150-c120d7f3c40b input.sk-toggleable__control:checked~div.sk-toggleable__content {max-height: 200px;max-width: 100%;overflow: auto;}#sk-83e84db0-27d3-4be9-9150-c120d7f3c40b div.sk-estimator input.sk-toggleable__control:checked~label.sk-toggleable__label {background-color: #d4ebff;}#sk-83e84db0-27d3-4be9-9150-c120d7f3c40b div.sk-label input.sk-toggleable__control:checked~label.sk-toggleable__label {background-color: #d4ebff;}#sk-83e84db0-27d3-4be9-9150-c120d7f3c40b input.sk-hidden--visually {border: 0;clip: rect(1px 1px 1px 1px);clip: rect(1px, 1px, 1px, 1px);height: 1px;margin: -1px;overflow: hidden;padding: 0;position: absolute;width: 1px;}#sk-83e84db0-27d3-4be9-9150-c120d7f3c40b div.sk-estimator {font-family: monospace;background-color: #f0f8ff;border: 1px dotted black;border-radius: 0.25em;box-sizing: border-box;margin-bottom: 0.5em;}#sk-83e84db0-27d3-4be9-9150-c120d7f3c40b div.sk-estimator:hover {background-color: #d4ebff;}#sk-83e84db0-27d3-4be9-9150-c120d7f3c40b div.sk-parallel-item::after {content: \"\";width: 100%;border-bottom: 1px solid gray;flex-grow: 1;}#sk-83e84db0-27d3-4be9-9150-c120d7f3c40b div.sk-label:hover label.sk-toggleable__label {background-color: #d4ebff;}#sk-83e84db0-27d3-4be9-9150-c120d7f3c40b div.sk-serial::before {content: \"\";position: absolute;border-left: 1px solid gray;box-sizing: border-box;top: 2em;bottom: 0;left: 50%;}#sk-83e84db0-27d3-4be9-9150-c120d7f3c40b div.sk-serial {display: flex;flex-direction: column;align-items: center;background-color: white;padding-right: 0.2em;padding-left: 0.2em;}#sk-83e84db0-27d3-4be9-9150-c120d7f3c40b div.sk-item {z-index: 1;}#sk-83e84db0-27d3-4be9-9150-c120d7f3c40b div.sk-parallel {display: flex;align-items: stretch;justify-content: center;background-color: white;}#sk-83e84db0-27d3-4be9-9150-c120d7f3c40b div.sk-parallel::before {content: \"\";position: absolute;border-left: 1px solid gray;box-sizing: border-box;top: 2em;bottom: 0;left: 50%;}#sk-83e84db0-27d3-4be9-9150-c120d7f3c40b div.sk-parallel-item {display: flex;flex-direction: column;position: relative;background-color: white;}#sk-83e84db0-27d3-4be9-9150-c120d7f3c40b div.sk-parallel-item:first-child::after {align-self: flex-end;width: 50%;}#sk-83e84db0-27d3-4be9-9150-c120d7f3c40b div.sk-parallel-item:last-child::after {align-self: flex-start;width: 50%;}#sk-83e84db0-27d3-4be9-9150-c120d7f3c40b div.sk-parallel-item:only-child::after {width: 0;}#sk-83e84db0-27d3-4be9-9150-c120d7f3c40b div.sk-dashed-wrapped {border: 1px dashed gray;margin: 0 0.4em 0.5em 0.4em;box-sizing: border-box;padding-bottom: 0.4em;background-color: white;position: relative;}#sk-83e84db0-27d3-4be9-9150-c120d7f3c40b div.sk-label label {font-family: monospace;font-weight: bold;background-color: white;display: inline-block;line-height: 1.2em;}#sk-83e84db0-27d3-4be9-9150-c120d7f3c40b div.sk-label-container {position: relative;z-index: 2;text-align: center;}#sk-83e84db0-27d3-4be9-9150-c120d7f3c40b div.sk-container {display: inline-block;position: relative;}</style><div id=\"sk-83e84db0-27d3-4be9-9150-c120d7f3c40b\" class\"sk-top-container\"><div class=\"sk-container\"><div class=\"sk-item sk-dashed-wrapped\"><div class=\"sk-label-container\"><div class=\"sk-label sk-toggleable\"><input class=\"sk-toggleable__control sk-hidden--visually\" id=\"103c40c5-8b5c-4146-9030-fe0ec72e06b2\" type=\"checkbox\" ><label class=\"sk-toggleable__label\" for=\"103c40c5-8b5c-4146-9030-fe0ec72e06b2\">Pipeline</label><div class=\"sk-toggleable__content\"><pre>Pipeline(steps=[('tfidf',\n",
       "                 TfidfVectorizer(stop_words={'a', 'about', 'above', 'after',\n",
       "                                             'again', 'against', 'ain', 'all',\n",
       "                                             'am', 'an', 'and', 'any', 'are',\n",
       "                                             'aren', \"aren't\", 'as', 'at', 'be',\n",
       "                                             'because', 'been', 'before',\n",
       "                                             'being', 'below', 'between',\n",
       "                                             'both', 'but', 'by', 'can',\n",
       "                                             'couldn', \"couldn't\", ...})),\n",
       "                ('classify',\n",
       "                 OneVsRestClassifier(estimator=LinearSVC(), n_jobs=1))])</pre></div></div></div><div class=\"sk-serial\"><div class=\"sk-item\"><div class=\"sk-estimator sk-toggleable\"><input class=\"sk-toggleable__control sk-hidden--visually\" id=\"a2cb4b05-f76f-4a0c-a27b-f32ad17b223a\" type=\"checkbox\" ><label class=\"sk-toggleable__label\" for=\"a2cb4b05-f76f-4a0c-a27b-f32ad17b223a\">TfidfVectorizer</label><div class=\"sk-toggleable__content\"><pre>TfidfVectorizer(stop_words={'a', 'about', 'above', 'after', 'again', 'against',\n",
       "                            'ain', 'all', 'am', 'an', 'and', 'any', 'are',\n",
       "                            'aren', \"aren't\", 'as', 'at', 'be', 'because',\n",
       "                            'been', 'before', 'being', 'below', 'between',\n",
       "                            'both', 'but', 'by', 'can', 'couldn', \"couldn't\", ...})</pre></div></div></div><div class=\"sk-item sk-dashed-wrapped\"><div class=\"sk-label-container\"><div class=\"sk-label sk-toggleable\"><input class=\"sk-toggleable__control sk-hidden--visually\" id=\"bb43def3-b509-4765-b851-b6348de5a5e7\" type=\"checkbox\" ><label class=\"sk-toggleable__label\" for=\"bb43def3-b509-4765-b851-b6348de5a5e7\">classify: OneVsRestClassifier</label><div class=\"sk-toggleable__content\"><pre>OneVsRestClassifier(estimator=LinearSVC(), n_jobs=1)</pre></div></div></div><div class=\"sk-parallel\"><div class=\"sk-parallel-item\"><div class=\"sk-item\"><div class=\"sk-serial\"><div class=\"sk-item\"><div class=\"sk-estimator sk-toggleable\"><input class=\"sk-toggleable__control sk-hidden--visually\" id=\"a67450c7-d3ed-4ba7-a0e9-57554e2b972a\" type=\"checkbox\" ><label class=\"sk-toggleable__label\" for=\"a67450c7-d3ed-4ba7-a0e9-57554e2b972a\">LinearSVC</label><div class=\"sk-toggleable__content\"><pre>LinearSVC()</pre></div></div></div></div></div></div></div></div></div></div></div></div>"
      ],
      "text/plain": [
       "Pipeline(steps=[('tfidf',\n",
       "                 TfidfVectorizer(stop_words={'a', 'about', 'above', 'after',\n",
       "                                             'again', 'against', 'ain', 'all',\n",
       "                                             'am', 'an', 'and', 'any', 'are',\n",
       "                                             'aren', \"aren't\", 'as', 'at', 'be',\n",
       "                                             'because', 'been', 'before',\n",
       "                                             'being', 'below', 'between',\n",
       "                                             'both', 'but', 'by', 'can',\n",
       "                                             'couldn', \"couldn't\", ...})),\n",
       "                ('classify',\n",
       "                 OneVsRestClassifier(estimator=LinearSVC(), n_jobs=1))])"
      ]
     },
     "execution_count": 52,
     "metadata": {},
     "output_type": "execute_result"
    }
   ],
   "source": [
    "linear_svc_pipe.fit(x_train,y_train)"
   ]
  },
  {
   "cell_type": "code",
   "execution_count": 53,
   "id": "8fdba11d",
   "metadata": {},
   "outputs": [
    {
     "name": "stdout",
     "output_type": "stream",
     "text": [
      "Test accuracy is 0.8023797206414899\n"
     ]
    }
   ],
   "source": [
    "print('Test accuracy is {}'.format(accuracy_score(y_test, y_pred)))"
   ]
  },
  {
   "cell_type": "code",
   "execution_count": 54,
   "id": "8535bafa",
   "metadata": {},
   "outputs": [
    {
     "name": "stdout",
     "output_type": "stream",
     "text": [
      "                          precision    recall  f1-score   support\n",
      "\n",
      "          arts_&_culture       0.67      0.18      0.29        44\n",
      "business_&_entrepreneurs       0.76      0.46      0.57        80\n",
      "              daily_life       0.64      0.56      0.60       256\n",
      "             pop_culture       0.82      0.89      0.85       785\n",
      "    science_&_technology       0.83      0.48      0.61       102\n",
      "         sports_&_gaming       0.84      0.94      0.89       666\n",
      "\n",
      "                accuracy                           0.81      1933\n",
      "               macro avg       0.76      0.58      0.63      1933\n",
      "            weighted avg       0.80      0.81      0.79      1933\n",
      "\n"
     ]
    }
   ],
   "source": [
    "#print classification report\n",
    "y_pred=linear_svc_pipe.predict(x_test)\n",
    "print(classification_report(y_test,y_pred))"
   ]
  },
  {
   "attachments": {},
   "cell_type": "markdown",
   "id": "6525fac9",
   "metadata": {},
   "source": [
    "# Hyper perameter tuning in linear SVC"
   ]
  },
  {
   "cell_type": "code",
   "execution_count": 55,
   "id": "7e4ba423",
   "metadata": {},
   "outputs": [],
   "source": [
    "param_grid = {\n",
    "    'classify__estimator__C': [1.0,1.5,2,3],\n",
    "    'classify__estimator__max_iter':  [100, 1000],\n",
    "}"
   ]
  },
  {
   "cell_type": "code",
   "execution_count": 56,
   "id": "46861351",
   "metadata": {},
   "outputs": [],
   "source": [
    "grid_search=GridSearchCV(linear_svc_pipe,param_grid=param_grid,n_jobs=-1)"
   ]
  },
  {
   "cell_type": "code",
   "execution_count": 57,
   "id": "f736cc1c",
   "metadata": {},
   "outputs": [
    {
     "name": "stdout",
     "output_type": "stream",
     "text": [
      "dict_keys(['memory', 'steps', 'verbose', 'tfidf', 'classify', 'tfidf__analyzer', 'tfidf__binary', 'tfidf__decode_error', 'tfidf__dtype', 'tfidf__encoding', 'tfidf__input', 'tfidf__lowercase', 'tfidf__max_df', 'tfidf__max_features', 'tfidf__min_df', 'tfidf__ngram_range', 'tfidf__norm', 'tfidf__preprocessor', 'tfidf__smooth_idf', 'tfidf__stop_words', 'tfidf__strip_accents', 'tfidf__sublinear_tf', 'tfidf__token_pattern', 'tfidf__tokenizer', 'tfidf__use_idf', 'tfidf__vocabulary', 'classify__estimator__C', 'classify__estimator__class_weight', 'classify__estimator__dual', 'classify__estimator__fit_intercept', 'classify__estimator__intercept_scaling', 'classify__estimator__loss', 'classify__estimator__max_iter', 'classify__estimator__multi_class', 'classify__estimator__penalty', 'classify__estimator__random_state', 'classify__estimator__tol', 'classify__estimator__verbose', 'classify__estimator', 'classify__n_jobs'])\n"
     ]
    }
   ],
   "source": [
    "print(linear_svc_pipe.get_params().keys())"
   ]
  },
  {
   "cell_type": "code",
   "execution_count": 58,
   "id": "2a320f4f",
   "metadata": {},
   "outputs": [
    {
     "data": {
      "text/html": [
       "<style>#sk-7ed16f4d-d303-40a5-b644-5d09a1591fc8 {color: black;background-color: white;}#sk-7ed16f4d-d303-40a5-b644-5d09a1591fc8 pre{padding: 0;}#sk-7ed16f4d-d303-40a5-b644-5d09a1591fc8 div.sk-toggleable {background-color: white;}#sk-7ed16f4d-d303-40a5-b644-5d09a1591fc8 label.sk-toggleable__label {cursor: pointer;display: block;width: 100%;margin-bottom: 0;padding: 0.3em;box-sizing: border-box;text-align: center;}#sk-7ed16f4d-d303-40a5-b644-5d09a1591fc8 div.sk-toggleable__content {max-height: 0;max-width: 0;overflow: hidden;text-align: left;background-color: #f0f8ff;}#sk-7ed16f4d-d303-40a5-b644-5d09a1591fc8 div.sk-toggleable__content pre {margin: 0.2em;color: black;border-radius: 0.25em;background-color: #f0f8ff;}#sk-7ed16f4d-d303-40a5-b644-5d09a1591fc8 input.sk-toggleable__control:checked~div.sk-toggleable__content {max-height: 200px;max-width: 100%;overflow: auto;}#sk-7ed16f4d-d303-40a5-b644-5d09a1591fc8 div.sk-estimator input.sk-toggleable__control:checked~label.sk-toggleable__label {background-color: #d4ebff;}#sk-7ed16f4d-d303-40a5-b644-5d09a1591fc8 div.sk-label input.sk-toggleable__control:checked~label.sk-toggleable__label {background-color: #d4ebff;}#sk-7ed16f4d-d303-40a5-b644-5d09a1591fc8 input.sk-hidden--visually {border: 0;clip: rect(1px 1px 1px 1px);clip: rect(1px, 1px, 1px, 1px);height: 1px;margin: -1px;overflow: hidden;padding: 0;position: absolute;width: 1px;}#sk-7ed16f4d-d303-40a5-b644-5d09a1591fc8 div.sk-estimator {font-family: monospace;background-color: #f0f8ff;border: 1px dotted black;border-radius: 0.25em;box-sizing: border-box;margin-bottom: 0.5em;}#sk-7ed16f4d-d303-40a5-b644-5d09a1591fc8 div.sk-estimator:hover {background-color: #d4ebff;}#sk-7ed16f4d-d303-40a5-b644-5d09a1591fc8 div.sk-parallel-item::after {content: \"\";width: 100%;border-bottom: 1px solid gray;flex-grow: 1;}#sk-7ed16f4d-d303-40a5-b644-5d09a1591fc8 div.sk-label:hover label.sk-toggleable__label {background-color: #d4ebff;}#sk-7ed16f4d-d303-40a5-b644-5d09a1591fc8 div.sk-serial::before {content: \"\";position: absolute;border-left: 1px solid gray;box-sizing: border-box;top: 2em;bottom: 0;left: 50%;}#sk-7ed16f4d-d303-40a5-b644-5d09a1591fc8 div.sk-serial {display: flex;flex-direction: column;align-items: center;background-color: white;padding-right: 0.2em;padding-left: 0.2em;}#sk-7ed16f4d-d303-40a5-b644-5d09a1591fc8 div.sk-item {z-index: 1;}#sk-7ed16f4d-d303-40a5-b644-5d09a1591fc8 div.sk-parallel {display: flex;align-items: stretch;justify-content: center;background-color: white;}#sk-7ed16f4d-d303-40a5-b644-5d09a1591fc8 div.sk-parallel::before {content: \"\";position: absolute;border-left: 1px solid gray;box-sizing: border-box;top: 2em;bottom: 0;left: 50%;}#sk-7ed16f4d-d303-40a5-b644-5d09a1591fc8 div.sk-parallel-item {display: flex;flex-direction: column;position: relative;background-color: white;}#sk-7ed16f4d-d303-40a5-b644-5d09a1591fc8 div.sk-parallel-item:first-child::after {align-self: flex-end;width: 50%;}#sk-7ed16f4d-d303-40a5-b644-5d09a1591fc8 div.sk-parallel-item:last-child::after {align-self: flex-start;width: 50%;}#sk-7ed16f4d-d303-40a5-b644-5d09a1591fc8 div.sk-parallel-item:only-child::after {width: 0;}#sk-7ed16f4d-d303-40a5-b644-5d09a1591fc8 div.sk-dashed-wrapped {border: 1px dashed gray;margin: 0 0.4em 0.5em 0.4em;box-sizing: border-box;padding-bottom: 0.4em;background-color: white;position: relative;}#sk-7ed16f4d-d303-40a5-b644-5d09a1591fc8 div.sk-label label {font-family: monospace;font-weight: bold;background-color: white;display: inline-block;line-height: 1.2em;}#sk-7ed16f4d-d303-40a5-b644-5d09a1591fc8 div.sk-label-container {position: relative;z-index: 2;text-align: center;}#sk-7ed16f4d-d303-40a5-b644-5d09a1591fc8 div.sk-container {display: inline-block;position: relative;}</style><div id=\"sk-7ed16f4d-d303-40a5-b644-5d09a1591fc8\" class\"sk-top-container\"><div class=\"sk-container\"><div class=\"sk-item sk-dashed-wrapped\"><div class=\"sk-label-container\"><div class=\"sk-label sk-toggleable\"><input class=\"sk-toggleable__control sk-hidden--visually\" id=\"ded0baf1-7c47-49f7-b58f-194d5ea5f278\" type=\"checkbox\" ><label class=\"sk-toggleable__label\" for=\"ded0baf1-7c47-49f7-b58f-194d5ea5f278\">GridSearchCV</label><div class=\"sk-toggleable__content\"><pre>GridSearchCV(estimator=Pipeline(steps=[('tfidf',\n",
       "                                        TfidfVectorizer(stop_words={'a',\n",
       "                                                                    'about',\n",
       "                                                                    'above',\n",
       "                                                                    'after',\n",
       "                                                                    'again',\n",
       "                                                                    'against',\n",
       "                                                                    'ain',\n",
       "                                                                    'all', 'am',\n",
       "                                                                    'an', 'and',\n",
       "                                                                    'any',\n",
       "                                                                    'are',\n",
       "                                                                    'aren',\n",
       "                                                                    \"aren't\",\n",
       "                                                                    'as', 'at',\n",
       "                                                                    'be',\n",
       "                                                                    'because',\n",
       "                                                                    'been',\n",
       "                                                                    'before',\n",
       "                                                                    'being',\n",
       "                                                                    'below',\n",
       "                                                                    'between',\n",
       "                                                                    'both',\n",
       "                                                                    'but', 'by',\n",
       "                                                                    'can',\n",
       "                                                                    'couldn',\n",
       "                                                                    \"couldn't\", ...})),\n",
       "                                       ('classify',\n",
       "                                        OneVsRestClassifier(estimator=LinearSVC(),\n",
       "                                                            n_jobs=1))]),\n",
       "             n_jobs=-1,\n",
       "             param_grid={'classify__estimator__C': [1.0, 1.5, 2, 3],\n",
       "                         'classify__estimator__max_iter': [100, 1000]})</pre></div></div></div><div class=\"sk-parallel\"><div class=\"sk-parallel-item\"><div class=\"sk-item\"><div class=\"sk-serial\"><div class=\"sk-item\"><div class=\"sk-serial\"><div class=\"sk-item\"><div class=\"sk-estimator sk-toggleable\"><input class=\"sk-toggleable__control sk-hidden--visually\" id=\"c59955e5-7795-4170-a123-caeb9ab2dd48\" type=\"checkbox\" ><label class=\"sk-toggleable__label\" for=\"c59955e5-7795-4170-a123-caeb9ab2dd48\">TfidfVectorizer</label><div class=\"sk-toggleable__content\"><pre>TfidfVectorizer(stop_words={'a', 'about', 'above', 'after', 'again', 'against',\n",
       "                            'ain', 'all', 'am', 'an', 'and', 'any', 'are',\n",
       "                            'aren', \"aren't\", 'as', 'at', 'be', 'because',\n",
       "                            'been', 'before', 'being', 'below', 'between',\n",
       "                            'both', 'but', 'by', 'can', 'couldn', \"couldn't\", ...})</pre></div></div></div><div class=\"sk-item sk-dashed-wrapped\"><div class=\"sk-label-container\"><div class=\"sk-label sk-toggleable\"><input class=\"sk-toggleable__control sk-hidden--visually\" id=\"86ec0725-62d8-4dc7-84a1-b35fdb38f8b6\" type=\"checkbox\" ><label class=\"sk-toggleable__label\" for=\"86ec0725-62d8-4dc7-84a1-b35fdb38f8b6\">classify: OneVsRestClassifier</label><div class=\"sk-toggleable__content\"><pre>OneVsRestClassifier(estimator=LinearSVC(), n_jobs=1)</pre></div></div></div><div class=\"sk-parallel\"><div class=\"sk-parallel-item\"><div class=\"sk-item\"><div class=\"sk-serial\"><div class=\"sk-item\"><div class=\"sk-estimator sk-toggleable\"><input class=\"sk-toggleable__control sk-hidden--visually\" id=\"b917f170-440a-4ff1-8fd6-265a8052fe8c\" type=\"checkbox\" ><label class=\"sk-toggleable__label\" for=\"b917f170-440a-4ff1-8fd6-265a8052fe8c\">LinearSVC</label><div class=\"sk-toggleable__content\"><pre>LinearSVC()</pre></div></div></div></div></div></div></div></div></div></div></div></div></div></div></div></div></div>"
      ],
      "text/plain": [
       "GridSearchCV(estimator=Pipeline(steps=[('tfidf',\n",
       "                                        TfidfVectorizer(stop_words={'a',\n",
       "                                                                    'about',\n",
       "                                                                    'above',\n",
       "                                                                    'after',\n",
       "                                                                    'again',\n",
       "                                                                    'against',\n",
       "                                                                    'ain',\n",
       "                                                                    'all', 'am',\n",
       "                                                                    'an', 'and',\n",
       "                                                                    'any',\n",
       "                                                                    'are',\n",
       "                                                                    'aren',\n",
       "                                                                    \"aren't\",\n",
       "                                                                    'as', 'at',\n",
       "                                                                    'be',\n",
       "                                                                    'because',\n",
       "                                                                    'been',\n",
       "                                                                    'before',\n",
       "                                                                    'being',\n",
       "                                                                    'below',\n",
       "                                                                    'between',\n",
       "                                                                    'both',\n",
       "                                                                    'but', 'by',\n",
       "                                                                    'can',\n",
       "                                                                    'couldn',\n",
       "                                                                    \"couldn't\", ...})),\n",
       "                                       ('classify',\n",
       "                                        OneVsRestClassifier(estimator=LinearSVC(),\n",
       "                                                            n_jobs=1))]),\n",
       "             n_jobs=-1,\n",
       "             param_grid={'classify__estimator__C': [1.0, 1.5, 2, 3],\n",
       "                         'classify__estimator__max_iter': [100, 1000]})"
      ]
     },
     "execution_count": 58,
     "metadata": {},
     "output_type": "execute_result"
    }
   ],
   "source": [
    "grid_search.fit(x_train,y_train)"
   ]
  },
  {
   "cell_type": "code",
   "execution_count": 59,
   "id": "7646cdea",
   "metadata": {},
   "outputs": [
    {
     "data": {
      "text/plain": [
       "{'classify__estimator__C': 1.0, 'classify__estimator__max_iter': 100}"
      ]
     },
     "execution_count": 59,
     "metadata": {},
     "output_type": "execute_result"
    }
   ],
   "source": [
    "grid_search.best_params_"
   ]
  },
  {
   "cell_type": "code",
   "execution_count": 60,
   "id": "72a536bd",
   "metadata": {},
   "outputs": [],
   "source": [
    "pipe=Pipeline(\n",
    "    steps=[\n",
    "        ('tfidf', TfidfVectorizer(stop_words=stop_words)),\n",
    "        ('classify', OneVsRestClassifier(LinearSVC(C=1,max_iter=100), n_jobs=1)),\n",
    "    ]\n",
    ")"
   ]
  },
  {
   "cell_type": "code",
   "execution_count": 61,
   "id": "e0a0b23e",
   "metadata": {},
   "outputs": [
    {
     "data": {
      "text/html": [
       "<style>#sk-158fcc2c-ef85-4cad-bab5-3763203a7b69 {color: black;background-color: white;}#sk-158fcc2c-ef85-4cad-bab5-3763203a7b69 pre{padding: 0;}#sk-158fcc2c-ef85-4cad-bab5-3763203a7b69 div.sk-toggleable {background-color: white;}#sk-158fcc2c-ef85-4cad-bab5-3763203a7b69 label.sk-toggleable__label {cursor: pointer;display: block;width: 100%;margin-bottom: 0;padding: 0.3em;box-sizing: border-box;text-align: center;}#sk-158fcc2c-ef85-4cad-bab5-3763203a7b69 div.sk-toggleable__content {max-height: 0;max-width: 0;overflow: hidden;text-align: left;background-color: #f0f8ff;}#sk-158fcc2c-ef85-4cad-bab5-3763203a7b69 div.sk-toggleable__content pre {margin: 0.2em;color: black;border-radius: 0.25em;background-color: #f0f8ff;}#sk-158fcc2c-ef85-4cad-bab5-3763203a7b69 input.sk-toggleable__control:checked~div.sk-toggleable__content {max-height: 200px;max-width: 100%;overflow: auto;}#sk-158fcc2c-ef85-4cad-bab5-3763203a7b69 div.sk-estimator input.sk-toggleable__control:checked~label.sk-toggleable__label {background-color: #d4ebff;}#sk-158fcc2c-ef85-4cad-bab5-3763203a7b69 div.sk-label input.sk-toggleable__control:checked~label.sk-toggleable__label {background-color: #d4ebff;}#sk-158fcc2c-ef85-4cad-bab5-3763203a7b69 input.sk-hidden--visually {border: 0;clip: rect(1px 1px 1px 1px);clip: rect(1px, 1px, 1px, 1px);height: 1px;margin: -1px;overflow: hidden;padding: 0;position: absolute;width: 1px;}#sk-158fcc2c-ef85-4cad-bab5-3763203a7b69 div.sk-estimator {font-family: monospace;background-color: #f0f8ff;border: 1px dotted black;border-radius: 0.25em;box-sizing: border-box;margin-bottom: 0.5em;}#sk-158fcc2c-ef85-4cad-bab5-3763203a7b69 div.sk-estimator:hover {background-color: #d4ebff;}#sk-158fcc2c-ef85-4cad-bab5-3763203a7b69 div.sk-parallel-item::after {content: \"\";width: 100%;border-bottom: 1px solid gray;flex-grow: 1;}#sk-158fcc2c-ef85-4cad-bab5-3763203a7b69 div.sk-label:hover label.sk-toggleable__label {background-color: #d4ebff;}#sk-158fcc2c-ef85-4cad-bab5-3763203a7b69 div.sk-serial::before {content: \"\";position: absolute;border-left: 1px solid gray;box-sizing: border-box;top: 2em;bottom: 0;left: 50%;}#sk-158fcc2c-ef85-4cad-bab5-3763203a7b69 div.sk-serial {display: flex;flex-direction: column;align-items: center;background-color: white;padding-right: 0.2em;padding-left: 0.2em;}#sk-158fcc2c-ef85-4cad-bab5-3763203a7b69 div.sk-item {z-index: 1;}#sk-158fcc2c-ef85-4cad-bab5-3763203a7b69 div.sk-parallel {display: flex;align-items: stretch;justify-content: center;background-color: white;}#sk-158fcc2c-ef85-4cad-bab5-3763203a7b69 div.sk-parallel::before {content: \"\";position: absolute;border-left: 1px solid gray;box-sizing: border-box;top: 2em;bottom: 0;left: 50%;}#sk-158fcc2c-ef85-4cad-bab5-3763203a7b69 div.sk-parallel-item {display: flex;flex-direction: column;position: relative;background-color: white;}#sk-158fcc2c-ef85-4cad-bab5-3763203a7b69 div.sk-parallel-item:first-child::after {align-self: flex-end;width: 50%;}#sk-158fcc2c-ef85-4cad-bab5-3763203a7b69 div.sk-parallel-item:last-child::after {align-self: flex-start;width: 50%;}#sk-158fcc2c-ef85-4cad-bab5-3763203a7b69 div.sk-parallel-item:only-child::after {width: 0;}#sk-158fcc2c-ef85-4cad-bab5-3763203a7b69 div.sk-dashed-wrapped {border: 1px dashed gray;margin: 0 0.4em 0.5em 0.4em;box-sizing: border-box;padding-bottom: 0.4em;background-color: white;position: relative;}#sk-158fcc2c-ef85-4cad-bab5-3763203a7b69 div.sk-label label {font-family: monospace;font-weight: bold;background-color: white;display: inline-block;line-height: 1.2em;}#sk-158fcc2c-ef85-4cad-bab5-3763203a7b69 div.sk-label-container {position: relative;z-index: 2;text-align: center;}#sk-158fcc2c-ef85-4cad-bab5-3763203a7b69 div.sk-container {display: inline-block;position: relative;}</style><div id=\"sk-158fcc2c-ef85-4cad-bab5-3763203a7b69\" class\"sk-top-container\"><div class=\"sk-container\"><div class=\"sk-item sk-dashed-wrapped\"><div class=\"sk-label-container\"><div class=\"sk-label sk-toggleable\"><input class=\"sk-toggleable__control sk-hidden--visually\" id=\"56fb8d66-7595-44c8-9b2c-d43b2e8968d3\" type=\"checkbox\" ><label class=\"sk-toggleable__label\" for=\"56fb8d66-7595-44c8-9b2c-d43b2e8968d3\">Pipeline</label><div class=\"sk-toggleable__content\"><pre>Pipeline(steps=[('tfidf',\n",
       "                 TfidfVectorizer(stop_words={'a', 'about', 'above', 'after',\n",
       "                                             'again', 'against', 'ain', 'all',\n",
       "                                             'am', 'an', 'and', 'any', 'are',\n",
       "                                             'aren', \"aren't\", 'as', 'at', 'be',\n",
       "                                             'because', 'been', 'before',\n",
       "                                             'being', 'below', 'between',\n",
       "                                             'both', 'but', 'by', 'can',\n",
       "                                             'couldn', \"couldn't\", ...})),\n",
       "                ('classify',\n",
       "                 OneVsRestClassifier(estimator=LinearSVC(C=1, max_iter=100),\n",
       "                                     n_jobs=1))])</pre></div></div></div><div class=\"sk-serial\"><div class=\"sk-item\"><div class=\"sk-estimator sk-toggleable\"><input class=\"sk-toggleable__control sk-hidden--visually\" id=\"81288420-40f5-470a-80ed-7c789d743873\" type=\"checkbox\" ><label class=\"sk-toggleable__label\" for=\"81288420-40f5-470a-80ed-7c789d743873\">TfidfVectorizer</label><div class=\"sk-toggleable__content\"><pre>TfidfVectorizer(stop_words={'a', 'about', 'above', 'after', 'again', 'against',\n",
       "                            'ain', 'all', 'am', 'an', 'and', 'any', 'are',\n",
       "                            'aren', \"aren't\", 'as', 'at', 'be', 'because',\n",
       "                            'been', 'before', 'being', 'below', 'between',\n",
       "                            'both', 'but', 'by', 'can', 'couldn', \"couldn't\", ...})</pre></div></div></div><div class=\"sk-item sk-dashed-wrapped\"><div class=\"sk-label-container\"><div class=\"sk-label sk-toggleable\"><input class=\"sk-toggleable__control sk-hidden--visually\" id=\"950776c0-9d0a-4033-8170-8283a4150c34\" type=\"checkbox\" ><label class=\"sk-toggleable__label\" for=\"950776c0-9d0a-4033-8170-8283a4150c34\">classify: OneVsRestClassifier</label><div class=\"sk-toggleable__content\"><pre>OneVsRestClassifier(estimator=LinearSVC(C=1, max_iter=100), n_jobs=1)</pre></div></div></div><div class=\"sk-parallel\"><div class=\"sk-parallel-item\"><div class=\"sk-item\"><div class=\"sk-serial\"><div class=\"sk-item\"><div class=\"sk-estimator sk-toggleable\"><input class=\"sk-toggleable__control sk-hidden--visually\" id=\"84fb23b9-7a31-414b-9ece-6ebbfbb70b52\" type=\"checkbox\" ><label class=\"sk-toggleable__label\" for=\"84fb23b9-7a31-414b-9ece-6ebbfbb70b52\">LinearSVC</label><div class=\"sk-toggleable__content\"><pre>LinearSVC(C=1, max_iter=100)</pre></div></div></div></div></div></div></div></div></div></div></div></div>"
      ],
      "text/plain": [
       "Pipeline(steps=[('tfidf',\n",
       "                 TfidfVectorizer(stop_words={'a', 'about', 'above', 'after',\n",
       "                                             'again', 'against', 'ain', 'all',\n",
       "                                             'am', 'an', 'and', 'any', 'are',\n",
       "                                             'aren', \"aren't\", 'as', 'at', 'be',\n",
       "                                             'because', 'been', 'before',\n",
       "                                             'being', 'below', 'between',\n",
       "                                             'both', 'but', 'by', 'can',\n",
       "                                             'couldn', \"couldn't\", ...})),\n",
       "                ('classify',\n",
       "                 OneVsRestClassifier(estimator=LinearSVC(C=1, max_iter=100),\n",
       "                                     n_jobs=1))])"
      ]
     },
     "execution_count": 61,
     "metadata": {},
     "output_type": "execute_result"
    }
   ],
   "source": [
    "pipe.fit(x_train,y_train)"
   ]
  },
  {
   "cell_type": "code",
   "execution_count": 62,
   "id": "28f3f607",
   "metadata": {},
   "outputs": [
    {
     "data": {
      "text/plain": [
       "array(['sports_&_gaming', 'pop_culture', 'sports_&_gaming', ...,\n",
       "       'pop_culture', 'sports_&_gaming', 'sports_&_gaming'], dtype='<U24')"
      ]
     },
     "execution_count": 62,
     "metadata": {},
     "output_type": "execute_result"
    }
   ],
   "source": [
    "y_pred=pipe.predict(x_test)\n",
    "y_pred"
   ]
  },
  {
   "cell_type": "code",
   "execution_count": 63,
   "id": "9a9b08ed",
   "metadata": {},
   "outputs": [
    {
     "name": "stdout",
     "output_type": "stream",
     "text": [
      "Test accuracy is 0.8054837040869115\n"
     ]
    }
   ],
   "source": [
    "print('Test accuracy is {}'.format(accuracy_score(y_test, y_pred)))"
   ]
  },
  {
   "cell_type": "code",
   "execution_count": 64,
   "id": "632967b6",
   "metadata": {},
   "outputs": [
    {
     "name": "stdout",
     "output_type": "stream",
     "text": [
      "                          precision    recall  f1-score   support\n",
      "\n",
      "          arts_&_culture       0.67      0.18      0.29        44\n",
      "business_&_entrepreneurs       0.76      0.46      0.57        80\n",
      "              daily_life       0.64      0.56      0.60       256\n",
      "             pop_culture       0.82      0.89      0.85       785\n",
      "    science_&_technology       0.83      0.48      0.61       102\n",
      "         sports_&_gaming       0.84      0.94      0.89       666\n",
      "\n",
      "                accuracy                           0.81      1933\n",
      "               macro avg       0.76      0.58      0.63      1933\n",
      "            weighted avg       0.80      0.81      0.79      1933\n",
      "\n"
     ]
    }
   ],
   "source": [
    "#print classification report\n",
    "print(classification_report(y_test,y_pred))"
   ]
  },
  {
   "attachments": {},
   "cell_type": "markdown",
   "id": "0166c0c0",
   "metadata": {},
   "source": [
    "# Naive Bayes"
   ]
  },
  {
   "cell_type": "code",
   "execution_count": 65,
   "id": "098fa67a",
   "metadata": {},
   "outputs": [],
   "source": [
    "nb_steps=[\n",
    "     ('tfidf', TfidfVectorizer(stop_words=stop_words)),\n",
    "    ('nb_clf', OneVsRestClassifier(MultinomialNB(fit_prior=True, class_prior=None))),\n",
    "]"
   ]
  },
  {
   "cell_type": "code",
   "execution_count": 66,
   "id": "cd9b101b",
   "metadata": {},
   "outputs": [],
   "source": [
    "nb_pipe = Pipeline(nb_steps)"
   ]
  },
  {
   "attachments": {},
   "cell_type": "markdown",
   "id": "e4a5febd",
   "metadata": {},
   "source": [
    "### Data Preperation"
   ]
  },
  {
   "cell_type": "code",
   "execution_count": 67,
   "id": "39560d47",
   "metadata": {},
   "outputs": [],
   "source": [
    "# Split the data into training and testing sets\n",
    "train , test= train_test_split(df,test_size=0.3,random_state=100)"
   ]
  },
  {
   "cell_type": "code",
   "execution_count": 68,
   "id": "cd312e46",
   "metadata": {},
   "outputs": [],
   "source": [
    "x_train = train.text\n",
    "x_test = test.text\n",
    "y_train = train.label_name\n",
    "y_test = test.label_name"
   ]
  },
  {
   "cell_type": "code",
   "execution_count": 69,
   "id": "77976848",
   "metadata": {},
   "outputs": [
    {
     "data": {
      "text/html": [
       "<style>#sk-52304b6b-1b99-475f-8475-999047ae4afd {color: black;background-color: white;}#sk-52304b6b-1b99-475f-8475-999047ae4afd pre{padding: 0;}#sk-52304b6b-1b99-475f-8475-999047ae4afd div.sk-toggleable {background-color: white;}#sk-52304b6b-1b99-475f-8475-999047ae4afd label.sk-toggleable__label {cursor: pointer;display: block;width: 100%;margin-bottom: 0;padding: 0.3em;box-sizing: border-box;text-align: center;}#sk-52304b6b-1b99-475f-8475-999047ae4afd div.sk-toggleable__content {max-height: 0;max-width: 0;overflow: hidden;text-align: left;background-color: #f0f8ff;}#sk-52304b6b-1b99-475f-8475-999047ae4afd div.sk-toggleable__content pre {margin: 0.2em;color: black;border-radius: 0.25em;background-color: #f0f8ff;}#sk-52304b6b-1b99-475f-8475-999047ae4afd input.sk-toggleable__control:checked~div.sk-toggleable__content {max-height: 200px;max-width: 100%;overflow: auto;}#sk-52304b6b-1b99-475f-8475-999047ae4afd div.sk-estimator input.sk-toggleable__control:checked~label.sk-toggleable__label {background-color: #d4ebff;}#sk-52304b6b-1b99-475f-8475-999047ae4afd div.sk-label input.sk-toggleable__control:checked~label.sk-toggleable__label {background-color: #d4ebff;}#sk-52304b6b-1b99-475f-8475-999047ae4afd input.sk-hidden--visually {border: 0;clip: rect(1px 1px 1px 1px);clip: rect(1px, 1px, 1px, 1px);height: 1px;margin: -1px;overflow: hidden;padding: 0;position: absolute;width: 1px;}#sk-52304b6b-1b99-475f-8475-999047ae4afd div.sk-estimator {font-family: monospace;background-color: #f0f8ff;border: 1px dotted black;border-radius: 0.25em;box-sizing: border-box;margin-bottom: 0.5em;}#sk-52304b6b-1b99-475f-8475-999047ae4afd div.sk-estimator:hover {background-color: #d4ebff;}#sk-52304b6b-1b99-475f-8475-999047ae4afd div.sk-parallel-item::after {content: \"\";width: 100%;border-bottom: 1px solid gray;flex-grow: 1;}#sk-52304b6b-1b99-475f-8475-999047ae4afd div.sk-label:hover label.sk-toggleable__label {background-color: #d4ebff;}#sk-52304b6b-1b99-475f-8475-999047ae4afd div.sk-serial::before {content: \"\";position: absolute;border-left: 1px solid gray;box-sizing: border-box;top: 2em;bottom: 0;left: 50%;}#sk-52304b6b-1b99-475f-8475-999047ae4afd div.sk-serial {display: flex;flex-direction: column;align-items: center;background-color: white;padding-right: 0.2em;padding-left: 0.2em;}#sk-52304b6b-1b99-475f-8475-999047ae4afd div.sk-item {z-index: 1;}#sk-52304b6b-1b99-475f-8475-999047ae4afd div.sk-parallel {display: flex;align-items: stretch;justify-content: center;background-color: white;}#sk-52304b6b-1b99-475f-8475-999047ae4afd div.sk-parallel::before {content: \"\";position: absolute;border-left: 1px solid gray;box-sizing: border-box;top: 2em;bottom: 0;left: 50%;}#sk-52304b6b-1b99-475f-8475-999047ae4afd div.sk-parallel-item {display: flex;flex-direction: column;position: relative;background-color: white;}#sk-52304b6b-1b99-475f-8475-999047ae4afd div.sk-parallel-item:first-child::after {align-self: flex-end;width: 50%;}#sk-52304b6b-1b99-475f-8475-999047ae4afd div.sk-parallel-item:last-child::after {align-self: flex-start;width: 50%;}#sk-52304b6b-1b99-475f-8475-999047ae4afd div.sk-parallel-item:only-child::after {width: 0;}#sk-52304b6b-1b99-475f-8475-999047ae4afd div.sk-dashed-wrapped {border: 1px dashed gray;margin: 0 0.4em 0.5em 0.4em;box-sizing: border-box;padding-bottom: 0.4em;background-color: white;position: relative;}#sk-52304b6b-1b99-475f-8475-999047ae4afd div.sk-label label {font-family: monospace;font-weight: bold;background-color: white;display: inline-block;line-height: 1.2em;}#sk-52304b6b-1b99-475f-8475-999047ae4afd div.sk-label-container {position: relative;z-index: 2;text-align: center;}#sk-52304b6b-1b99-475f-8475-999047ae4afd div.sk-container {display: inline-block;position: relative;}</style><div id=\"sk-52304b6b-1b99-475f-8475-999047ae4afd\" class\"sk-top-container\"><div class=\"sk-container\"><div class=\"sk-item sk-dashed-wrapped\"><div class=\"sk-label-container\"><div class=\"sk-label sk-toggleable\"><input class=\"sk-toggleable__control sk-hidden--visually\" id=\"9288a5d9-86b6-4767-a3af-ce318760ca41\" type=\"checkbox\" ><label class=\"sk-toggleable__label\" for=\"9288a5d9-86b6-4767-a3af-ce318760ca41\">Pipeline</label><div class=\"sk-toggleable__content\"><pre>Pipeline(steps=[('tfidf',\n",
       "                 TfidfVectorizer(stop_words={'a', 'about', 'above', 'after',\n",
       "                                             'again', 'against', 'ain', 'all',\n",
       "                                             'am', 'an', 'and', 'any', 'are',\n",
       "                                             'aren', \"aren't\", 'as', 'at', 'be',\n",
       "                                             'because', 'been', 'before',\n",
       "                                             'being', 'below', 'between',\n",
       "                                             'both', 'but', 'by', 'can',\n",
       "                                             'couldn', \"couldn't\", ...})),\n",
       "                ('nb_clf', OneVsRestClassifier(estimator=MultinomialNB()))])</pre></div></div></div><div class=\"sk-serial\"><div class=\"sk-item\"><div class=\"sk-estimator sk-toggleable\"><input class=\"sk-toggleable__control sk-hidden--visually\" id=\"ab225bd9-d6e0-4fbb-b450-6d8ebd557c8a\" type=\"checkbox\" ><label class=\"sk-toggleable__label\" for=\"ab225bd9-d6e0-4fbb-b450-6d8ebd557c8a\">TfidfVectorizer</label><div class=\"sk-toggleable__content\"><pre>TfidfVectorizer(stop_words={'a', 'about', 'above', 'after', 'again', 'against',\n",
       "                            'ain', 'all', 'am', 'an', 'and', 'any', 'are',\n",
       "                            'aren', \"aren't\", 'as', 'at', 'be', 'because',\n",
       "                            'been', 'before', 'being', 'below', 'between',\n",
       "                            'both', 'but', 'by', 'can', 'couldn', \"couldn't\", ...})</pre></div></div></div><div class=\"sk-item sk-dashed-wrapped\"><div class=\"sk-label-container\"><div class=\"sk-label sk-toggleable\"><input class=\"sk-toggleable__control sk-hidden--visually\" id=\"76339f94-85c9-4b1b-9b84-d0ac4346c5fb\" type=\"checkbox\" ><label class=\"sk-toggleable__label\" for=\"76339f94-85c9-4b1b-9b84-d0ac4346c5fb\">nb_clf: OneVsRestClassifier</label><div class=\"sk-toggleable__content\"><pre>OneVsRestClassifier(estimator=MultinomialNB())</pre></div></div></div><div class=\"sk-parallel\"><div class=\"sk-parallel-item\"><div class=\"sk-item\"><div class=\"sk-serial\"><div class=\"sk-item\"><div class=\"sk-estimator sk-toggleable\"><input class=\"sk-toggleable__control sk-hidden--visually\" id=\"052e265d-1fbd-4c3f-b584-e3195c7355c6\" type=\"checkbox\" ><label class=\"sk-toggleable__label\" for=\"052e265d-1fbd-4c3f-b584-e3195c7355c6\">MultinomialNB</label><div class=\"sk-toggleable__content\"><pre>MultinomialNB()</pre></div></div></div></div></div></div></div></div></div></div></div></div>"
      ],
      "text/plain": [
       "Pipeline(steps=[('tfidf',\n",
       "                 TfidfVectorizer(stop_words={'a', 'about', 'above', 'after',\n",
       "                                             'again', 'against', 'ain', 'all',\n",
       "                                             'am', 'an', 'and', 'any', 'are',\n",
       "                                             'aren', \"aren't\", 'as', 'at', 'be',\n",
       "                                             'because', 'been', 'before',\n",
       "                                             'being', 'below', 'between',\n",
       "                                             'both', 'but', 'by', 'can',\n",
       "                                             'couldn', \"couldn't\", ...})),\n",
       "                ('nb_clf', OneVsRestClassifier(estimator=MultinomialNB()))])"
      ]
     },
     "execution_count": 69,
     "metadata": {},
     "output_type": "execute_result"
    }
   ],
   "source": [
    "nb_pipe.fit(x_train,y_train)"
   ]
  },
  {
   "cell_type": "code",
   "execution_count": 70,
   "id": "d7d91603",
   "metadata": {},
   "outputs": [
    {
     "data": {
      "text/plain": [
       "array(['sports_&_gaming', 'pop_culture', 'sports_&_gaming', ...,\n",
       "       'pop_culture', 'sports_&_gaming', 'sports_&_gaming'], dtype='<U24')"
      ]
     },
     "execution_count": 70,
     "metadata": {},
     "output_type": "execute_result"
    }
   ],
   "source": [
    "y_pred=nb_pipe.predict(x_test)\n",
    "y_pred"
   ]
  },
  {
   "cell_type": "code",
   "execution_count": 71,
   "id": "9c39fb2a",
   "metadata": {},
   "outputs": [
    {
     "name": "stdout",
     "output_type": "stream",
     "text": [
      "Test accuracy is 0.7170201758923952\n"
     ]
    }
   ],
   "source": [
    "print('Test accuracy is {}'.format(accuracy_score(y_test, y_pred)))"
   ]
  },
  {
   "cell_type": "code",
   "execution_count": 72,
   "id": "87e6e97a",
   "metadata": {},
   "outputs": [
    {
     "name": "stdout",
     "output_type": "stream",
     "text": [
      "                          precision    recall  f1-score   support\n",
      "\n",
      "          arts_&_culture       0.00      0.00      0.00        44\n",
      "business_&_entrepreneurs       1.00      0.01      0.02        80\n",
      "              daily_life       0.94      0.12      0.21       256\n",
      "             pop_culture       0.68      0.91      0.78       785\n",
      "    science_&_technology       1.00      0.02      0.04       102\n",
      "         sports_&_gaming       0.75      0.95      0.84       666\n",
      "\n",
      "                accuracy                           0.72      1933\n",
      "               macro avg       0.73      0.34      0.32      1933\n",
      "            weighted avg       0.75      0.72      0.64      1933\n",
      "\n"
     ]
    },
    {
     "name": "stderr",
     "output_type": "stream",
     "text": [
      "C:\\Users\\hp\\AppData\\Roaming\\Python\\Python39\\site-packages\\sklearn\\metrics\\_classification.py:1308: UndefinedMetricWarning: Precision and F-score are ill-defined and being set to 0.0 in labels with no predicted samples. Use `zero_division` parameter to control this behavior.\n",
      "  _warn_prf(average, modifier, msg_start, len(result))\n",
      "C:\\Users\\hp\\AppData\\Roaming\\Python\\Python39\\site-packages\\sklearn\\metrics\\_classification.py:1308: UndefinedMetricWarning: Precision and F-score are ill-defined and being set to 0.0 in labels with no predicted samples. Use `zero_division` parameter to control this behavior.\n",
      "  _warn_prf(average, modifier, msg_start, len(result))\n",
      "C:\\Users\\hp\\AppData\\Roaming\\Python\\Python39\\site-packages\\sklearn\\metrics\\_classification.py:1308: UndefinedMetricWarning: Precision and F-score are ill-defined and being set to 0.0 in labels with no predicted samples. Use `zero_division` parameter to control this behavior.\n",
      "  _warn_prf(average, modifier, msg_start, len(result))\n"
     ]
    }
   ],
   "source": [
    "#print classification report\n",
    "print(classification_report(y_test,y_pred))"
   ]
  },
  {
   "attachments": {},
   "cell_type": "markdown",
   "id": "68c21df0",
   "metadata": {},
   "source": [
    "# Hyper perameter tuning in Mulinomial NB"
   ]
  },
  {
   "cell_type": "code",
   "execution_count": 73,
   "id": "8186fbef",
   "metadata": {},
   "outputs": [],
   "source": [
    "param_grid = {\n",
    "    'nb_clf__estimator__alpha': [1,2],\n",
    "    'nb_clf__estimator__class_prior':  ['balanced',None],\n",
    "}"
   ]
  },
  {
   "cell_type": "code",
   "execution_count": 74,
   "id": "acb46047",
   "metadata": {},
   "outputs": [],
   "source": [
    "grid_search=GridSearchCV(nb_pipe,param_grid=param_grid,n_jobs=-1)"
   ]
  },
  {
   "cell_type": "code",
   "execution_count": 75,
   "id": "7c720dda",
   "metadata": {},
   "outputs": [
    {
     "name": "stdout",
     "output_type": "stream",
     "text": [
      "dict_keys(['memory', 'steps', 'verbose', 'tfidf', 'nb_clf', 'tfidf__analyzer', 'tfidf__binary', 'tfidf__decode_error', 'tfidf__dtype', 'tfidf__encoding', 'tfidf__input', 'tfidf__lowercase', 'tfidf__max_df', 'tfidf__max_features', 'tfidf__min_df', 'tfidf__ngram_range', 'tfidf__norm', 'tfidf__preprocessor', 'tfidf__smooth_idf', 'tfidf__stop_words', 'tfidf__strip_accents', 'tfidf__sublinear_tf', 'tfidf__token_pattern', 'tfidf__tokenizer', 'tfidf__use_idf', 'tfidf__vocabulary', 'nb_clf__estimator__alpha', 'nb_clf__estimator__class_prior', 'nb_clf__estimator__fit_prior', 'nb_clf__estimator', 'nb_clf__n_jobs'])\n"
     ]
    }
   ],
   "source": [
    "print(nb_pipe.get_params().keys())"
   ]
  },
  {
   "cell_type": "code",
   "execution_count": 76,
   "id": "02cecdce",
   "metadata": {},
   "outputs": [
    {
     "name": "stderr",
     "output_type": "stream",
     "text": [
      "C:\\Users\\hp\\AppData\\Roaming\\Python\\Python39\\site-packages\\sklearn\\model_selection\\_validation.py:372: FitFailedWarning: \n",
      "10 fits failed out of a total of 20.\n",
      "The score on these train-test partitions for these parameters will be set to nan.\n",
      "If these failures are not expected, you can try to debug them by setting error_score='raise'.\n",
      "\n",
      "Below are more details about the failures:\n",
      "--------------------------------------------------------------------------------\n",
      "10 fits failed with the following error:\n",
      "Traceback (most recent call last):\n",
      "  File \"C:\\Users\\hp\\AppData\\Roaming\\Python\\Python39\\site-packages\\sklearn\\model_selection\\_validation.py\", line 681, in _fit_and_score\n",
      "    estimator.fit(X_train, y_train, **fit_params)\n",
      "  File \"C:\\Users\\hp\\AppData\\Roaming\\Python\\Python39\\site-packages\\sklearn\\pipeline.py\", line 394, in fit\n",
      "    self._final_estimator.fit(Xt, y, **fit_params_last_step)\n",
      "  File \"C:\\Users\\hp\\AppData\\Roaming\\Python\\Python39\\site-packages\\sklearn\\multiclass.py\", line 337, in fit\n",
      "    self.estimators_ = Parallel(n_jobs=self.n_jobs)(\n",
      "  File \"C:\\Users\\hp\\AppData\\Roaming\\Python\\Python39\\site-packages\\joblib\\parallel.py\", line 1041, in __call__\n",
      "    if self.dispatch_one_batch(iterator):\n",
      "  File \"C:\\Users\\hp\\AppData\\Roaming\\Python\\Python39\\site-packages\\joblib\\parallel.py\", line 859, in dispatch_one_batch\n",
      "    self._dispatch(tasks)\n",
      "  File \"C:\\Users\\hp\\AppData\\Roaming\\Python\\Python39\\site-packages\\joblib\\parallel.py\", line 777, in _dispatch\n",
      "    job = self._backend.apply_async(batch, callback=cb)\n",
      "  File \"C:\\Users\\hp\\AppData\\Roaming\\Python\\Python39\\site-packages\\joblib\\_parallel_backends.py\", line 208, in apply_async\n",
      "    result = ImmediateResult(func)\n",
      "  File \"C:\\Users\\hp\\AppData\\Roaming\\Python\\Python39\\site-packages\\joblib\\_parallel_backends.py\", line 572, in __init__\n",
      "    self.results = batch()\n",
      "  File \"C:\\Users\\hp\\AppData\\Roaming\\Python\\Python39\\site-packages\\joblib\\parallel.py\", line 262, in __call__\n",
      "    return [func(*args, **kwargs)\n",
      "  File \"C:\\Users\\hp\\AppData\\Roaming\\Python\\Python39\\site-packages\\joblib\\parallel.py\", line 262, in <listcomp>\n",
      "    return [func(*args, **kwargs)\n",
      "  File \"C:\\Users\\hp\\AppData\\Roaming\\Python\\Python39\\site-packages\\sklearn\\utils\\fixes.py\", line 209, in __call__\n",
      "    return self.function(*args, **kwargs)\n",
      "  File \"C:\\Users\\hp\\AppData\\Roaming\\Python\\Python39\\site-packages\\sklearn\\multiclass.py\", line 85, in _fit_binary\n",
      "    estimator.fit(X, y)\n",
      "  File \"C:\\Users\\hp\\AppData\\Roaming\\Python\\Python39\\site-packages\\sklearn\\naive_bayes.py\", line 693, in fit\n",
      "    self._update_class_log_prior(class_prior=class_prior)\n",
      "  File \"C:\\Users\\hp\\AppData\\Roaming\\Python\\Python39\\site-packages\\sklearn\\naive_bayes.py\", line 529, in _update_class_log_prior\n",
      "    raise ValueError(\"Number of priors must match number of classes.\")\n",
      "ValueError: Number of priors must match number of classes.\n",
      "\n",
      "  warnings.warn(some_fits_failed_message, FitFailedWarning)\n",
      "C:\\Users\\hp\\AppData\\Roaming\\Python\\Python39\\site-packages\\sklearn\\model_selection\\_search.py:969: UserWarning: One or more of the test scores are non-finite: [       nan 0.71419069        nan 0.70354767]\n",
      "  warnings.warn(\n"
     ]
    },
    {
     "data": {
      "text/html": [
       "<style>#sk-901767d5-b151-48f2-a464-f4767176403d {color: black;background-color: white;}#sk-901767d5-b151-48f2-a464-f4767176403d pre{padding: 0;}#sk-901767d5-b151-48f2-a464-f4767176403d div.sk-toggleable {background-color: white;}#sk-901767d5-b151-48f2-a464-f4767176403d label.sk-toggleable__label {cursor: pointer;display: block;width: 100%;margin-bottom: 0;padding: 0.3em;box-sizing: border-box;text-align: center;}#sk-901767d5-b151-48f2-a464-f4767176403d div.sk-toggleable__content {max-height: 0;max-width: 0;overflow: hidden;text-align: left;background-color: #f0f8ff;}#sk-901767d5-b151-48f2-a464-f4767176403d div.sk-toggleable__content pre {margin: 0.2em;color: black;border-radius: 0.25em;background-color: #f0f8ff;}#sk-901767d5-b151-48f2-a464-f4767176403d input.sk-toggleable__control:checked~div.sk-toggleable__content {max-height: 200px;max-width: 100%;overflow: auto;}#sk-901767d5-b151-48f2-a464-f4767176403d div.sk-estimator input.sk-toggleable__control:checked~label.sk-toggleable__label {background-color: #d4ebff;}#sk-901767d5-b151-48f2-a464-f4767176403d div.sk-label input.sk-toggleable__control:checked~label.sk-toggleable__label {background-color: #d4ebff;}#sk-901767d5-b151-48f2-a464-f4767176403d input.sk-hidden--visually {border: 0;clip: rect(1px 1px 1px 1px);clip: rect(1px, 1px, 1px, 1px);height: 1px;margin: -1px;overflow: hidden;padding: 0;position: absolute;width: 1px;}#sk-901767d5-b151-48f2-a464-f4767176403d div.sk-estimator {font-family: monospace;background-color: #f0f8ff;border: 1px dotted black;border-radius: 0.25em;box-sizing: border-box;margin-bottom: 0.5em;}#sk-901767d5-b151-48f2-a464-f4767176403d div.sk-estimator:hover {background-color: #d4ebff;}#sk-901767d5-b151-48f2-a464-f4767176403d div.sk-parallel-item::after {content: \"\";width: 100%;border-bottom: 1px solid gray;flex-grow: 1;}#sk-901767d5-b151-48f2-a464-f4767176403d div.sk-label:hover label.sk-toggleable__label {background-color: #d4ebff;}#sk-901767d5-b151-48f2-a464-f4767176403d div.sk-serial::before {content: \"\";position: absolute;border-left: 1px solid gray;box-sizing: border-box;top: 2em;bottom: 0;left: 50%;}#sk-901767d5-b151-48f2-a464-f4767176403d div.sk-serial {display: flex;flex-direction: column;align-items: center;background-color: white;padding-right: 0.2em;padding-left: 0.2em;}#sk-901767d5-b151-48f2-a464-f4767176403d div.sk-item {z-index: 1;}#sk-901767d5-b151-48f2-a464-f4767176403d div.sk-parallel {display: flex;align-items: stretch;justify-content: center;background-color: white;}#sk-901767d5-b151-48f2-a464-f4767176403d div.sk-parallel::before {content: \"\";position: absolute;border-left: 1px solid gray;box-sizing: border-box;top: 2em;bottom: 0;left: 50%;}#sk-901767d5-b151-48f2-a464-f4767176403d div.sk-parallel-item {display: flex;flex-direction: column;position: relative;background-color: white;}#sk-901767d5-b151-48f2-a464-f4767176403d div.sk-parallel-item:first-child::after {align-self: flex-end;width: 50%;}#sk-901767d5-b151-48f2-a464-f4767176403d div.sk-parallel-item:last-child::after {align-self: flex-start;width: 50%;}#sk-901767d5-b151-48f2-a464-f4767176403d div.sk-parallel-item:only-child::after {width: 0;}#sk-901767d5-b151-48f2-a464-f4767176403d div.sk-dashed-wrapped {border: 1px dashed gray;margin: 0 0.4em 0.5em 0.4em;box-sizing: border-box;padding-bottom: 0.4em;background-color: white;position: relative;}#sk-901767d5-b151-48f2-a464-f4767176403d div.sk-label label {font-family: monospace;font-weight: bold;background-color: white;display: inline-block;line-height: 1.2em;}#sk-901767d5-b151-48f2-a464-f4767176403d div.sk-label-container {position: relative;z-index: 2;text-align: center;}#sk-901767d5-b151-48f2-a464-f4767176403d div.sk-container {display: inline-block;position: relative;}</style><div id=\"sk-901767d5-b151-48f2-a464-f4767176403d\" class\"sk-top-container\"><div class=\"sk-container\"><div class=\"sk-item sk-dashed-wrapped\"><div class=\"sk-label-container\"><div class=\"sk-label sk-toggleable\"><input class=\"sk-toggleable__control sk-hidden--visually\" id=\"1702c32f-5335-49bc-90a4-5ab8558f38c7\" type=\"checkbox\" ><label class=\"sk-toggleable__label\" for=\"1702c32f-5335-49bc-90a4-5ab8558f38c7\">GridSearchCV</label><div class=\"sk-toggleable__content\"><pre>GridSearchCV(estimator=Pipeline(steps=[('tfidf',\n",
       "                                        TfidfVectorizer(stop_words={'a',\n",
       "                                                                    'about',\n",
       "                                                                    'above',\n",
       "                                                                    'after',\n",
       "                                                                    'again',\n",
       "                                                                    'against',\n",
       "                                                                    'ain',\n",
       "                                                                    'all', 'am',\n",
       "                                                                    'an', 'and',\n",
       "                                                                    'any',\n",
       "                                                                    'are',\n",
       "                                                                    'aren',\n",
       "                                                                    \"aren't\",\n",
       "                                                                    'as', 'at',\n",
       "                                                                    'be',\n",
       "                                                                    'because',\n",
       "                                                                    'been',\n",
       "                                                                    'before',\n",
       "                                                                    'being',\n",
       "                                                                    'below',\n",
       "                                                                    'between',\n",
       "                                                                    'both',\n",
       "                                                                    'but', 'by',\n",
       "                                                                    'can',\n",
       "                                                                    'couldn',\n",
       "                                                                    \"couldn't\", ...})),\n",
       "                                       ('nb_clf',\n",
       "                                        OneVsRestClassifier(estimator=MultinomialNB()))]),\n",
       "             n_jobs=-1,\n",
       "             param_grid={'nb_clf__estimator__alpha': [1, 2],\n",
       "                         'nb_clf__estimator__class_prior': ['balanced', None]})</pre></div></div></div><div class=\"sk-parallel\"><div class=\"sk-parallel-item\"><div class=\"sk-item\"><div class=\"sk-serial\"><div class=\"sk-item\"><div class=\"sk-serial\"><div class=\"sk-item\"><div class=\"sk-estimator sk-toggleable\"><input class=\"sk-toggleable__control sk-hidden--visually\" id=\"131bc20e-4254-44f9-b448-aa2328e8ae66\" type=\"checkbox\" ><label class=\"sk-toggleable__label\" for=\"131bc20e-4254-44f9-b448-aa2328e8ae66\">TfidfVectorizer</label><div class=\"sk-toggleable__content\"><pre>TfidfVectorizer(stop_words={'a', 'about', 'above', 'after', 'again', 'against',\n",
       "                            'ain', 'all', 'am', 'an', 'and', 'any', 'are',\n",
       "                            'aren', \"aren't\", 'as', 'at', 'be', 'because',\n",
       "                            'been', 'before', 'being', 'below', 'between',\n",
       "                            'both', 'but', 'by', 'can', 'couldn', \"couldn't\", ...})</pre></div></div></div><div class=\"sk-item sk-dashed-wrapped\"><div class=\"sk-label-container\"><div class=\"sk-label sk-toggleable\"><input class=\"sk-toggleable__control sk-hidden--visually\" id=\"a8a2e667-42ae-48a6-a507-98bc0e59a24b\" type=\"checkbox\" ><label class=\"sk-toggleable__label\" for=\"a8a2e667-42ae-48a6-a507-98bc0e59a24b\">nb_clf: OneVsRestClassifier</label><div class=\"sk-toggleable__content\"><pre>OneVsRestClassifier(estimator=MultinomialNB())</pre></div></div></div><div class=\"sk-parallel\"><div class=\"sk-parallel-item\"><div class=\"sk-item\"><div class=\"sk-serial\"><div class=\"sk-item\"><div class=\"sk-estimator sk-toggleable\"><input class=\"sk-toggleable__control sk-hidden--visually\" id=\"89f12d11-ea7c-44e2-a9ac-9ba5ea5d5b72\" type=\"checkbox\" ><label class=\"sk-toggleable__label\" for=\"89f12d11-ea7c-44e2-a9ac-9ba5ea5d5b72\">MultinomialNB</label><div class=\"sk-toggleable__content\"><pre>MultinomialNB()</pre></div></div></div></div></div></div></div></div></div></div></div></div></div></div></div></div></div>"
      ],
      "text/plain": [
       "GridSearchCV(estimator=Pipeline(steps=[('tfidf',\n",
       "                                        TfidfVectorizer(stop_words={'a',\n",
       "                                                                    'about',\n",
       "                                                                    'above',\n",
       "                                                                    'after',\n",
       "                                                                    'again',\n",
       "                                                                    'against',\n",
       "                                                                    'ain',\n",
       "                                                                    'all', 'am',\n",
       "                                                                    'an', 'and',\n",
       "                                                                    'any',\n",
       "                                                                    'are',\n",
       "                                                                    'aren',\n",
       "                                                                    \"aren't\",\n",
       "                                                                    'as', 'at',\n",
       "                                                                    'be',\n",
       "                                                                    'because',\n",
       "                                                                    'been',\n",
       "                                                                    'before',\n",
       "                                                                    'being',\n",
       "                                                                    'below',\n",
       "                                                                    'between',\n",
       "                                                                    'both',\n",
       "                                                                    'but', 'by',\n",
       "                                                                    'can',\n",
       "                                                                    'couldn',\n",
       "                                                                    \"couldn't\", ...})),\n",
       "                                       ('nb_clf',\n",
       "                                        OneVsRestClassifier(estimator=MultinomialNB()))]),\n",
       "             n_jobs=-1,\n",
       "             param_grid={'nb_clf__estimator__alpha': [1, 2],\n",
       "                         'nb_clf__estimator__class_prior': ['balanced', None]})"
      ]
     },
     "execution_count": 76,
     "metadata": {},
     "output_type": "execute_result"
    }
   ],
   "source": [
    "grid_search.fit(x_train,y_train)"
   ]
  },
  {
   "cell_type": "code",
   "execution_count": 77,
   "id": "bd832de1",
   "metadata": {},
   "outputs": [
    {
     "data": {
      "text/plain": [
       "{'nb_clf__estimator__alpha': 1, 'nb_clf__estimator__class_prior': None}"
      ]
     },
     "execution_count": 77,
     "metadata": {},
     "output_type": "execute_result"
    }
   ],
   "source": [
    "grid_search.best_params_"
   ]
  },
  {
   "cell_type": "code",
   "execution_count": 78,
   "id": "96409507",
   "metadata": {},
   "outputs": [],
   "source": [
    "nb_pipe=Pipeline(\n",
    "    steps=[\n",
    "        ('tfidf', TfidfVectorizer(stop_words=stop_words)),\n",
    "        ('nb_clf', OneVsRestClassifier(MultinomialNB(alpha=1,fit_prior=True,class_prior=None))),\n",
    "    ]\n",
    ")"
   ]
  },
  {
   "cell_type": "code",
   "execution_count": 79,
   "id": "0989038c",
   "metadata": {},
   "outputs": [
    {
     "name": "stdout",
     "output_type": "stream",
     "text": [
      "Test accuracy is 0.7170201758923952\n"
     ]
    }
   ],
   "source": [
    "print('Test accuracy is {}'.format(accuracy_score(y_test, y_pred)))"
   ]
  },
  {
   "cell_type": "code",
   "execution_count": 80,
   "id": "b2fe8b24",
   "metadata": {},
   "outputs": [
    {
     "name": "stdout",
     "output_type": "stream",
     "text": [
      "                          precision    recall  f1-score   support\n",
      "\n",
      "          arts_&_culture       0.67      0.18      0.29        44\n",
      "business_&_entrepreneurs       0.76      0.46      0.57        80\n",
      "              daily_life       0.64      0.56      0.60       256\n",
      "             pop_culture       0.82      0.89      0.85       785\n",
      "    science_&_technology       0.83      0.48      0.61       102\n",
      "         sports_&_gaming       0.84      0.94      0.89       666\n",
      "\n",
      "                accuracy                           0.81      1933\n",
      "               macro avg       0.76      0.58      0.63      1933\n",
      "            weighted avg       0.80      0.81      0.79      1933\n",
      "\n"
     ]
    }
   ],
   "source": [
    "\n",
    "#print classification report\n",
    "y_pred=linear_svc_pipe.predict(x_test)\n",
    "print(classification_report(y_test,y_pred))\n"
   ]
  },
  {
   "attachments": {},
   "cell_type": "markdown",
   "id": "20eee6f9",
   "metadata": {},
   "source": [
    "# Final Table"
   ]
  },
  {
   "attachments": {},
   "cell_type": "markdown",
   "id": "cc4071af",
   "metadata": {},
   "source": [
    "| Model Name | Accuracy | Accuracy After Tuning |\n",
    "| :- | -: | :-: |\n",
    "| Logistic Regression | 0.7661665804449043 | 0.8023797206414899 |\n",
    "| SVC | 0.8023797206414899 | 0.8054837040869115 |\n",
    "| Naive Baye Multinomial | 0.7170201758923952 | 0.7170201758923952 |"
   ]
  },
  {
   "cell_type": "code",
   "execution_count": null,
   "id": "e5716090",
   "metadata": {},
   "outputs": [],
   "source": []
  }
 ],
 "metadata": {
  "kernelspec": {
   "display_name": "Python 3 (ipykernel)",
   "language": "python",
   "name": "python3"
  },
  "language_info": {
   "codemirror_mode": {
    "name": "ipython",
    "version": 3
   },
   "file_extension": ".py",
   "mimetype": "text/x-python",
   "name": "python",
   "nbconvert_exporter": "python",
   "pygments_lexer": "ipython3",
   "version": "3.8.10"
  }
 },
 "nbformat": 4,
 "nbformat_minor": 5
}
